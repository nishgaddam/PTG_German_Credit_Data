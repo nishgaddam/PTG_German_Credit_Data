{
 "cells": [
  {
   "cell_type": "markdown",
   "metadata": {},
   "source": [
    "# Reading and Understanding the data"
   ]
  },
  {
   "cell_type": "markdown",
   "metadata": {},
   "source": [
    "Required libraries"
   ]
  },
  {
   "cell_type": "code",
   "execution_count": 1,
   "metadata": {},
   "outputs": [],
   "source": [
    "import numpy as np #linear algebra\n",
    "import pandas as pd #Data Processing"
   ]
  },
  {
   "cell_type": "markdown",
   "metadata": {},
   "source": [
    "Reading the Database"
   ]
  },
  {
   "cell_type": "code",
   "execution_count": 2,
   "metadata": {
    "scrolled": true
   },
   "outputs": [],
   "source": [
    "#path_German = \"/Users/gaddamnitish/Desktop/default_of_credit_card_clients.xls\"\n",
    "path_German = \"/Users/gaddamnitish/Desktop/PTG/PTG_German_Credit_Data/default_of_credit_card_clients.xls\"\n",
    "data_German = pd.read_excel(path_German, skiprows=1)\n",
    "#Setting the first row as header\n",
    "#data_German = data_German.rename(columns=data_German.iloc[0]) #I locked the first row to be the header"
   ]
  },
  {
   "cell_type": "markdown",
   "metadata": {},
   "source": [
    "Displaying the first 5 rows of the excelsheet...bill amt behind pay amt"
   ]
  },
  {
   "cell_type": "code",
   "execution_count": 3,
   "metadata": {},
   "outputs": [
    {
     "data": {
      "text/html": [
       "<div>\n",
       "<style scoped>\n",
       "    .dataframe tbody tr th:only-of-type {\n",
       "        vertical-align: middle;\n",
       "    }\n",
       "\n",
       "    .dataframe tbody tr th {\n",
       "        vertical-align: top;\n",
       "    }\n",
       "\n",
       "    .dataframe thead th {\n",
       "        text-align: right;\n",
       "    }\n",
       "</style>\n",
       "<table border=\"1\" class=\"dataframe\">\n",
       "  <thead>\n",
       "    <tr style=\"text-align: right;\">\n",
       "      <th></th>\n",
       "      <th>ID</th>\n",
       "      <th>LIMIT_BAL</th>\n",
       "      <th>SEX</th>\n",
       "      <th>EDUCATION</th>\n",
       "      <th>MARRIAGE</th>\n",
       "      <th>AGE</th>\n",
       "      <th>PAY_0</th>\n",
       "      <th>PAY_2</th>\n",
       "      <th>PAY_3</th>\n",
       "      <th>PAY_4</th>\n",
       "      <th>...</th>\n",
       "      <th>BILL_AMT4</th>\n",
       "      <th>BILL_AMT5</th>\n",
       "      <th>BILL_AMT6</th>\n",
       "      <th>PAY_AMT1</th>\n",
       "      <th>PAY_AMT2</th>\n",
       "      <th>PAY_AMT3</th>\n",
       "      <th>PAY_AMT4</th>\n",
       "      <th>PAY_AMT5</th>\n",
       "      <th>PAY_AMT6</th>\n",
       "      <th>default payment next month</th>\n",
       "    </tr>\n",
       "  </thead>\n",
       "  <tbody>\n",
       "    <tr>\n",
       "      <th>0</th>\n",
       "      <td>1</td>\n",
       "      <td>20000</td>\n",
       "      <td>2</td>\n",
       "      <td>2</td>\n",
       "      <td>1</td>\n",
       "      <td>24</td>\n",
       "      <td>2</td>\n",
       "      <td>2</td>\n",
       "      <td>-1</td>\n",
       "      <td>-1</td>\n",
       "      <td>...</td>\n",
       "      <td>0</td>\n",
       "      <td>0</td>\n",
       "      <td>0</td>\n",
       "      <td>0</td>\n",
       "      <td>689</td>\n",
       "      <td>0</td>\n",
       "      <td>0</td>\n",
       "      <td>0</td>\n",
       "      <td>0</td>\n",
       "      <td>1</td>\n",
       "    </tr>\n",
       "    <tr>\n",
       "      <th>1</th>\n",
       "      <td>2</td>\n",
       "      <td>120000</td>\n",
       "      <td>2</td>\n",
       "      <td>2</td>\n",
       "      <td>2</td>\n",
       "      <td>26</td>\n",
       "      <td>-1</td>\n",
       "      <td>2</td>\n",
       "      <td>0</td>\n",
       "      <td>0</td>\n",
       "      <td>...</td>\n",
       "      <td>3272</td>\n",
       "      <td>3455</td>\n",
       "      <td>3261</td>\n",
       "      <td>0</td>\n",
       "      <td>1000</td>\n",
       "      <td>1000</td>\n",
       "      <td>1000</td>\n",
       "      <td>0</td>\n",
       "      <td>2000</td>\n",
       "      <td>1</td>\n",
       "    </tr>\n",
       "    <tr>\n",
       "      <th>2</th>\n",
       "      <td>3</td>\n",
       "      <td>90000</td>\n",
       "      <td>2</td>\n",
       "      <td>2</td>\n",
       "      <td>2</td>\n",
       "      <td>34</td>\n",
       "      <td>0</td>\n",
       "      <td>0</td>\n",
       "      <td>0</td>\n",
       "      <td>0</td>\n",
       "      <td>...</td>\n",
       "      <td>14331</td>\n",
       "      <td>14948</td>\n",
       "      <td>15549</td>\n",
       "      <td>1518</td>\n",
       "      <td>1500</td>\n",
       "      <td>1000</td>\n",
       "      <td>1000</td>\n",
       "      <td>1000</td>\n",
       "      <td>5000</td>\n",
       "      <td>0</td>\n",
       "    </tr>\n",
       "    <tr>\n",
       "      <th>3</th>\n",
       "      <td>4</td>\n",
       "      <td>50000</td>\n",
       "      <td>2</td>\n",
       "      <td>2</td>\n",
       "      <td>1</td>\n",
       "      <td>37</td>\n",
       "      <td>0</td>\n",
       "      <td>0</td>\n",
       "      <td>0</td>\n",
       "      <td>0</td>\n",
       "      <td>...</td>\n",
       "      <td>28314</td>\n",
       "      <td>28959</td>\n",
       "      <td>29547</td>\n",
       "      <td>2000</td>\n",
       "      <td>2019</td>\n",
       "      <td>1200</td>\n",
       "      <td>1100</td>\n",
       "      <td>1069</td>\n",
       "      <td>1000</td>\n",
       "      <td>0</td>\n",
       "    </tr>\n",
       "    <tr>\n",
       "      <th>4</th>\n",
       "      <td>5</td>\n",
       "      <td>50000</td>\n",
       "      <td>1</td>\n",
       "      <td>2</td>\n",
       "      <td>1</td>\n",
       "      <td>57</td>\n",
       "      <td>-1</td>\n",
       "      <td>0</td>\n",
       "      <td>-1</td>\n",
       "      <td>0</td>\n",
       "      <td>...</td>\n",
       "      <td>20940</td>\n",
       "      <td>19146</td>\n",
       "      <td>19131</td>\n",
       "      <td>2000</td>\n",
       "      <td>36681</td>\n",
       "      <td>10000</td>\n",
       "      <td>9000</td>\n",
       "      <td>689</td>\n",
       "      <td>679</td>\n",
       "      <td>0</td>\n",
       "    </tr>\n",
       "  </tbody>\n",
       "</table>\n",
       "<p>5 rows × 25 columns</p>\n",
       "</div>"
      ],
      "text/plain": [
       "   ID  LIMIT_BAL  SEX  EDUCATION  MARRIAGE  AGE  PAY_0  PAY_2  PAY_3  PAY_4  \\\n",
       "0   1      20000    2          2         1   24      2      2     -1     -1   \n",
       "1   2     120000    2          2         2   26     -1      2      0      0   \n",
       "2   3      90000    2          2         2   34      0      0      0      0   \n",
       "3   4      50000    2          2         1   37      0      0      0      0   \n",
       "4   5      50000    1          2         1   57     -1      0     -1      0   \n",
       "\n",
       "              ...              BILL_AMT4  BILL_AMT5  BILL_AMT6  PAY_AMT1  \\\n",
       "0             ...                      0          0          0         0   \n",
       "1             ...                   3272       3455       3261         0   \n",
       "2             ...                  14331      14948      15549      1518   \n",
       "3             ...                  28314      28959      29547      2000   \n",
       "4             ...                  20940      19146      19131      2000   \n",
       "\n",
       "   PAY_AMT2  PAY_AMT3  PAY_AMT4  PAY_AMT5  PAY_AMT6  \\\n",
       "0       689         0         0         0         0   \n",
       "1      1000      1000      1000         0      2000   \n",
       "2      1500      1000      1000      1000      5000   \n",
       "3      2019      1200      1100      1069      1000   \n",
       "4     36681     10000      9000       689       679   \n",
       "\n",
       "   default payment next month  \n",
       "0                           1  \n",
       "1                           1  \n",
       "2                           0  \n",
       "3                           0  \n",
       "4                           0  \n",
       "\n",
       "[5 rows x 25 columns]"
      ]
     },
     "execution_count": 3,
     "metadata": {},
     "output_type": "execute_result"
    }
   ],
   "source": [
    "data_German.head()"
   ]
  },
  {
   "cell_type": "markdown",
   "metadata": {},
   "source": [
    "Dataset Basic Description and attributes(Count, Frequency etc)"
   ]
  },
  {
   "cell_type": "code",
   "execution_count": 4,
   "metadata": {},
   "outputs": [
    {
     "data": {
      "text/html": [
       "<div>\n",
       "<style scoped>\n",
       "    .dataframe tbody tr th:only-of-type {\n",
       "        vertical-align: middle;\n",
       "    }\n",
       "\n",
       "    .dataframe tbody tr th {\n",
       "        vertical-align: top;\n",
       "    }\n",
       "\n",
       "    .dataframe thead th {\n",
       "        text-align: right;\n",
       "    }\n",
       "</style>\n",
       "<table border=\"1\" class=\"dataframe\">\n",
       "  <thead>\n",
       "    <tr style=\"text-align: right;\">\n",
       "      <th></th>\n",
       "      <th>ID</th>\n",
       "      <th>LIMIT_BAL</th>\n",
       "      <th>SEX</th>\n",
       "      <th>EDUCATION</th>\n",
       "      <th>MARRIAGE</th>\n",
       "      <th>AGE</th>\n",
       "      <th>PAY_0</th>\n",
       "      <th>PAY_2</th>\n",
       "      <th>PAY_3</th>\n",
       "      <th>PAY_4</th>\n",
       "      <th>...</th>\n",
       "      <th>BILL_AMT4</th>\n",
       "      <th>BILL_AMT5</th>\n",
       "      <th>BILL_AMT6</th>\n",
       "      <th>PAY_AMT1</th>\n",
       "      <th>PAY_AMT2</th>\n",
       "      <th>PAY_AMT3</th>\n",
       "      <th>PAY_AMT4</th>\n",
       "      <th>PAY_AMT5</th>\n",
       "      <th>PAY_AMT6</th>\n",
       "      <th>default payment next month</th>\n",
       "    </tr>\n",
       "  </thead>\n",
       "  <tbody>\n",
       "    <tr>\n",
       "      <th>count</th>\n",
       "      <td>30000.000000</td>\n",
       "      <td>30000.000000</td>\n",
       "      <td>30000.000000</td>\n",
       "      <td>30000.000000</td>\n",
       "      <td>30000.000000</td>\n",
       "      <td>30000.000000</td>\n",
       "      <td>30000.000000</td>\n",
       "      <td>30000.000000</td>\n",
       "      <td>30000.000000</td>\n",
       "      <td>30000.000000</td>\n",
       "      <td>...</td>\n",
       "      <td>30000.000000</td>\n",
       "      <td>30000.000000</td>\n",
       "      <td>30000.000000</td>\n",
       "      <td>30000.000000</td>\n",
       "      <td>3.000000e+04</td>\n",
       "      <td>30000.00000</td>\n",
       "      <td>30000.000000</td>\n",
       "      <td>30000.000000</td>\n",
       "      <td>30000.000000</td>\n",
       "      <td>30000.000000</td>\n",
       "    </tr>\n",
       "    <tr>\n",
       "      <th>mean</th>\n",
       "      <td>15000.500000</td>\n",
       "      <td>167484.322667</td>\n",
       "      <td>1.603733</td>\n",
       "      <td>1.853133</td>\n",
       "      <td>1.551867</td>\n",
       "      <td>35.485500</td>\n",
       "      <td>-0.016700</td>\n",
       "      <td>-0.133767</td>\n",
       "      <td>-0.166200</td>\n",
       "      <td>-0.220667</td>\n",
       "      <td>...</td>\n",
       "      <td>43262.948967</td>\n",
       "      <td>40311.400967</td>\n",
       "      <td>38871.760400</td>\n",
       "      <td>5663.580500</td>\n",
       "      <td>5.921163e+03</td>\n",
       "      <td>5225.68150</td>\n",
       "      <td>4826.076867</td>\n",
       "      <td>4799.387633</td>\n",
       "      <td>5215.502567</td>\n",
       "      <td>0.221200</td>\n",
       "    </tr>\n",
       "    <tr>\n",
       "      <th>std</th>\n",
       "      <td>8660.398374</td>\n",
       "      <td>129747.661567</td>\n",
       "      <td>0.489129</td>\n",
       "      <td>0.790349</td>\n",
       "      <td>0.521970</td>\n",
       "      <td>9.217904</td>\n",
       "      <td>1.123802</td>\n",
       "      <td>1.197186</td>\n",
       "      <td>1.196868</td>\n",
       "      <td>1.169139</td>\n",
       "      <td>...</td>\n",
       "      <td>64332.856134</td>\n",
       "      <td>60797.155770</td>\n",
       "      <td>59554.107537</td>\n",
       "      <td>16563.280354</td>\n",
       "      <td>2.304087e+04</td>\n",
       "      <td>17606.96147</td>\n",
       "      <td>15666.159744</td>\n",
       "      <td>15278.305679</td>\n",
       "      <td>17777.465775</td>\n",
       "      <td>0.415062</td>\n",
       "    </tr>\n",
       "    <tr>\n",
       "      <th>min</th>\n",
       "      <td>1.000000</td>\n",
       "      <td>10000.000000</td>\n",
       "      <td>1.000000</td>\n",
       "      <td>0.000000</td>\n",
       "      <td>0.000000</td>\n",
       "      <td>21.000000</td>\n",
       "      <td>-2.000000</td>\n",
       "      <td>-2.000000</td>\n",
       "      <td>-2.000000</td>\n",
       "      <td>-2.000000</td>\n",
       "      <td>...</td>\n",
       "      <td>-170000.000000</td>\n",
       "      <td>-81334.000000</td>\n",
       "      <td>-339603.000000</td>\n",
       "      <td>0.000000</td>\n",
       "      <td>0.000000e+00</td>\n",
       "      <td>0.00000</td>\n",
       "      <td>0.000000</td>\n",
       "      <td>0.000000</td>\n",
       "      <td>0.000000</td>\n",
       "      <td>0.000000</td>\n",
       "    </tr>\n",
       "    <tr>\n",
       "      <th>25%</th>\n",
       "      <td>7500.750000</td>\n",
       "      <td>50000.000000</td>\n",
       "      <td>1.000000</td>\n",
       "      <td>1.000000</td>\n",
       "      <td>1.000000</td>\n",
       "      <td>28.000000</td>\n",
       "      <td>-1.000000</td>\n",
       "      <td>-1.000000</td>\n",
       "      <td>-1.000000</td>\n",
       "      <td>-1.000000</td>\n",
       "      <td>...</td>\n",
       "      <td>2326.750000</td>\n",
       "      <td>1763.000000</td>\n",
       "      <td>1256.000000</td>\n",
       "      <td>1000.000000</td>\n",
       "      <td>8.330000e+02</td>\n",
       "      <td>390.00000</td>\n",
       "      <td>296.000000</td>\n",
       "      <td>252.500000</td>\n",
       "      <td>117.750000</td>\n",
       "      <td>0.000000</td>\n",
       "    </tr>\n",
       "    <tr>\n",
       "      <th>50%</th>\n",
       "      <td>15000.500000</td>\n",
       "      <td>140000.000000</td>\n",
       "      <td>2.000000</td>\n",
       "      <td>2.000000</td>\n",
       "      <td>2.000000</td>\n",
       "      <td>34.000000</td>\n",
       "      <td>0.000000</td>\n",
       "      <td>0.000000</td>\n",
       "      <td>0.000000</td>\n",
       "      <td>0.000000</td>\n",
       "      <td>...</td>\n",
       "      <td>19052.000000</td>\n",
       "      <td>18104.500000</td>\n",
       "      <td>17071.000000</td>\n",
       "      <td>2100.000000</td>\n",
       "      <td>2.009000e+03</td>\n",
       "      <td>1800.00000</td>\n",
       "      <td>1500.000000</td>\n",
       "      <td>1500.000000</td>\n",
       "      <td>1500.000000</td>\n",
       "      <td>0.000000</td>\n",
       "    </tr>\n",
       "    <tr>\n",
       "      <th>75%</th>\n",
       "      <td>22500.250000</td>\n",
       "      <td>240000.000000</td>\n",
       "      <td>2.000000</td>\n",
       "      <td>2.000000</td>\n",
       "      <td>2.000000</td>\n",
       "      <td>41.000000</td>\n",
       "      <td>0.000000</td>\n",
       "      <td>0.000000</td>\n",
       "      <td>0.000000</td>\n",
       "      <td>0.000000</td>\n",
       "      <td>...</td>\n",
       "      <td>54506.000000</td>\n",
       "      <td>50190.500000</td>\n",
       "      <td>49198.250000</td>\n",
       "      <td>5006.000000</td>\n",
       "      <td>5.000000e+03</td>\n",
       "      <td>4505.00000</td>\n",
       "      <td>4013.250000</td>\n",
       "      <td>4031.500000</td>\n",
       "      <td>4000.000000</td>\n",
       "      <td>0.000000</td>\n",
       "    </tr>\n",
       "    <tr>\n",
       "      <th>max</th>\n",
       "      <td>30000.000000</td>\n",
       "      <td>1000000.000000</td>\n",
       "      <td>2.000000</td>\n",
       "      <td>6.000000</td>\n",
       "      <td>3.000000</td>\n",
       "      <td>79.000000</td>\n",
       "      <td>8.000000</td>\n",
       "      <td>8.000000</td>\n",
       "      <td>8.000000</td>\n",
       "      <td>8.000000</td>\n",
       "      <td>...</td>\n",
       "      <td>891586.000000</td>\n",
       "      <td>927171.000000</td>\n",
       "      <td>961664.000000</td>\n",
       "      <td>873552.000000</td>\n",
       "      <td>1.684259e+06</td>\n",
       "      <td>896040.00000</td>\n",
       "      <td>621000.000000</td>\n",
       "      <td>426529.000000</td>\n",
       "      <td>528666.000000</td>\n",
       "      <td>1.000000</td>\n",
       "    </tr>\n",
       "  </tbody>\n",
       "</table>\n",
       "<p>8 rows × 25 columns</p>\n",
       "</div>"
      ],
      "text/plain": [
       "                 ID       LIMIT_BAL           SEX     EDUCATION      MARRIAGE  \\\n",
       "count  30000.000000    30000.000000  30000.000000  30000.000000  30000.000000   \n",
       "mean   15000.500000   167484.322667      1.603733      1.853133      1.551867   \n",
       "std     8660.398374   129747.661567      0.489129      0.790349      0.521970   \n",
       "min        1.000000    10000.000000      1.000000      0.000000      0.000000   \n",
       "25%     7500.750000    50000.000000      1.000000      1.000000      1.000000   \n",
       "50%    15000.500000   140000.000000      2.000000      2.000000      2.000000   \n",
       "75%    22500.250000   240000.000000      2.000000      2.000000      2.000000   \n",
       "max    30000.000000  1000000.000000      2.000000      6.000000      3.000000   \n",
       "\n",
       "                AGE         PAY_0         PAY_2         PAY_3         PAY_4  \\\n",
       "count  30000.000000  30000.000000  30000.000000  30000.000000  30000.000000   \n",
       "mean      35.485500     -0.016700     -0.133767     -0.166200     -0.220667   \n",
       "std        9.217904      1.123802      1.197186      1.196868      1.169139   \n",
       "min       21.000000     -2.000000     -2.000000     -2.000000     -2.000000   \n",
       "25%       28.000000     -1.000000     -1.000000     -1.000000     -1.000000   \n",
       "50%       34.000000      0.000000      0.000000      0.000000      0.000000   \n",
       "75%       41.000000      0.000000      0.000000      0.000000      0.000000   \n",
       "max       79.000000      8.000000      8.000000      8.000000      8.000000   \n",
       "\n",
       "                  ...                  BILL_AMT4      BILL_AMT5  \\\n",
       "count             ...               30000.000000   30000.000000   \n",
       "mean              ...               43262.948967   40311.400967   \n",
       "std               ...               64332.856134   60797.155770   \n",
       "min               ...             -170000.000000  -81334.000000   \n",
       "25%               ...                2326.750000    1763.000000   \n",
       "50%               ...               19052.000000   18104.500000   \n",
       "75%               ...               54506.000000   50190.500000   \n",
       "max               ...              891586.000000  927171.000000   \n",
       "\n",
       "           BILL_AMT6       PAY_AMT1      PAY_AMT2      PAY_AMT3  \\\n",
       "count   30000.000000   30000.000000  3.000000e+04   30000.00000   \n",
       "mean    38871.760400    5663.580500  5.921163e+03    5225.68150   \n",
       "std     59554.107537   16563.280354  2.304087e+04   17606.96147   \n",
       "min   -339603.000000       0.000000  0.000000e+00       0.00000   \n",
       "25%      1256.000000    1000.000000  8.330000e+02     390.00000   \n",
       "50%     17071.000000    2100.000000  2.009000e+03    1800.00000   \n",
       "75%     49198.250000    5006.000000  5.000000e+03    4505.00000   \n",
       "max    961664.000000  873552.000000  1.684259e+06  896040.00000   \n",
       "\n",
       "            PAY_AMT4       PAY_AMT5       PAY_AMT6  default payment next month  \n",
       "count   30000.000000   30000.000000   30000.000000                30000.000000  \n",
       "mean     4826.076867    4799.387633    5215.502567                    0.221200  \n",
       "std     15666.159744   15278.305679   17777.465775                    0.415062  \n",
       "min         0.000000       0.000000       0.000000                    0.000000  \n",
       "25%       296.000000     252.500000     117.750000                    0.000000  \n",
       "50%      1500.000000    1500.000000    1500.000000                    0.000000  \n",
       "75%      4013.250000    4031.500000    4000.000000                    0.000000  \n",
       "max    621000.000000  426529.000000  528666.000000                    1.000000  \n",
       "\n",
       "[8 rows x 25 columns]"
      ]
     },
     "execution_count": 4,
     "metadata": {},
     "output_type": "execute_result"
    }
   ],
   "source": [
    "data_German.describe()"
   ]
  },
  {
   "cell_type": "markdown",
   "metadata": {},
   "source": [
    "Reading out the column names"
   ]
  },
  {
   "cell_type": "code",
   "execution_count": 5,
   "metadata": {},
   "outputs": [
    {
     "data": {
      "text/plain": [
       "Index(['ID', 'LIMIT_BAL', 'SEX', 'EDUCATION', 'MARRIAGE', 'AGE', 'PAY_0',\n",
       "       'PAY_2', 'PAY_3', 'PAY_4', 'PAY_5', 'PAY_6', 'BILL_AMT1', 'BILL_AMT2',\n",
       "       'BILL_AMT3', 'BILL_AMT4', 'BILL_AMT5', 'BILL_AMT6', 'PAY_AMT1',\n",
       "       'PAY_AMT2', 'PAY_AMT3', 'PAY_AMT4', 'PAY_AMT5', 'PAY_AMT6',\n",
       "       'default payment next month'],\n",
       "      dtype='object')"
      ]
     },
     "execution_count": 5,
     "metadata": {},
     "output_type": "execute_result"
    }
   ],
   "source": [
    "data_German.columns\n",
    "#data_German.columns.values"
   ]
  },
  {
   "cell_type": "code",
   "execution_count": 6,
   "metadata": {},
   "outputs": [
    {
     "data": {
      "text/html": [
       "<div>\n",
       "<style scoped>\n",
       "    .dataframe tbody tr th:only-of-type {\n",
       "        vertical-align: middle;\n",
       "    }\n",
       "\n",
       "    .dataframe tbody tr th {\n",
       "        vertical-align: top;\n",
       "    }\n",
       "\n",
       "    .dataframe thead th {\n",
       "        text-align: right;\n",
       "    }\n",
       "</style>\n",
       "<table border=\"1\" class=\"dataframe\">\n",
       "  <thead>\n",
       "    <tr style=\"text-align: right;\">\n",
       "      <th></th>\n",
       "      <th>ID</th>\n",
       "      <th>LIMIT_BAL</th>\n",
       "      <th>SEX</th>\n",
       "      <th>EDUCATION</th>\n",
       "      <th>MARRIAGE</th>\n",
       "      <th>AGE</th>\n",
       "      <th>PAY_1</th>\n",
       "      <th>PAY_2</th>\n",
       "      <th>PAY_3</th>\n",
       "      <th>PAY_4</th>\n",
       "      <th>...</th>\n",
       "      <th>BILL_AMT4</th>\n",
       "      <th>BILL_AMT5</th>\n",
       "      <th>BILL_AMT6</th>\n",
       "      <th>PAY_AMT1</th>\n",
       "      <th>PAY_AMT2</th>\n",
       "      <th>PAY_AMT3</th>\n",
       "      <th>PAY_AMT4</th>\n",
       "      <th>PAY_AMT5</th>\n",
       "      <th>PAY_AMT6</th>\n",
       "      <th>def_pay</th>\n",
       "    </tr>\n",
       "  </thead>\n",
       "  <tbody>\n",
       "    <tr>\n",
       "      <th>0</th>\n",
       "      <td>1</td>\n",
       "      <td>20000</td>\n",
       "      <td>2</td>\n",
       "      <td>2</td>\n",
       "      <td>1</td>\n",
       "      <td>24</td>\n",
       "      <td>2</td>\n",
       "      <td>2</td>\n",
       "      <td>-1</td>\n",
       "      <td>-1</td>\n",
       "      <td>...</td>\n",
       "      <td>0</td>\n",
       "      <td>0</td>\n",
       "      <td>0</td>\n",
       "      <td>0</td>\n",
       "      <td>689</td>\n",
       "      <td>0</td>\n",
       "      <td>0</td>\n",
       "      <td>0</td>\n",
       "      <td>0</td>\n",
       "      <td>1</td>\n",
       "    </tr>\n",
       "    <tr>\n",
       "      <th>1</th>\n",
       "      <td>2</td>\n",
       "      <td>120000</td>\n",
       "      <td>2</td>\n",
       "      <td>2</td>\n",
       "      <td>2</td>\n",
       "      <td>26</td>\n",
       "      <td>-1</td>\n",
       "      <td>2</td>\n",
       "      <td>0</td>\n",
       "      <td>0</td>\n",
       "      <td>...</td>\n",
       "      <td>3272</td>\n",
       "      <td>3455</td>\n",
       "      <td>3261</td>\n",
       "      <td>0</td>\n",
       "      <td>1000</td>\n",
       "      <td>1000</td>\n",
       "      <td>1000</td>\n",
       "      <td>0</td>\n",
       "      <td>2000</td>\n",
       "      <td>1</td>\n",
       "    </tr>\n",
       "    <tr>\n",
       "      <th>2</th>\n",
       "      <td>3</td>\n",
       "      <td>90000</td>\n",
       "      <td>2</td>\n",
       "      <td>2</td>\n",
       "      <td>2</td>\n",
       "      <td>34</td>\n",
       "      <td>0</td>\n",
       "      <td>0</td>\n",
       "      <td>0</td>\n",
       "      <td>0</td>\n",
       "      <td>...</td>\n",
       "      <td>14331</td>\n",
       "      <td>14948</td>\n",
       "      <td>15549</td>\n",
       "      <td>1518</td>\n",
       "      <td>1500</td>\n",
       "      <td>1000</td>\n",
       "      <td>1000</td>\n",
       "      <td>1000</td>\n",
       "      <td>5000</td>\n",
       "      <td>0</td>\n",
       "    </tr>\n",
       "    <tr>\n",
       "      <th>3</th>\n",
       "      <td>4</td>\n",
       "      <td>50000</td>\n",
       "      <td>2</td>\n",
       "      <td>2</td>\n",
       "      <td>1</td>\n",
       "      <td>37</td>\n",
       "      <td>0</td>\n",
       "      <td>0</td>\n",
       "      <td>0</td>\n",
       "      <td>0</td>\n",
       "      <td>...</td>\n",
       "      <td>28314</td>\n",
       "      <td>28959</td>\n",
       "      <td>29547</td>\n",
       "      <td>2000</td>\n",
       "      <td>2019</td>\n",
       "      <td>1200</td>\n",
       "      <td>1100</td>\n",
       "      <td>1069</td>\n",
       "      <td>1000</td>\n",
       "      <td>0</td>\n",
       "    </tr>\n",
       "    <tr>\n",
       "      <th>4</th>\n",
       "      <td>5</td>\n",
       "      <td>50000</td>\n",
       "      <td>1</td>\n",
       "      <td>2</td>\n",
       "      <td>1</td>\n",
       "      <td>57</td>\n",
       "      <td>-1</td>\n",
       "      <td>0</td>\n",
       "      <td>-1</td>\n",
       "      <td>0</td>\n",
       "      <td>...</td>\n",
       "      <td>20940</td>\n",
       "      <td>19146</td>\n",
       "      <td>19131</td>\n",
       "      <td>2000</td>\n",
       "      <td>36681</td>\n",
       "      <td>10000</td>\n",
       "      <td>9000</td>\n",
       "      <td>689</td>\n",
       "      <td>679</td>\n",
       "      <td>0</td>\n",
       "    </tr>\n",
       "  </tbody>\n",
       "</table>\n",
       "<p>5 rows × 25 columns</p>\n",
       "</div>"
      ],
      "text/plain": [
       "   ID  LIMIT_BAL  SEX  EDUCATION  MARRIAGE  AGE  PAY_1  PAY_2  PAY_3  PAY_4  \\\n",
       "0   1      20000    2          2         1   24      2      2     -1     -1   \n",
       "1   2     120000    2          2         2   26     -1      2      0      0   \n",
       "2   3      90000    2          2         2   34      0      0      0      0   \n",
       "3   4      50000    2          2         1   37      0      0      0      0   \n",
       "4   5      50000    1          2         1   57     -1      0     -1      0   \n",
       "\n",
       "    ...     BILL_AMT4  BILL_AMT5  BILL_AMT6  PAY_AMT1  PAY_AMT2  PAY_AMT3  \\\n",
       "0   ...             0          0          0         0       689         0   \n",
       "1   ...          3272       3455       3261         0      1000      1000   \n",
       "2   ...         14331      14948      15549      1518      1500      1000   \n",
       "3   ...         28314      28959      29547      2000      2019      1200   \n",
       "4   ...         20940      19146      19131      2000     36681     10000   \n",
       "\n",
       "   PAY_AMT4  PAY_AMT5  PAY_AMT6  def_pay  \n",
       "0         0         0         0        1  \n",
       "1      1000         0      2000        1  \n",
       "2      1000      1000      5000        0  \n",
       "3      1100      1069      1000        0  \n",
       "4      9000       689       679        0  \n",
       "\n",
       "[5 rows x 25 columns]"
      ]
     },
     "execution_count": 6,
     "metadata": {},
     "output_type": "execute_result"
    }
   ],
   "source": [
    "data_German = data_German.rename(columns={'default payment next month': 'def_pay', \n",
    "                        'PAY_0': 'PAY_1'})\n",
    "data_German.head()"
   ]
  },
  {
   "cell_type": "markdown",
   "metadata": {},
   "source": [
    "## Check missing data"
   ]
  },
  {
   "cell_type": "code",
   "execution_count": 7,
   "metadata": {},
   "outputs": [
    {
     "data": {
      "text/html": [
       "<div>\n",
       "<style scoped>\n",
       "    .dataframe tbody tr th:only-of-type {\n",
       "        vertical-align: middle;\n",
       "    }\n",
       "\n",
       "    .dataframe tbody tr th {\n",
       "        vertical-align: top;\n",
       "    }\n",
       "\n",
       "    .dataframe thead th {\n",
       "        text-align: right;\n",
       "    }\n",
       "</style>\n",
       "<table border=\"1\" class=\"dataframe\">\n",
       "  <thead>\n",
       "    <tr style=\"text-align: right;\">\n",
       "      <th></th>\n",
       "      <th>def_pay</th>\n",
       "      <th>PAY_6</th>\n",
       "      <th>LIMIT_BAL</th>\n",
       "      <th>SEX</th>\n",
       "      <th>EDUCATION</th>\n",
       "      <th>MARRIAGE</th>\n",
       "      <th>AGE</th>\n",
       "      <th>PAY_1</th>\n",
       "      <th>PAY_2</th>\n",
       "      <th>PAY_3</th>\n",
       "      <th>...</th>\n",
       "      <th>BILL_AMT3</th>\n",
       "      <th>BILL_AMT4</th>\n",
       "      <th>BILL_AMT5</th>\n",
       "      <th>BILL_AMT6</th>\n",
       "      <th>PAY_AMT1</th>\n",
       "      <th>PAY_AMT2</th>\n",
       "      <th>PAY_AMT3</th>\n",
       "      <th>PAY_AMT4</th>\n",
       "      <th>PAY_AMT5</th>\n",
       "      <th>ID</th>\n",
       "    </tr>\n",
       "  </thead>\n",
       "  <tbody>\n",
       "    <tr>\n",
       "      <th>Total</th>\n",
       "      <td>0.0</td>\n",
       "      <td>0.0</td>\n",
       "      <td>0.0</td>\n",
       "      <td>0.0</td>\n",
       "      <td>0.0</td>\n",
       "      <td>0.0</td>\n",
       "      <td>0.0</td>\n",
       "      <td>0.0</td>\n",
       "      <td>0.0</td>\n",
       "      <td>0.0</td>\n",
       "      <td>...</td>\n",
       "      <td>0.0</td>\n",
       "      <td>0.0</td>\n",
       "      <td>0.0</td>\n",
       "      <td>0.0</td>\n",
       "      <td>0.0</td>\n",
       "      <td>0.0</td>\n",
       "      <td>0.0</td>\n",
       "      <td>0.0</td>\n",
       "      <td>0.0</td>\n",
       "      <td>0.0</td>\n",
       "    </tr>\n",
       "    <tr>\n",
       "      <th>Percent</th>\n",
       "      <td>0.0</td>\n",
       "      <td>0.0</td>\n",
       "      <td>0.0</td>\n",
       "      <td>0.0</td>\n",
       "      <td>0.0</td>\n",
       "      <td>0.0</td>\n",
       "      <td>0.0</td>\n",
       "      <td>0.0</td>\n",
       "      <td>0.0</td>\n",
       "      <td>0.0</td>\n",
       "      <td>...</td>\n",
       "      <td>0.0</td>\n",
       "      <td>0.0</td>\n",
       "      <td>0.0</td>\n",
       "      <td>0.0</td>\n",
       "      <td>0.0</td>\n",
       "      <td>0.0</td>\n",
       "      <td>0.0</td>\n",
       "      <td>0.0</td>\n",
       "      <td>0.0</td>\n",
       "      <td>0.0</td>\n",
       "    </tr>\n",
       "  </tbody>\n",
       "</table>\n",
       "<p>2 rows × 25 columns</p>\n",
       "</div>"
      ],
      "text/plain": [
       "         def_pay  PAY_6  LIMIT_BAL  SEX  EDUCATION  MARRIAGE  AGE  PAY_1  \\\n",
       "Total        0.0    0.0        0.0  0.0        0.0       0.0  0.0    0.0   \n",
       "Percent      0.0    0.0        0.0  0.0        0.0       0.0  0.0    0.0   \n",
       "\n",
       "         PAY_2  PAY_3 ...   BILL_AMT3  BILL_AMT4  BILL_AMT5  BILL_AMT6  \\\n",
       "Total      0.0    0.0 ...         0.0        0.0        0.0        0.0   \n",
       "Percent    0.0    0.0 ...         0.0        0.0        0.0        0.0   \n",
       "\n",
       "         PAY_AMT1  PAY_AMT2  PAY_AMT3  PAY_AMT4  PAY_AMT5   ID  \n",
       "Total         0.0       0.0       0.0       0.0       0.0  0.0  \n",
       "Percent       0.0       0.0       0.0       0.0       0.0  0.0  \n",
       "\n",
       "[2 rows x 25 columns]"
      ]
     },
     "execution_count": 7,
     "metadata": {},
     "output_type": "execute_result"
    }
   ],
   "source": [
    "total = data_German.isnull().sum().sort_values(ascending = False)\n",
    "percent = (data_German.isnull().sum()/data_German.isnull().count()*100).sort_values(ascending = False)\n",
    "pd.concat([total, percent], axis=1, keys=['Total', 'Percent']).transpose()"
   ]
  },
  {
   "cell_type": "markdown",
   "metadata": {},
   "source": [
    "Making sure the column names in the excel and the dataframe are the same"
   ]
  },
  {
   "cell_type": "code",
   "execution_count": 8,
   "metadata": {},
   "outputs": [
    {
     "data": {
      "text/html": [
       "<div>\n",
       "<style scoped>\n",
       "    .dataframe tbody tr th:only-of-type {\n",
       "        vertical-align: middle;\n",
       "    }\n",
       "\n",
       "    .dataframe tbody tr th {\n",
       "        vertical-align: top;\n",
       "    }\n",
       "\n",
       "    .dataframe thead th {\n",
       "        text-align: right;\n",
       "    }\n",
       "</style>\n",
       "<table border=\"1\" class=\"dataframe\">\n",
       "  <thead>\n",
       "    <tr style=\"text-align: right;\">\n",
       "      <th></th>\n",
       "      <th>ID</th>\n",
       "      <th>LIMIT_BAL</th>\n",
       "      <th>SEX</th>\n",
       "      <th>EDUCATION</th>\n",
       "      <th>MARRIAGE</th>\n",
       "      <th>AGE</th>\n",
       "      <th>PAY_1</th>\n",
       "      <th>PAY_2</th>\n",
       "      <th>PAY_3</th>\n",
       "      <th>PAY_4</th>\n",
       "      <th>...</th>\n",
       "      <th>BILL_AMT4</th>\n",
       "      <th>BILL_AMT5</th>\n",
       "      <th>BILL_AMT6</th>\n",
       "      <th>PAY_AMT1</th>\n",
       "      <th>PAY_AMT2</th>\n",
       "      <th>PAY_AMT3</th>\n",
       "      <th>PAY_AMT4</th>\n",
       "      <th>PAY_AMT5</th>\n",
       "      <th>PAY_AMT6</th>\n",
       "      <th>def_pay</th>\n",
       "    </tr>\n",
       "  </thead>\n",
       "  <tbody>\n",
       "  </tbody>\n",
       "</table>\n",
       "<p>0 rows × 25 columns</p>\n",
       "</div>"
      ],
      "text/plain": [
       "Empty DataFrame\n",
       "Columns: [ID, LIMIT_BAL, SEX, EDUCATION, MARRIAGE, AGE, PAY_1, PAY_2, PAY_3, PAY_4, PAY_5, PAY_6, BILL_AMT1, BILL_AMT2, BILL_AMT3, BILL_AMT4, BILL_AMT5, BILL_AMT6, PAY_AMT1, PAY_AMT2, PAY_AMT3, PAY_AMT4, PAY_AMT5, PAY_AMT6, def_pay]\n",
       "Index: []\n",
       "\n",
       "[0 rows x 25 columns]"
      ]
     },
     "execution_count": 8,
     "metadata": {},
     "output_type": "execute_result"
    }
   ],
   "source": [
    "data_German.head(0)"
   ]
  },
  {
   "cell_type": "markdown",
   "metadata": {},
   "source": [
    "Displaying Customer details in a new DataFrame named data_Customers"
   ]
  },
  {
   "cell_type": "code",
   "execution_count": 9,
   "metadata": {},
   "outputs": [
    {
     "data": {
      "text/html": [
       "<div>\n",
       "<style scoped>\n",
       "    .dataframe tbody tr th:only-of-type {\n",
       "        vertical-align: middle;\n",
       "    }\n",
       "\n",
       "    .dataframe tbody tr th {\n",
       "        vertical-align: top;\n",
       "    }\n",
       "\n",
       "    .dataframe thead th {\n",
       "        text-align: right;\n",
       "    }\n",
       "</style>\n",
       "<table border=\"1\" class=\"dataframe\">\n",
       "  <thead>\n",
       "    <tr style=\"text-align: right;\">\n",
       "      <th></th>\n",
       "      <th>ID</th>\n",
       "      <th>LIMIT_BAL</th>\n",
       "      <th>SEX</th>\n",
       "      <th>EDUCATION</th>\n",
       "      <th>MARRIAGE</th>\n",
       "      <th>AGE</th>\n",
       "    </tr>\n",
       "  </thead>\n",
       "  <tbody>\n",
       "    <tr>\n",
       "      <th>0</th>\n",
       "      <td>1</td>\n",
       "      <td>20000</td>\n",
       "      <td>2</td>\n",
       "      <td>2</td>\n",
       "      <td>1</td>\n",
       "      <td>24</td>\n",
       "    </tr>\n",
       "    <tr>\n",
       "      <th>1</th>\n",
       "      <td>2</td>\n",
       "      <td>120000</td>\n",
       "      <td>2</td>\n",
       "      <td>2</td>\n",
       "      <td>2</td>\n",
       "      <td>26</td>\n",
       "    </tr>\n",
       "    <tr>\n",
       "      <th>2</th>\n",
       "      <td>3</td>\n",
       "      <td>90000</td>\n",
       "      <td>2</td>\n",
       "      <td>2</td>\n",
       "      <td>2</td>\n",
       "      <td>34</td>\n",
       "    </tr>\n",
       "    <tr>\n",
       "      <th>3</th>\n",
       "      <td>4</td>\n",
       "      <td>50000</td>\n",
       "      <td>2</td>\n",
       "      <td>2</td>\n",
       "      <td>1</td>\n",
       "      <td>37</td>\n",
       "    </tr>\n",
       "    <tr>\n",
       "      <th>4</th>\n",
       "      <td>5</td>\n",
       "      <td>50000</td>\n",
       "      <td>1</td>\n",
       "      <td>2</td>\n",
       "      <td>1</td>\n",
       "      <td>57</td>\n",
       "    </tr>\n",
       "  </tbody>\n",
       "</table>\n",
       "</div>"
      ],
      "text/plain": [
       "   ID  LIMIT_BAL  SEX  EDUCATION  MARRIAGE  AGE\n",
       "0   1      20000    2          2         1   24\n",
       "1   2     120000    2          2         2   26\n",
       "2   3      90000    2          2         2   34\n",
       "3   4      50000    2          2         1   37\n",
       "4   5      50000    1          2         1   57"
      ]
     },
     "execution_count": 9,
     "metadata": {},
     "output_type": "execute_result"
    }
   ],
   "source": [
    "data_Customers = ['ID', 'LIMIT_BAL', 'SEX', 'EDUCATION', 'MARRIAGE', 'AGE']\n",
    "data_German[data_Customers].head() \n",
    "#Pulling out only the Customer columns I like"
   ]
  },
  {
   "cell_type": "code",
   "execution_count": 10,
   "metadata": {},
   "outputs": [
    {
     "name": "stdout",
     "output_type": "stream",
     "text": [
      "Printing Married:\n"
     ]
    },
    {
     "data": {
      "text/html": [
       "<div>\n",
       "<style scoped>\n",
       "    .dataframe tbody tr th:only-of-type {\n",
       "        vertical-align: middle;\n",
       "    }\n",
       "\n",
       "    .dataframe tbody tr th {\n",
       "        vertical-align: top;\n",
       "    }\n",
       "\n",
       "    .dataframe thead th {\n",
       "        text-align: right;\n",
       "    }\n",
       "</style>\n",
       "<table border=\"1\" class=\"dataframe\">\n",
       "  <thead>\n",
       "    <tr style=\"text-align: right;\">\n",
       "      <th></th>\n",
       "      <th>ID</th>\n",
       "      <th>LIMIT_BAL</th>\n",
       "      <th>SEX</th>\n",
       "      <th>EDUCATION</th>\n",
       "      <th>MARRIAGE</th>\n",
       "      <th>AGE</th>\n",
       "      <th>PAY_1</th>\n",
       "      <th>PAY_2</th>\n",
       "      <th>PAY_3</th>\n",
       "      <th>PAY_4</th>\n",
       "      <th>...</th>\n",
       "      <th>BILL_AMT4</th>\n",
       "      <th>BILL_AMT5</th>\n",
       "      <th>BILL_AMT6</th>\n",
       "      <th>PAY_AMT1</th>\n",
       "      <th>PAY_AMT2</th>\n",
       "      <th>PAY_AMT3</th>\n",
       "      <th>PAY_AMT4</th>\n",
       "      <th>PAY_AMT5</th>\n",
       "      <th>PAY_AMT6</th>\n",
       "      <th>def_pay</th>\n",
       "    </tr>\n",
       "  </thead>\n",
       "  <tbody>\n",
       "    <tr>\n",
       "      <th>4</th>\n",
       "      <td>5</td>\n",
       "      <td>50000</td>\n",
       "      <td>1</td>\n",
       "      <td>2</td>\n",
       "      <td>1</td>\n",
       "      <td>57</td>\n",
       "      <td>-1</td>\n",
       "      <td>0</td>\n",
       "      <td>-1</td>\n",
       "      <td>0</td>\n",
       "      <td>...</td>\n",
       "      <td>20940</td>\n",
       "      <td>19146</td>\n",
       "      <td>19131</td>\n",
       "      <td>2000</td>\n",
       "      <td>36681</td>\n",
       "      <td>10000</td>\n",
       "      <td>9000</td>\n",
       "      <td>689</td>\n",
       "      <td>679</td>\n",
       "      <td>0</td>\n",
       "    </tr>\n",
       "    <tr>\n",
       "      <th>5</th>\n",
       "      <td>6</td>\n",
       "      <td>50000</td>\n",
       "      <td>1</td>\n",
       "      <td>1</td>\n",
       "      <td>2</td>\n",
       "      <td>37</td>\n",
       "      <td>0</td>\n",
       "      <td>0</td>\n",
       "      <td>0</td>\n",
       "      <td>0</td>\n",
       "      <td>...</td>\n",
       "      <td>19394</td>\n",
       "      <td>19619</td>\n",
       "      <td>20024</td>\n",
       "      <td>2500</td>\n",
       "      <td>1815</td>\n",
       "      <td>657</td>\n",
       "      <td>1000</td>\n",
       "      <td>1000</td>\n",
       "      <td>800</td>\n",
       "      <td>0</td>\n",
       "    </tr>\n",
       "    <tr>\n",
       "      <th>6</th>\n",
       "      <td>7</td>\n",
       "      <td>500000</td>\n",
       "      <td>1</td>\n",
       "      <td>1</td>\n",
       "      <td>2</td>\n",
       "      <td>29</td>\n",
       "      <td>0</td>\n",
       "      <td>0</td>\n",
       "      <td>0</td>\n",
       "      <td>0</td>\n",
       "      <td>...</td>\n",
       "      <td>542653</td>\n",
       "      <td>483003</td>\n",
       "      <td>473944</td>\n",
       "      <td>55000</td>\n",
       "      <td>40000</td>\n",
       "      <td>38000</td>\n",
       "      <td>20239</td>\n",
       "      <td>13750</td>\n",
       "      <td>13770</td>\n",
       "      <td>0</td>\n",
       "    </tr>\n",
       "    <tr>\n",
       "      <th>9</th>\n",
       "      <td>10</td>\n",
       "      <td>20000</td>\n",
       "      <td>1</td>\n",
       "      <td>3</td>\n",
       "      <td>2</td>\n",
       "      <td>35</td>\n",
       "      <td>-2</td>\n",
       "      <td>-2</td>\n",
       "      <td>-2</td>\n",
       "      <td>-2</td>\n",
       "      <td>...</td>\n",
       "      <td>0</td>\n",
       "      <td>13007</td>\n",
       "      <td>13912</td>\n",
       "      <td>0</td>\n",
       "      <td>0</td>\n",
       "      <td>0</td>\n",
       "      <td>13007</td>\n",
       "      <td>1122</td>\n",
       "      <td>0</td>\n",
       "      <td>0</td>\n",
       "    </tr>\n",
       "    <tr>\n",
       "      <th>13</th>\n",
       "      <td>14</td>\n",
       "      <td>70000</td>\n",
       "      <td>1</td>\n",
       "      <td>2</td>\n",
       "      <td>2</td>\n",
       "      <td>30</td>\n",
       "      <td>1</td>\n",
       "      <td>2</td>\n",
       "      <td>2</td>\n",
       "      <td>0</td>\n",
       "      <td>...</td>\n",
       "      <td>66782</td>\n",
       "      <td>36137</td>\n",
       "      <td>36894</td>\n",
       "      <td>3200</td>\n",
       "      <td>0</td>\n",
       "      <td>3000</td>\n",
       "      <td>3000</td>\n",
       "      <td>1500</td>\n",
       "      <td>0</td>\n",
       "      <td>1</td>\n",
       "    </tr>\n",
       "  </tbody>\n",
       "</table>\n",
       "<p>5 rows × 25 columns</p>\n",
       "</div>"
      ],
      "text/plain": [
       "    ID  LIMIT_BAL  SEX  EDUCATION  MARRIAGE  AGE  PAY_1  PAY_2  PAY_3  PAY_4  \\\n",
       "4    5      50000    1          2         1   57     -1      0     -1      0   \n",
       "5    6      50000    1          1         2   37      0      0      0      0   \n",
       "6    7     500000    1          1         2   29      0      0      0      0   \n",
       "9   10      20000    1          3         2   35     -2     -2     -2     -2   \n",
       "13  14      70000    1          2         2   30      1      2      2      0   \n",
       "\n",
       "     ...     BILL_AMT4  BILL_AMT5  BILL_AMT6  PAY_AMT1  PAY_AMT2  PAY_AMT3  \\\n",
       "4    ...         20940      19146      19131      2000     36681     10000   \n",
       "5    ...         19394      19619      20024      2500      1815       657   \n",
       "6    ...        542653     483003     473944     55000     40000     38000   \n",
       "9    ...             0      13007      13912         0         0         0   \n",
       "13   ...         66782      36137      36894      3200         0      3000   \n",
       "\n",
       "    PAY_AMT4  PAY_AMT5  PAY_AMT6  def_pay  \n",
       "4       9000       689       679        0  \n",
       "5       1000      1000       800        0  \n",
       "6      20239     13750     13770        0  \n",
       "9      13007      1122         0        0  \n",
       "13      3000      1500         0        1  \n",
       "\n",
       "[5 rows x 25 columns]"
      ]
     },
     "execution_count": 10,
     "metadata": {},
     "output_type": "execute_result"
    }
   ],
   "source": [
    "#displaying only values for men\n",
    "print('Printing Married:')\n",
    "data_German[data_German['SEX'] == 1].head(5)\n",
    "#Married:1, Unmarried:2, Others:3"
   ]
  },
  {
   "cell_type": "markdown",
   "metadata": {},
   "source": [
    "print(\"Purpose : \",Data.Purpose.unique())\n",
    "print(\"Sex : \",Data.Sex.unique())\n",
    "print(\"Housing : \",Data.Housing.unique())\n",
    "print(\"Saving accounts : \",Data['Saving accounts'].unique())\n",
    "print(\"Checking account : \",Data['Checking account'].unique())"
   ]
  },
  {
   "cell_type": "code",
   "execution_count": 11,
   "metadata": {},
   "outputs": [
    {
     "name": "stdout",
     "output_type": "stream",
     "text": [
      "Sex : [1, 2]\n",
      "Sex value_counts: [11888, 18112]\n",
      "----------------------------------------------------\n",
      "EDUCATION : [0, 1, 2, 3, 4, 5, 6]\n",
      "EDUCATION value_counts: [14, 51, 123, 280, 4917, 10585, 14030]\n",
      "----------------------------------------------------\n",
      "MARRIAGE : [0, 1, 2, 3]\n",
      "MARRIAGE value_counts: [54, 323, 13659, 15964]\n",
      "----------------------------------------------------\n",
      "default payment next month : [1 0]\n",
      "default payment next month value_counts: 0    23364\n",
      "1     6636\n",
      "Name: def_pay, dtype: int64\n",
      "----------------------------------------------------\n",
      "AGE : [21, 22, 23, 24, 25, 26, 27, 28, 29, 30, 31, 32, 33, 34, 35, 36, 37, 38, 39, 40, 41, 42, 43, 44, 45, 46, 47, 48, 49, 50, 51, 52, 53, 54, 55, 56, 57, 58, 59, 60, 61, 62, 63, 64, 65, 66, 67, 68, 69, 70, 71, 72, 73, 74, 75, 79]\n",
      "AGE value_counts: [1, 1, 3, 3, 3, 4, 5, 10, 15, 16, 24, 25, 31, 31, 44, 56, 67, 67, 83, 122, 122, 178, 209, 247, 304, 325, 340, 411, 452, 466, 501, 560, 570, 617, 670, 700, 794, 824, 870, 931, 944, 954, 1041, 1108, 1113, 1127, 1146, 1158, 1162, 1186, 1217, 1256, 1395, 1409, 1477, 1605]\n"
     ]
    }
   ],
   "source": [
    "print(\"Sex :\", sorted(data_German.SEX.unique()))\n",
    "print(\"Sex value_counts:\", sorted(data_German.SEX.value_counts()))\n",
    "print('----------------------------------------------------')\n",
    "print(\"EDUCATION :\", sorted(data_German.EDUCATION.unique()))\n",
    "print(\"EDUCATION value_counts:\", sorted(data_German.EDUCATION.value_counts()))\n",
    "print('----------------------------------------------------')\n",
    "print(\"MARRIAGE :\", sorted(data_German.MARRIAGE.unique()))\n",
    "print(\"MARRIAGE value_counts:\", sorted(data_German.MARRIAGE.value_counts()))\n",
    "print('----------------------------------------------------')\n",
    "print(\"default payment next month :\", data_German.def_pay.unique())\n",
    "print(\"default payment next month value_counts:\", data_German.def_pay.value_counts())\n",
    "print('----------------------------------------------------')\n",
    "print(\"AGE :\", sorted(data_German.AGE.unique()))\n",
    "print(\"AGE value_counts:\", sorted(data_German.AGE.value_counts()))"
   ]
  },
  {
   "cell_type": "code",
   "execution_count": 12,
   "metadata": {
    "scrolled": true
   },
   "outputs": [
    {
     "name": "stdout",
     "output_type": "stream",
     "text": [
      "PAY_1 value_counts: [9, 11, 19, 26, 76, 322, 2667, 2759, 3688, 5686, 14737]\n",
      "PAY_1 : [-2, -1, 0, 1, 2, 3, 4, 5, 6, 7, 8]\n",
      "----------------------------------------------------\n",
      "PAY_2 value_counts: [1, 12, 20, 25, 28, 99, 326, 3782, 3927, 6050, 15730]\n",
      "PAY_2 : [-2, -1, 0, 1, 2, 3, 4, 5, 6, 7, 8]\n",
      "----------------------------------------------------\n",
      "PAY_3 value_counts: [3, 4, 21, 23, 27, 76, 240, 3819, 4085, 5938, 15764]\n",
      "PAY_3 : [-2, -1, 0, 1, 2, 3, 4, 5, 6, 7, 8]\n",
      "----------------------------------------------------\n",
      "PAY_4 value_counts: [2, 2, 5, 35, 58, 69, 180, 3159, 4348, 5687, 16455]\n",
      "PAY_4 : [-2, -1, 0, 1, 2, 3, 4, 5, 6, 7, 8]\n"
     ]
    }
   ],
   "source": [
    " #this is fine, more women than men\n",
    "print(\"PAY_1 value_counts:\", sorted(data_German.PAY_1.value_counts()))\n",
    "print(\"PAY_1 :\", sorted(data_German.PAY_1.unique()))\n",
    "print('----------------------------------------------------')\n",
    "print(\"PAY_2 value_counts:\", sorted(data_German.PAY_2.value_counts()))\n",
    "print(\"PAY_2 :\", sorted(data_German.PAY_2.unique()))\n",
    "print('----------------------------------------------------')\n",
    "print(\"PAY_3 value_counts:\", sorted(data_German.PAY_3.value_counts()))\n",
    "print(\"PAY_3 :\", sorted(data_German.PAY_3.unique()))\n",
    "print('----------------------------------------------------')\n",
    "print(\"PAY_4 value_counts:\", sorted(data_German.PAY_4.value_counts()))\n",
    "print(\"PAY_4 :\", sorted(data_German.PAY_4.unique()))"
   ]
  },
  {
   "cell_type": "markdown",
   "metadata": {},
   "source": [
    "MY ASSUMPTIONS REGARDING PAY_1 VALUES ARE AS FOLLOWS:\n",
    "\n",
    "-2: No consumption; Balance paid in full and no transactions this period (we may refer to this credit card account as having been 'inactive' this period)\n",
    "    \n",
    "-1: Paid in full; , but account has a positive balance at end of period due to recent transactions for which payment has not yet come due\n",
    "    \n",
    "0: The use of revolving credit; Customer paid the minimum due amount, but not the entire balance. I.e., the customer paid enough for their account to remain in good standing, but did revolve a balance\n",
    "    \n",
    "1 = payment delay for one month;\n",
    "\n",
    "2 = payment delay for two months;\n",
    "\n",
    "8 = payment delay for eight months; \n",
    "\n",
    "9 = payment delay for nine months and above."
   ]
  },
  {
   "cell_type": "code",
   "execution_count": 13,
   "metadata": {},
   "outputs": [
    {
     "name": "stdout",
     "output_type": "stream",
     "text": [
      "<class 'pandas.core.frame.DataFrame'>\n",
      "RangeIndex: 30000 entries, 0 to 29999\n",
      "Data columns (total 25 columns):\n",
      "ID           30000 non-null int64\n",
      "LIMIT_BAL    30000 non-null int64\n",
      "SEX          30000 non-null int64\n",
      "EDUCATION    30000 non-null int64\n",
      "MARRIAGE     30000 non-null int64\n",
      "AGE          30000 non-null int64\n",
      "PAY_1        30000 non-null int64\n",
      "PAY_2        30000 non-null int64\n",
      "PAY_3        30000 non-null int64\n",
      "PAY_4        30000 non-null int64\n",
      "PAY_5        30000 non-null int64\n",
      "PAY_6        30000 non-null int64\n",
      "BILL_AMT1    30000 non-null int64\n",
      "BILL_AMT2    30000 non-null int64\n",
      "BILL_AMT3    30000 non-null int64\n",
      "BILL_AMT4    30000 non-null int64\n",
      "BILL_AMT5    30000 non-null int64\n",
      "BILL_AMT6    30000 non-null int64\n",
      "PAY_AMT1     30000 non-null int64\n",
      "PAY_AMT2     30000 non-null int64\n",
      "PAY_AMT3     30000 non-null int64\n",
      "PAY_AMT4     30000 non-null int64\n",
      "PAY_AMT5     30000 non-null int64\n",
      "PAY_AMT6     30000 non-null int64\n",
      "def_pay      30000 non-null int64\n",
      "dtypes: int64(25)\n",
      "memory usage: 5.7 MB\n"
     ]
    }
   ],
   "source": [
    "data_German.info()"
   ]
  },
  {
   "cell_type": "code",
   "execution_count": 14,
   "metadata": {},
   "outputs": [
    {
     "data": {
      "text/html": [
       "<div>\n",
       "<style scoped>\n",
       "    .dataframe tbody tr th:only-of-type {\n",
       "        vertical-align: middle;\n",
       "    }\n",
       "\n",
       "    .dataframe tbody tr th {\n",
       "        vertical-align: top;\n",
       "    }\n",
       "\n",
       "    .dataframe thead th {\n",
       "        text-align: right;\n",
       "    }\n",
       "</style>\n",
       "<table border=\"1\" class=\"dataframe\">\n",
       "  <thead>\n",
       "    <tr style=\"text-align: right;\">\n",
       "      <th></th>\n",
       "      <th>PAY_1</th>\n",
       "      <th>PAY_2</th>\n",
       "      <th>PAY_3</th>\n",
       "      <th>PAY_4</th>\n",
       "      <th>PAY_5</th>\n",
       "      <th>PAY_6</th>\n",
       "    </tr>\n",
       "  </thead>\n",
       "  <tbody>\n",
       "    <tr>\n",
       "      <th>count</th>\n",
       "      <td>30000.000000</td>\n",
       "      <td>30000.000000</td>\n",
       "      <td>30000.000000</td>\n",
       "      <td>30000.000000</td>\n",
       "      <td>30000.000000</td>\n",
       "      <td>30000.000000</td>\n",
       "    </tr>\n",
       "    <tr>\n",
       "      <th>mean</th>\n",
       "      <td>-0.016700</td>\n",
       "      <td>-0.133767</td>\n",
       "      <td>-0.166200</td>\n",
       "      <td>-0.220667</td>\n",
       "      <td>-0.266200</td>\n",
       "      <td>-0.291100</td>\n",
       "    </tr>\n",
       "    <tr>\n",
       "      <th>std</th>\n",
       "      <td>1.123802</td>\n",
       "      <td>1.197186</td>\n",
       "      <td>1.196868</td>\n",
       "      <td>1.169139</td>\n",
       "      <td>1.133187</td>\n",
       "      <td>1.149988</td>\n",
       "    </tr>\n",
       "    <tr>\n",
       "      <th>min</th>\n",
       "      <td>-2.000000</td>\n",
       "      <td>-2.000000</td>\n",
       "      <td>-2.000000</td>\n",
       "      <td>-2.000000</td>\n",
       "      <td>-2.000000</td>\n",
       "      <td>-2.000000</td>\n",
       "    </tr>\n",
       "    <tr>\n",
       "      <th>25%</th>\n",
       "      <td>-1.000000</td>\n",
       "      <td>-1.000000</td>\n",
       "      <td>-1.000000</td>\n",
       "      <td>-1.000000</td>\n",
       "      <td>-1.000000</td>\n",
       "      <td>-1.000000</td>\n",
       "    </tr>\n",
       "    <tr>\n",
       "      <th>50%</th>\n",
       "      <td>0.000000</td>\n",
       "      <td>0.000000</td>\n",
       "      <td>0.000000</td>\n",
       "      <td>0.000000</td>\n",
       "      <td>0.000000</td>\n",
       "      <td>0.000000</td>\n",
       "    </tr>\n",
       "    <tr>\n",
       "      <th>75%</th>\n",
       "      <td>0.000000</td>\n",
       "      <td>0.000000</td>\n",
       "      <td>0.000000</td>\n",
       "      <td>0.000000</td>\n",
       "      <td>0.000000</td>\n",
       "      <td>0.000000</td>\n",
       "    </tr>\n",
       "    <tr>\n",
       "      <th>max</th>\n",
       "      <td>8.000000</td>\n",
       "      <td>8.000000</td>\n",
       "      <td>8.000000</td>\n",
       "      <td>8.000000</td>\n",
       "      <td>8.000000</td>\n",
       "      <td>8.000000</td>\n",
       "    </tr>\n",
       "  </tbody>\n",
       "</table>\n",
       "</div>"
      ],
      "text/plain": [
       "              PAY_1         PAY_2         PAY_3         PAY_4         PAY_5  \\\n",
       "count  30000.000000  30000.000000  30000.000000  30000.000000  30000.000000   \n",
       "mean      -0.016700     -0.133767     -0.166200     -0.220667     -0.266200   \n",
       "std        1.123802      1.197186      1.196868      1.169139      1.133187   \n",
       "min       -2.000000     -2.000000     -2.000000     -2.000000     -2.000000   \n",
       "25%       -1.000000     -1.000000     -1.000000     -1.000000     -1.000000   \n",
       "50%        0.000000      0.000000      0.000000      0.000000      0.000000   \n",
       "75%        0.000000      0.000000      0.000000      0.000000      0.000000   \n",
       "max        8.000000      8.000000      8.000000      8.000000      8.000000   \n",
       "\n",
       "              PAY_6  \n",
       "count  30000.000000  \n",
       "mean      -0.291100  \n",
       "std        1.149988  \n",
       "min       -2.000000  \n",
       "25%       -1.000000  \n",
       "50%        0.000000  \n",
       "75%        0.000000  \n",
       "max        8.000000  "
      ]
     },
     "execution_count": 14,
     "metadata": {},
     "output_type": "execute_result"
    }
   ],
   "source": [
    "# Payment delay description\n",
    "data_German[['PAY_1', 'PAY_2', 'PAY_3', 'PAY_4', 'PAY_5', 'PAY_6']].describe()"
   ]
  },
  {
   "cell_type": "code",
   "execution_count": 15,
   "metadata": {},
   "outputs": [
    {
     "data": {
      "text/html": [
       "<div>\n",
       "<style scoped>\n",
       "    .dataframe tbody tr th:only-of-type {\n",
       "        vertical-align: middle;\n",
       "    }\n",
       "\n",
       "    .dataframe tbody tr th {\n",
       "        vertical-align: top;\n",
       "    }\n",
       "\n",
       "    .dataframe thead th {\n",
       "        text-align: right;\n",
       "    }\n",
       "</style>\n",
       "<table border=\"1\" class=\"dataframe\">\n",
       "  <thead>\n",
       "    <tr style=\"text-align: right;\">\n",
       "      <th></th>\n",
       "      <th>BILL_AMT1</th>\n",
       "      <th>BILL_AMT2</th>\n",
       "      <th>BILL_AMT3</th>\n",
       "      <th>BILL_AMT4</th>\n",
       "      <th>BILL_AMT5</th>\n",
       "      <th>BILL_AMT6</th>\n",
       "    </tr>\n",
       "  </thead>\n",
       "  <tbody>\n",
       "    <tr>\n",
       "      <th>count</th>\n",
       "      <td>30000.000000</td>\n",
       "      <td>30000.000000</td>\n",
       "      <td>3.000000e+04</td>\n",
       "      <td>30000.000000</td>\n",
       "      <td>30000.000000</td>\n",
       "      <td>30000.000000</td>\n",
       "    </tr>\n",
       "    <tr>\n",
       "      <th>mean</th>\n",
       "      <td>51223.330900</td>\n",
       "      <td>49179.075167</td>\n",
       "      <td>4.701315e+04</td>\n",
       "      <td>43262.948967</td>\n",
       "      <td>40311.400967</td>\n",
       "      <td>38871.760400</td>\n",
       "    </tr>\n",
       "    <tr>\n",
       "      <th>std</th>\n",
       "      <td>73635.860576</td>\n",
       "      <td>71173.768783</td>\n",
       "      <td>6.934939e+04</td>\n",
       "      <td>64332.856134</td>\n",
       "      <td>60797.155770</td>\n",
       "      <td>59554.107537</td>\n",
       "    </tr>\n",
       "    <tr>\n",
       "      <th>min</th>\n",
       "      <td>-165580.000000</td>\n",
       "      <td>-69777.000000</td>\n",
       "      <td>-1.572640e+05</td>\n",
       "      <td>-170000.000000</td>\n",
       "      <td>-81334.000000</td>\n",
       "      <td>-339603.000000</td>\n",
       "    </tr>\n",
       "    <tr>\n",
       "      <th>25%</th>\n",
       "      <td>3558.750000</td>\n",
       "      <td>2984.750000</td>\n",
       "      <td>2.666250e+03</td>\n",
       "      <td>2326.750000</td>\n",
       "      <td>1763.000000</td>\n",
       "      <td>1256.000000</td>\n",
       "    </tr>\n",
       "    <tr>\n",
       "      <th>50%</th>\n",
       "      <td>22381.500000</td>\n",
       "      <td>21200.000000</td>\n",
       "      <td>2.008850e+04</td>\n",
       "      <td>19052.000000</td>\n",
       "      <td>18104.500000</td>\n",
       "      <td>17071.000000</td>\n",
       "    </tr>\n",
       "    <tr>\n",
       "      <th>75%</th>\n",
       "      <td>67091.000000</td>\n",
       "      <td>64006.250000</td>\n",
       "      <td>6.016475e+04</td>\n",
       "      <td>54506.000000</td>\n",
       "      <td>50190.500000</td>\n",
       "      <td>49198.250000</td>\n",
       "    </tr>\n",
       "    <tr>\n",
       "      <th>max</th>\n",
       "      <td>964511.000000</td>\n",
       "      <td>983931.000000</td>\n",
       "      <td>1.664089e+06</td>\n",
       "      <td>891586.000000</td>\n",
       "      <td>927171.000000</td>\n",
       "      <td>961664.000000</td>\n",
       "    </tr>\n",
       "  </tbody>\n",
       "</table>\n",
       "</div>"
      ],
      "text/plain": [
       "           BILL_AMT1      BILL_AMT2     BILL_AMT3      BILL_AMT4  \\\n",
       "count   30000.000000   30000.000000  3.000000e+04   30000.000000   \n",
       "mean    51223.330900   49179.075167  4.701315e+04   43262.948967   \n",
       "std     73635.860576   71173.768783  6.934939e+04   64332.856134   \n",
       "min   -165580.000000  -69777.000000 -1.572640e+05 -170000.000000   \n",
       "25%      3558.750000    2984.750000  2.666250e+03    2326.750000   \n",
       "50%     22381.500000   21200.000000  2.008850e+04   19052.000000   \n",
       "75%     67091.000000   64006.250000  6.016475e+04   54506.000000   \n",
       "max    964511.000000  983931.000000  1.664089e+06  891586.000000   \n",
       "\n",
       "           BILL_AMT5      BILL_AMT6  \n",
       "count   30000.000000   30000.000000  \n",
       "mean    40311.400967   38871.760400  \n",
       "std     60797.155770   59554.107537  \n",
       "min    -81334.000000 -339603.000000  \n",
       "25%      1763.000000    1256.000000  \n",
       "50%     18104.500000   17071.000000  \n",
       "75%     50190.500000   49198.250000  \n",
       "max    927171.000000  961664.000000  "
      ]
     },
     "execution_count": 15,
     "metadata": {},
     "output_type": "execute_result"
    }
   ],
   "source": [
    "# Bill Statement description description\n",
    "data_German[['BILL_AMT1', 'BILL_AMT2', 'BILL_AMT3', 'BILL_AMT4', 'BILL_AMT5', 'BILL_AMT6']].describe()"
   ]
  },
  {
   "cell_type": "code",
   "execution_count": 16,
   "metadata": {},
   "outputs": [
    {
     "data": {
      "text/html": [
       "<div>\n",
       "<style scoped>\n",
       "    .dataframe tbody tr th:only-of-type {\n",
       "        vertical-align: middle;\n",
       "    }\n",
       "\n",
       "    .dataframe tbody tr th {\n",
       "        vertical-align: top;\n",
       "    }\n",
       "\n",
       "    .dataframe thead th {\n",
       "        text-align: right;\n",
       "    }\n",
       "</style>\n",
       "<table border=\"1\" class=\"dataframe\">\n",
       "  <thead>\n",
       "    <tr style=\"text-align: right;\">\n",
       "      <th></th>\n",
       "      <th>PAY_AMT1</th>\n",
       "      <th>PAY_AMT2</th>\n",
       "      <th>PAY_AMT3</th>\n",
       "      <th>PAY_AMT4</th>\n",
       "      <th>PAY_AMT5</th>\n",
       "      <th>PAY_AMT6</th>\n",
       "    </tr>\n",
       "  </thead>\n",
       "  <tbody>\n",
       "    <tr>\n",
       "      <th>count</th>\n",
       "      <td>30000.000000</td>\n",
       "      <td>3.000000e+04</td>\n",
       "      <td>30000.00000</td>\n",
       "      <td>30000.000000</td>\n",
       "      <td>30000.000000</td>\n",
       "      <td>30000.000000</td>\n",
       "    </tr>\n",
       "    <tr>\n",
       "      <th>mean</th>\n",
       "      <td>5663.580500</td>\n",
       "      <td>5.921163e+03</td>\n",
       "      <td>5225.68150</td>\n",
       "      <td>4826.076867</td>\n",
       "      <td>4799.387633</td>\n",
       "      <td>5215.502567</td>\n",
       "    </tr>\n",
       "    <tr>\n",
       "      <th>std</th>\n",
       "      <td>16563.280354</td>\n",
       "      <td>2.304087e+04</td>\n",
       "      <td>17606.96147</td>\n",
       "      <td>15666.159744</td>\n",
       "      <td>15278.305679</td>\n",
       "      <td>17777.465775</td>\n",
       "    </tr>\n",
       "    <tr>\n",
       "      <th>min</th>\n",
       "      <td>0.000000</td>\n",
       "      <td>0.000000e+00</td>\n",
       "      <td>0.00000</td>\n",
       "      <td>0.000000</td>\n",
       "      <td>0.000000</td>\n",
       "      <td>0.000000</td>\n",
       "    </tr>\n",
       "    <tr>\n",
       "      <th>25%</th>\n",
       "      <td>1000.000000</td>\n",
       "      <td>8.330000e+02</td>\n",
       "      <td>390.00000</td>\n",
       "      <td>296.000000</td>\n",
       "      <td>252.500000</td>\n",
       "      <td>117.750000</td>\n",
       "    </tr>\n",
       "    <tr>\n",
       "      <th>50%</th>\n",
       "      <td>2100.000000</td>\n",
       "      <td>2.009000e+03</td>\n",
       "      <td>1800.00000</td>\n",
       "      <td>1500.000000</td>\n",
       "      <td>1500.000000</td>\n",
       "      <td>1500.000000</td>\n",
       "    </tr>\n",
       "    <tr>\n",
       "      <th>75%</th>\n",
       "      <td>5006.000000</td>\n",
       "      <td>5.000000e+03</td>\n",
       "      <td>4505.00000</td>\n",
       "      <td>4013.250000</td>\n",
       "      <td>4031.500000</td>\n",
       "      <td>4000.000000</td>\n",
       "    </tr>\n",
       "    <tr>\n",
       "      <th>max</th>\n",
       "      <td>873552.000000</td>\n",
       "      <td>1.684259e+06</td>\n",
       "      <td>896040.00000</td>\n",
       "      <td>621000.000000</td>\n",
       "      <td>426529.000000</td>\n",
       "      <td>528666.000000</td>\n",
       "    </tr>\n",
       "  </tbody>\n",
       "</table>\n",
       "</div>"
      ],
      "text/plain": [
       "            PAY_AMT1      PAY_AMT2      PAY_AMT3       PAY_AMT4  \\\n",
       "count   30000.000000  3.000000e+04   30000.00000   30000.000000   \n",
       "mean     5663.580500  5.921163e+03    5225.68150    4826.076867   \n",
       "std     16563.280354  2.304087e+04   17606.96147   15666.159744   \n",
       "min         0.000000  0.000000e+00       0.00000       0.000000   \n",
       "25%      1000.000000  8.330000e+02     390.00000     296.000000   \n",
       "50%      2100.000000  2.009000e+03    1800.00000    1500.000000   \n",
       "75%      5006.000000  5.000000e+03    4505.00000    4013.250000   \n",
       "max    873552.000000  1.684259e+06  896040.00000  621000.000000   \n",
       "\n",
       "            PAY_AMT5       PAY_AMT6  \n",
       "count   30000.000000   30000.000000  \n",
       "mean     4799.387633    5215.502567  \n",
       "std     15278.305679   17777.465775  \n",
       "min         0.000000       0.000000  \n",
       "25%       252.500000     117.750000  \n",
       "50%      1500.000000    1500.000000  \n",
       "75%      4031.500000    4000.000000  \n",
       "max    426529.000000  528666.000000  "
      ]
     },
     "execution_count": 16,
     "metadata": {},
     "output_type": "execute_result"
    }
   ],
   "source": [
    "#Previous Payment Description description description\n",
    "data_German[['PAY_AMT1', 'PAY_AMT2', 'PAY_AMT3', 'PAY_AMT4', 'PAY_AMT5', 'PAY_AMT6']].describe()"
   ]
  },
  {
   "cell_type": "code",
   "execution_count": 17,
   "metadata": {},
   "outputs": [
    {
     "data": {
      "text/plain": [
       "count      30000.000000\n",
       "mean      167484.322667\n",
       "std       129747.661567\n",
       "min        10000.000000\n",
       "25%        50000.000000\n",
       "50%       140000.000000\n",
       "75%       240000.000000\n",
       "max      1000000.000000\n",
       "Name: LIMIT_BAL, dtype: float64"
      ]
     },
     "execution_count": 17,
     "metadata": {},
     "output_type": "execute_result"
    }
   ],
   "source": [
    "data_German.LIMIT_BAL.describe()"
   ]
  },
  {
   "cell_type": "markdown",
   "metadata": {},
   "source": [
    "# Tidying Data"
   ]
  },
  {
   "cell_type": "code",
   "execution_count": 18,
   "metadata": {},
   "outputs": [
    {
     "name": "stdout",
     "output_type": "stream",
     "text": [
      "          ID  LIMIT_BAL  SEX  EDUCATION  MARRIAGE  AGE  PAY_1  PAY_2  PAY_3  \\\n",
      "0          1      20000    2          2         1   24      2      2     -1   \n",
      "1          2     120000    2          2         2   26     -1      2      0   \n",
      "2          3      90000    2          2         2   34      0      0      0   \n",
      "3          4      50000    2          2         1   37      0      0      0   \n",
      "4          5      50000    1          2         1   57     -1      0     -1   \n",
      "5          6      50000    1          1         2   37      0      0      0   \n",
      "6          7     500000    1          1         2   29      0      0      0   \n",
      "7          8     100000    2          2         2   23      0     -1     -1   \n",
      "8          9     140000    2          3         1   28      0      0      2   \n",
      "9         10      20000    1          3         2   35     -2     -2     -2   \n",
      "10        11     200000    2          3         2   34      0      0      2   \n",
      "11        12     260000    2          1         2   51     -1     -1     -1   \n",
      "12        13     630000    2          2         2   41     -1      0     -1   \n",
      "13        14      70000    1          2         2   30      1      2      2   \n",
      "14        15     250000    1          1         2   29      0      0      0   \n",
      "15        16      50000    2          3         3   23      1      2      0   \n",
      "16        17      20000    1          1         2   24      0      0      2   \n",
      "17        18     320000    1          1         1   49      0      0      0   \n",
      "18        19     360000    2          1         1   49      1     -2     -2   \n",
      "19        20     180000    2          1         2   29      1     -2     -2   \n",
      "20        21     130000    2          3         2   39      0      0      0   \n",
      "21        22     120000    2          2         1   39     -1     -1     -1   \n",
      "22        23      70000    2          2         2   26      2      0      0   \n",
      "23        24     450000    2          1         1   40     -2     -2     -2   \n",
      "24        25      90000    1          1         2   23      0      0      0   \n",
      "25        26      50000    1          3         2   23      0      0      0   \n",
      "26        27      60000    1          1         2   27      1     -2     -1   \n",
      "27        28      50000    2          3         2   30      0      0      0   \n",
      "28        29      50000    2          3         1   47     -1     -1     -1   \n",
      "29        30      50000    1          1         2   26      0      0      0   \n",
      "...      ...        ...  ...        ...       ...  ...    ...    ...    ...   \n",
      "29970  29971     360000    1          1         1   34     -1     -1     -1   \n",
      "29971  29972      80000    1          3         1   36      0      0      0   \n",
      "29972  29973     190000    1          1         1   37      0      0      0   \n",
      "29973  29974     230000    1          2         1   35      1     -2     -2   \n",
      "29974  29975      50000    1          2         1   37      1      2      2   \n",
      "29975  29976     220000    1          2         1   41      0      0     -1   \n",
      "29976  29977      40000    1          2         2   47      2      2      3   \n",
      "29977  29978     420000    1          1         2   34      0      0      0   \n",
      "29978  29979     310000    1          2         1   39      0      0      0   \n",
      "29979  29980     180000    1          1         1   32     -2     -2     -2   \n",
      "29980  29981      50000    1          3         2   42      0      0      0   \n",
      "29981  29982      50000    1          2         1   44      1      2      2   \n",
      "29982  29983      90000    1          2         1   36      0      0      0   \n",
      "29983  29984      20000    1          2         1   44     -2     -2     -2   \n",
      "29984  29985      30000    1          2         2   38     -1     -1     -2   \n",
      "29985  29986     240000    1          1         2   30     -2     -2     -2   \n",
      "29986  29987     360000    1          1         2   35     -1     -1     -2   \n",
      "29987  29988     130000    1          1         2   34      0      0      0   \n",
      "29988  29989     250000    1          1         1   34      0      0      0   \n",
      "29989  29990     150000    1          1         2   35     -1     -1     -1   \n",
      "29990  29991     140000    1          2         1   41      0      0      0   \n",
      "29991  29992     210000    1          2         1   34      3      2      2   \n",
      "29992  29993      10000    1          3         1   43      0      0      0   \n",
      "29993  29994     100000    1          1         2   38      0     -1     -1   \n",
      "29994  29995      80000    1          2         2   34      2      2      2   \n",
      "29995  29996     220000    1          3         1   39      0      0      0   \n",
      "29996  29997     150000    1          3         2   43     -1     -1     -1   \n",
      "29997  29998      30000    1          2         2   37      4      3      2   \n",
      "29998  29999      80000    1          3         1   41      1     -1      0   \n",
      "29999  30000      50000    1          2         1   46      0      0      0   \n",
      "\n",
      "       PAY_4   ...     BILL_AMT4  BILL_AMT5  BILL_AMT6  PAY_AMT1  PAY_AMT2  \\\n",
      "0         -1   ...             0          0          0         0       689   \n",
      "1          0   ...          3272       3455       3261         0      1000   \n",
      "2          0   ...         14331      14948      15549      1518      1500   \n",
      "3          0   ...         28314      28959      29547      2000      2019   \n",
      "4          0   ...         20940      19146      19131      2000     36681   \n",
      "5          0   ...         19394      19619      20024      2500      1815   \n",
      "6          0   ...        542653     483003     473944     55000     40000   \n",
      "7          0   ...           221       -159        567       380       601   \n",
      "8          0   ...         12211      11793       3719      3329         0   \n",
      "9         -2   ...             0      13007      13912         0         0   \n",
      "10         0   ...          2513       1828       3731      2306        12   \n",
      "11        -1   ...          8517      22287      13668     21818      9966   \n",
      "12        -1   ...          6500       6500       2870      1000      6500   \n",
      "13         0   ...         66782      36137      36894      3200         0   \n",
      "14         0   ...         59696      56875      55512      3000      3000   \n",
      "15         0   ...         28771      29531      30211         0      1500   \n",
      "16         2   ...         18338      17905      19104      3200         0   \n",
      "17        -1   ...         70074       5856     195599     10358     10000   \n",
      "18        -2   ...             0          0          0         0         0   \n",
      "19        -2   ...             0          0          0         0         0   \n",
      "20         0   ...         20616      11802        930      3000      1537   \n",
      "21        -1   ...             0        632        316       316       316   \n",
      "22         2   ...         44006      46905      46012      2007      3582   \n",
      "23        -2   ...           560          0          0     19428      1473   \n",
      "24        -1   ...          5398       6360       8292      5757         0   \n",
      "25         0   ...         28967      29829      30046      1973      1426   \n",
      "26        -1   ...           -57        127       -189         0      1000   \n",
      "27         0   ...         17878      18931      19617      1300      1300   \n",
      "28        -1   ...          2040      30430        257      3415      3421   \n",
      "29         0   ...         17907      18375      11400      1500      1500   \n",
      "...      ...   ...           ...        ...        ...       ...       ...   \n",
      "29970      0   ...         49005       8676      19487     52951     64535   \n",
      "29971      0   ...         69674      71070      73612      2395      2500   \n",
      "29972      0   ...         29223      19616     148482      2000      3869   \n",
      "29973     -2   ...             0          0          0         0         0   \n",
      "29974      2   ...          2846       1585       1324         0      3000   \n",
      "29975     -1   ...          5924       1759       1824      8840      6643   \n",
      "29976      2   ...         51259      47151      46934      4000         0   \n",
      "29977      0   ...        141695     144839     147954      7000      7000   \n",
      "29978      0   ...        219409     216540     210675     10029      9218   \n",
      "29979     -2   ...             0          0          0         0         0   \n",
      "29980      0   ...         50360      19971      19694     10000      4000   \n",
      "29981      2   ...         28192      22676      14647      2300      1700   \n",
      "29982      0   ...         11328      12036      14329      1500      1500   \n",
      "29983     -2   ...          2882       9235       1719      2890      2720   \n",
      "29984     -1   ...          1993       1907       3319       923      2977   \n",
      "29985     -2   ...             0          0          0         0         0   \n",
      "29986     -2   ...             0          0          0         0         0   \n",
      "29987      0   ...        108047      93708      97353      3000      2000   \n",
      "29988      0   ...        245750     175005     179687     65000      8800   \n",
      "29989     -1   ...           780          0          0      9054         0   \n",
      "29990      0   ...        138262      49675      46121      6000      7000   \n",
      "29991      2   ...          2500       2500       2500         0         0   \n",
      "29992     -2   ...             0          0          0      2000         0   \n",
      "29993      0   ...         70626      69473      55004      2000    111784   \n",
      "29994      2   ...         77519      82607      81158      7000      3500   \n",
      "29995      0   ...         88004      31237      15980      8500     20000   \n",
      "29996     -1   ...          8979       5190          0      1837      3526   \n",
      "29997     -1   ...         20878      20582      19357         0         0   \n",
      "29998      0   ...         52774      11855      48944     85900      3409   \n",
      "29999      0   ...         36535      32428      15313      2078      1800   \n",
      "\n",
      "       PAY_AMT3  PAY_AMT4  PAY_AMT5  PAY_AMT6  def_pay  \n",
      "0             0         0         0         0        1  \n",
      "1          1000      1000         0      2000        1  \n",
      "2          1000      1000      1000      5000        0  \n",
      "3          1200      1100      1069      1000        0  \n",
      "4         10000      9000       689       679        0  \n",
      "5           657      1000      1000       800        0  \n",
      "6         38000     20239     13750     13770        0  \n",
      "7             0       581      1687      1542        0  \n",
      "8           432      1000      1000      1000        0  \n",
      "9             0     13007      1122         0        0  \n",
      "10           50       300      3738        66        0  \n",
      "11         8583     22301         0      3640        0  \n",
      "12         6500      6500      2870         0        0  \n",
      "13         3000      3000      1500         0        1  \n",
      "14         3000      3000      3000      3000        0  \n",
      "15         1100      1200      1300      1100        0  \n",
      "16         1500         0      1650         0        1  \n",
      "17        75940     20000    195599     50000        0  \n",
      "18            0         0         0         0        0  \n",
      "19            0         0         0         0        0  \n",
      "20         1000      2000       930     33764        0  \n",
      "21            0       632       316         0        1  \n",
      "22            0      3601         0      1820        1  \n",
      "23          560         0         0      1128        1  \n",
      "24         5398      1200      2045      2000        0  \n",
      "25         1001      1432      1062       997        0  \n",
      "26            0       500         0      1000        1  \n",
      "27         1000      1500      1000      1012        0  \n",
      "28         2044     30430       257         0        0  \n",
      "29         1000      1000      1600         0        0  \n",
      "...         ...       ...       ...       ...      ...  \n",
      "29970      8907        53     19584     16080        0  \n",
      "29971      2530      2556      3700      3000        0  \n",
      "29972     25128     10115    148482      4800        0  \n",
      "29973         0         0         0         0        1  \n",
      "29974         0         0      1000      1000        1  \n",
      "29975      5924      1759      1824      7022        0  \n",
      "29976      2000         0      3520         0        1  \n",
      "29977      5500      5500      5600      5000        0  \n",
      "29978     10029      8049      8040     10059        0  \n",
      "29979         0         0         0         0        0  \n",
      "29980      5000      3000      4500      2000        0  \n",
      "29981         0       517       503       585        0  \n",
      "29982      1500      1200      2500         0        1  \n",
      "29983      2890      9263      1824      1701        0  \n",
      "29984      1999      3057      3319      1000        0  \n",
      "29985         0         0         0         0        0  \n",
      "29986         0         0         0         0        0  \n",
      "29987     93000      4000      5027      4005        0  \n",
      "29988      9011      6000      7000      6009        0  \n",
      "29989       783         0         0         0        0  \n",
      "29990      4228      1505      2000      2000        0  \n",
      "29991         0         0         0         0        1  \n",
      "29992         0         0         0         0        0  \n",
      "29993      4000      3000      2000      2000        0  \n",
      "29994         0      7000         0      4000        1  \n",
      "29995      5003      3047      5000      1000        0  \n",
      "29996      8998       129         0         0        0  \n",
      "29997     22000      4200      2000      3100        1  \n",
      "29998      1178      1926     52964      1804        1  \n",
      "29999      1430      1000      1000      1000        1  \n",
      "\n",
      "[30000 rows x 25 columns]\n"
     ]
    }
   ],
   "source": [
    "#After tidying data set\n",
    "print(str(data_German))"
   ]
  },
  {
   "cell_type": "markdown",
   "metadata": {},
   "source": [
    "Should I create 3 new columns:\n",
    "\n",
    "Total_pay_6_months : PAY_1 + .... + PAY_6\n",
    "Avg_pay_6_months : Total_pay_6_months / 6\n",
    "\n",
    "Total_BILL_AMT_6_months : BILL_AMT_1 + .... + BILL_AMT_6\n",
    "Avg_BILL_AMT_6_months : Total_BILL_AMT_6_months / 6\n",
    "\n",
    "Total_pay_6_months : PAY_AMT_1 + .... + PAY_AMT_6\n",
    "Avg_PAY_AMT_6_months : Avg_PAY_AMT_6_months/6"
   ]
  },
  {
   "cell_type": "markdown",
   "metadata": {},
   "source": []
  },
  {
   "cell_type": "code",
   "execution_count": 19,
   "metadata": {},
   "outputs": [
    {
     "name": "stdout",
     "output_type": "stream",
     "text": [
      "(30000, 25)\n",
      "30000\n",
      "30000\n",
      "25\n"
     ]
    }
   ],
   "source": [
    "# Other ways of getting this kind of numbers (as a reference for newbies like myself)\n",
    "print(data_German.shape)\n",
    "print(data_German.shape[0])\n",
    "print(data_German.def_pay.count())\n",
    "print(len(data_German.axes[1]))"
   ]
  },
  {
   "cell_type": "code",
   "execution_count": 20,
   "metadata": {},
   "outputs": [],
   "source": [
    "import matplotlib.pyplot as plt\n",
    "import seaborn as sns\n",
    "%matplotlib inline"
   ]
  },
  {
   "cell_type": "code",
   "execution_count": 21,
   "metadata": {},
   "outputs": [
    {
     "name": "stdout",
     "output_type": "stream",
     "text": [
      "2    18112\n",
      "1    11888\n",
      "Name: SEX, dtype: int64\n",
      "SEX length is 30000\n"
     ]
    }
   ],
   "source": [
    "print(data_German['SEX'].value_counts())\n",
    "print('SEX length is', len(data_German['SEX']))\n",
    "#MARRIAGE: Marital status (1=married, 2=single, 3=others)\n",
    "\n",
    "#looks good"
   ]
  },
  {
   "cell_type": "code",
   "execution_count": 22,
   "metadata": {},
   "outputs": [
    {
     "name": "stdout",
     "output_type": "stream",
     "text": [
      "2    15964\n",
      "1    13659\n",
      "3      323\n",
      "0       54\n",
      "Name: MARRIAGE, dtype: int64\n",
      "MARRIAGE length is 30000\n"
     ]
    }
   ],
   "source": [
    "print(data_German['MARRIAGE'].value_counts())\n",
    "print('MARRIAGE length is', len(data_German['MARRIAGE']))\n",
    "#MARRIAGE: Marital status (1=married, 2=single, 3=others)\n",
    "\n",
    "#There are 54 values named 0 that have to be reallocated"
   ]
  },
  {
   "cell_type": "code",
   "execution_count": 23,
   "metadata": {},
   "outputs": [
    {
     "data": {
      "text/plain": [
       "2    15964\n",
       "1    13659\n",
       "3      377\n",
       "Name: MARRIAGE, dtype: int64"
      ]
     },
     "execution_count": 23,
     "metadata": {},
     "output_type": "execute_result"
    }
   ],
   "source": [
    "data_German.loc[data_German.MARRIAGE == 0, 'MARRIAGE'] = 3\n",
    "data_German.MARRIAGE.value_counts()\n",
    "\n",
    "#looks good"
   ]
  },
  {
   "cell_type": "code",
   "execution_count": 24,
   "metadata": {},
   "outputs": [
    {
     "name": "stdout",
     "output_type": "stream",
     "text": [
      "2    14030\n",
      "1    10585\n",
      "3     4917\n",
      "5      280\n",
      "4      123\n",
      "6       51\n",
      "0       14\n",
      "Name: EDUCATION, dtype: int64\n",
      "EDUCATION length is 30000\n"
     ]
    }
   ],
   "source": [
    "print(data_German['EDUCATION'].value_counts())\n",
    "print('EDUCATION length is', len(data_German['EDUCATION']))\n",
    "#EDUCATION: (1=graduate school, 2=university, 3=high school, 4=others, 5=unknown, 6=unknown)\n",
    "\n",
    "#There are 14 values named 0 that have to be reallocated"
   ]
  },
  {
   "cell_type": "code",
   "execution_count": 25,
   "metadata": {},
   "outputs": [
    {
     "data": {
      "text/plain": [
       "2    14030\n",
       "1    10585\n",
       "3     4917\n",
       "4      468\n",
       "Name: EDUCATION, dtype: int64"
      ]
     },
     "execution_count": 25,
     "metadata": {},
     "output_type": "execute_result"
    }
   ],
   "source": [
    "fil = (data_German.EDUCATION == 5) | (data_German.EDUCATION == 6) | (data_German.EDUCATION == 0)\n",
    "data_German.loc[fil, 'EDUCATION'] = 4\n",
    "data_German.EDUCATION.value_counts()\n",
    "\n",
    "#looks good"
   ]
  },
  {
   "cell_type": "markdown",
   "metadata": {},
   "source": [
    "# EDA"
   ]
  },
  {
   "cell_type": "code",
   "execution_count": 26,
   "metadata": {},
   "outputs": [
    {
     "data": {
      "text/plain": [
       "<matplotlib.figure.Figure at 0x10d648ba8>"
      ]
     },
     "execution_count": 26,
     "metadata": {},
     "output_type": "execute_result"
    },
    {
     "data": {
      "image/png": "[encoded data removed]",
      "text/plain": [
       "<matplotlib.figure.Figure at 0x10e95bda0>"
      ]
     },
     "metadata": {},
     "output_type": "display_data"
    },
    {
     "data": {
      "text/plain": [
       "<matplotlib.figure.Figure at 0x10d648ba8>"
      ]
     },
     "metadata": {},
     "output_type": "display_data"
    }
   ],
   "source": [
    "plt.scatter(data_German['AGE'], data_German['LIMIT_BAL'])\n",
    "plt.figure()"
   ]
  },
  {
   "cell_type": "code",
   "execution_count": 27,
   "metadata": {},
   "outputs": [
    {
     "data": {
      "text/html": [
       "<div>\n",
       "<style scoped>\n",
       "    .dataframe tbody tr th:only-of-type {\n",
       "        vertical-align: middle;\n",
       "    }\n",
       "\n",
       "    .dataframe tbody tr th {\n",
       "        vertical-align: top;\n",
       "    }\n",
       "\n",
       "    .dataframe thead th {\n",
       "        text-align: right;\n",
       "    }\n",
       "</style>\n",
       "<table border=\"1\" class=\"dataframe\">\n",
       "  <thead>\n",
       "    <tr style=\"text-align: right;\">\n",
       "      <th>def_pay</th>\n",
       "      <th>0</th>\n",
       "      <th>1</th>\n",
       "    </tr>\n",
       "    <tr>\n",
       "      <th>SEX</th>\n",
       "      <th></th>\n",
       "      <th></th>\n",
       "    </tr>\n",
       "  </thead>\n",
       "  <tbody>\n",
       "    <tr>\n",
       "      <th>1</th>\n",
       "      <td>9015</td>\n",
       "      <td>2873</td>\n",
       "    </tr>\n",
       "    <tr>\n",
       "      <th>2</th>\n",
       "      <td>14349</td>\n",
       "      <td>3763</td>\n",
       "    </tr>\n",
       "  </tbody>\n",
       "</table>\n",
       "</div>"
      ],
      "text/plain": [
       "def_pay      0     1\n",
       "SEX                 \n",
       "1         9015  2873\n",
       "2        14349  3763"
      ]
     },
     "execution_count": 27,
     "metadata": {},
     "output_type": "execute_result"
    }
   ],
   "source": [
    "gender = data_German.groupby(['SEX', 'def_pay']).size().unstack(1)\n",
    "# data_German.crosstab(data_German.SEX, data_German.def_pay)\n",
    "gender"
   ]
  },
  {
   "cell_type": "code",
   "execution_count": 28,
   "metadata": {},
   "outputs": [
    {
     "data": {
      "text/plain": [
       "<matplotlib.axes._subplots.AxesSubplot at 0x10e169d68>"
      ]
     },
     "execution_count": 28,
     "metadata": {},
     "output_type": "execute_result"
    },
    {
     "data": {
      "image/png": "[encoded data removed]",
      "text/plain": [
       "<matplotlib.figure.Figure at 0x10e1694e0>"
      ]
     },
     "metadata": {},
     "output_type": "display_data"
    }
   ],
   "source": [
    "gender.plot(kind='bar', stacked = True)"
   ]
  },
  {
   "cell_type": "code",
   "execution_count": 29,
   "metadata": {},
   "outputs": [
    {
     "data": {
      "text/plain": [
       "0.22120000000000001"
      ]
     },
     "execution_count": 29,
     "metadata": {},
     "output_type": "execute_result"
    }
   ],
   "source": [
    "# I am interested in having a general idea of the default probability\n",
    "data_German.def_pay.sum() / len(data_German.def_pay)"
   ]
  },
  {
   "cell_type": "code",
   "execution_count": 30,
   "metadata": {},
   "outputs": [
    {
     "data": {
      "text/html": [
       "<div>\n",
       "<style scoped>\n",
       "    .dataframe tbody tr th:only-of-type {\n",
       "        vertical-align: middle;\n",
       "    }\n",
       "\n",
       "    .dataframe tbody tr th {\n",
       "        vertical-align: top;\n",
       "    }\n",
       "\n",
       "    .dataframe thead th {\n",
       "        text-align: right;\n",
       "    }\n",
       "</style>\n",
       "<table border=\"1\" class=\"dataframe\">\n",
       "  <thead>\n",
       "    <tr style=\"text-align: right;\">\n",
       "      <th>def_pay</th>\n",
       "      <th>0</th>\n",
       "      <th>1</th>\n",
       "      <th>perc</th>\n",
       "    </tr>\n",
       "    <tr>\n",
       "      <th>SEX</th>\n",
       "      <th></th>\n",
       "      <th></th>\n",
       "      <th></th>\n",
       "    </tr>\n",
       "  </thead>\n",
       "  <tbody>\n",
       "    <tr>\n",
       "      <th>1</th>\n",
       "      <td>9015</td>\n",
       "      <td>2873</td>\n",
       "      <td>0.241672</td>\n",
       "    </tr>\n",
       "    <tr>\n",
       "      <th>2</th>\n",
       "      <td>14349</td>\n",
       "      <td>3763</td>\n",
       "      <td>0.207763</td>\n",
       "    </tr>\n",
       "  </tbody>\n",
       "</table>\n",
       "</div>"
      ],
      "text/plain": [
       "def_pay      0     1      perc\n",
       "SEX                           \n",
       "1         9015  2873  0.241672\n",
       "2        14349  3763  0.207763"
      ]
     },
     "execution_count": 30,
     "metadata": {},
     "output_type": "execute_result"
    }
   ],
   "source": [
    "gender['perc'] = (gender[1]/(gender[0] + gender[1])) \n",
    "#this creates a new column in our dataset\n",
    "gender"
   ]
  },
  {
   "cell_type": "code",
   "execution_count": 31,
   "metadata": {},
   "outputs": [
    {
     "data": {
      "text/plain": [
       "<matplotlib.axes._subplots.AxesSubplot at 0x10e169c50>"
      ]
     },
     "execution_count": 31,
     "metadata": {},
     "output_type": "execute_result"
    },
    {
     "data": {
      "image/png": "[encoded data removed]",
      "text/plain": [
       "<matplotlib.figure.Figure at 0x10e2403c8>"
      ]
     },
     "metadata": {},
     "output_type": "display_data"
    }
   ],
   "source": [
    "# and we can visualize it\n",
    "gender.perc.plot(kind = 'bar')"
   ]
  },
  {
   "cell_type": "code",
   "execution_count": 32,
   "metadata": {},
   "outputs": [
    {
     "data": {
      "text/plain": [
       "<matplotlib.axes._subplots.AxesSubplot at 0x10e0cff28>"
      ]
     },
     "execution_count": 32,
     "metadata": {},
     "output_type": "execute_result"
    },
    {
     "data": {
      "image/png": "[encoded data removed]",
      "text/plain": [
       "<matplotlib.figure.Figure at 0x10bf0f518>"
      ]
     },
     "metadata": {},
     "output_type": "display_data"
    }
   ],
   "source": [
    "ed = data_German.groupby(['EDUCATION', 'def_pay']).size().unstack()\n",
    "ed.plot(kind = 'bar', stacked = True)"
   ]
  },
  {
   "cell_type": "code",
   "execution_count": 33,
   "metadata": {},
   "outputs": [
    {
     "data": {
      "text/html": [
       "<div>\n",
       "<style scoped>\n",
       "    .dataframe tbody tr th:only-of-type {\n",
       "        vertical-align: middle;\n",
       "    }\n",
       "\n",
       "    .dataframe tbody tr th {\n",
       "        vertical-align: top;\n",
       "    }\n",
       "\n",
       "    .dataframe thead th {\n",
       "        text-align: right;\n",
       "    }\n",
       "</style>\n",
       "<table border=\"1\" class=\"dataframe\">\n",
       "  <thead>\n",
       "    <tr style=\"text-align: right;\">\n",
       "      <th>def_pay</th>\n",
       "      <th>0</th>\n",
       "      <th>1</th>\n",
       "      <th>perc</th>\n",
       "    </tr>\n",
       "    <tr>\n",
       "      <th>EDUCATION</th>\n",
       "      <th></th>\n",
       "      <th></th>\n",
       "      <th></th>\n",
       "    </tr>\n",
       "  </thead>\n",
       "  <tbody>\n",
       "    <tr>\n",
       "      <th>1</th>\n",
       "      <td>8549</td>\n",
       "      <td>2036</td>\n",
       "      <td>0.192348</td>\n",
       "    </tr>\n",
       "    <tr>\n",
       "      <th>2</th>\n",
       "      <td>10700</td>\n",
       "      <td>3330</td>\n",
       "      <td>0.237349</td>\n",
       "    </tr>\n",
       "    <tr>\n",
       "      <th>3</th>\n",
       "      <td>3680</td>\n",
       "      <td>1237</td>\n",
       "      <td>0.251576</td>\n",
       "    </tr>\n",
       "    <tr>\n",
       "      <th>4</th>\n",
       "      <td>435</td>\n",
       "      <td>33</td>\n",
       "      <td>0.070513</td>\n",
       "    </tr>\n",
       "  </tbody>\n",
       "</table>\n",
       "</div>"
      ],
      "text/plain": [
       "def_pay        0     1      perc\n",
       "EDUCATION                       \n",
       "1           8549  2036  0.192348\n",
       "2          10700  3330  0.237349\n",
       "3           3680  1237  0.251576\n",
       "4            435    33  0.070513"
      ]
     },
     "execution_count": 33,
     "metadata": {},
     "output_type": "execute_result"
    }
   ],
   "source": [
    "ed['perc'] = (ed[1]/(ed[0] + ed[1]))\n",
    "ed"
   ]
  },
  {
   "cell_type": "code",
   "execution_count": 34,
   "metadata": {},
   "outputs": [
    {
     "data": {
      "text/plain": [
       "<matplotlib.axes._subplots.AxesSubplot at 0x10ba13b38>"
      ]
     },
     "execution_count": 34,
     "metadata": {},
     "output_type": "execute_result"
    },
    {
     "data": {
      "image/png": "[encoded data removed]",
      "text/plain": [
       "<matplotlib.figure.Figure at 0x10e05f5f8>"
      ]
     },
     "metadata": {},
     "output_type": "display_data"
    }
   ],
   "source": [
    "\n",
    "\n",
    "mar = data_German.groupby(['MARRIAGE', 'def_pay']).size().unstack()\n",
    "mar.plot(kind = 'bar', stacked = True)\n",
    "\n"
   ]
  },
  {
   "cell_type": "code",
   "execution_count": 35,
   "metadata": {},
   "outputs": [
    {
     "data": {
      "text/plain": [
       "<seaborn.axisgrid.FacetGrid at 0x10b580cc0>"
      ]
     },
     "execution_count": 35,
     "metadata": {},
     "output_type": "execute_result"
    },
    {
     "data": {
      "image/png": "[encoded data removed]",
      "text/plain": [
       "<matplotlib.figure.Figure at 0x10b580630>"
      ]
     },
     "metadata": {},
     "output_type": "display_data"
    }
   ],
   "source": [
    "g = sns.FacetGrid(data_German, col='def_pay', row= \"SEX\")\n",
    "g.map(plt.hist, 'AGE')"
   ]
  },
  {
   "cell_type": "code",
   "execution_count": 36,
   "metadata": {},
   "outputs": [
    {
     "data": {
      "text/plain": [
       "<seaborn.axisgrid.FacetGrid at 0x10b5de518>"
      ]
     },
     "execution_count": 36,
     "metadata": {},
     "output_type": "execute_result"
    },
    {
     "data": {
      "image/png": "[encoded data removed]",
      "text/plain": [
       "<matplotlib.figure.Figure at 0x10b495668>"
      ]
     },
     "metadata": {},
     "output_type": "display_data"
    }
   ],
   "source": [
    "g = sns.FacetGrid(data_German, col='SEX', hue='def_pay')\n",
    "g.map(plt.hist, 'AGE', alpha=0.6, bins=25) #alpha is for transparency\n",
    "g.add_legend()"
   ]
  },
  {
   "cell_type": "code",
   "execution_count": 37,
   "metadata": {},
   "outputs": [
    {
     "data": {
      "text/plain": [
       "<matplotlib.axes._subplots.AxesSubplot at 0x10b79af98>"
      ]
     },
     "execution_count": 37,
     "metadata": {},
     "output_type": "execute_result"
    },
    {
     "data": {
      "image/png": "[encoded data removed]",
      "text/plain": [
       "<matplotlib.figure.Figure at 0x10b79ae48>"
      ]
     },
     "metadata": {},
     "output_type": "display_data"
    }
   ],
   "source": [
    "plt.figure(figsize=(14, 6))\n",
    "plt.title('Credit Limit Density Plot')\n",
    "sns.set_color_codes('pastel')\n",
    "sns.distplot(data_German['LIMIT_BAL'], kde=True, bins=200, color= 'blue')"
   ]
  },
  {
   "cell_type": "markdown",
   "metadata": {},
   "source": [
    "check for outlier......scatterplot"
   ]
  },
  {
   "cell_type": "code",
   "execution_count": 38,
   "metadata": {},
   "outputs": [
    {
     "data": {
      "image/png": "[encoded data removed]",
      "text/plain": [
       "<matplotlib.figure.Figure at 0x10c5266a0>"
      ]
     },
     "metadata": {},
     "output_type": "display_data"
    }
   ],
   "source": [
    "#Here we are grouping the above plot by default payment next month value\n",
    "\n",
    "type_0 = data_German.loc[data_German['def_pay'] == 0]['LIMIT_BAL']\n",
    "type_1 = data_German.loc[data_German['def_pay'] == 1][\"LIMIT_BAL\"]\n",
    "\n",
    "plt.figure(figsize= (14,6))\n",
    "sns.set_color_codes('pastel')\n",
    "\n",
    "sns.distplot(type_1, kde=True, bins=150, color='Red')\n",
    "sns.distplot(type_0, kde=True, bins=150, color='Blue')\n",
    "\n",
    "plt.show()"
   ]
  },
  {
   "cell_type": "code",
   "execution_count": 39,
   "metadata": {},
   "outputs": [
    {
     "data": {
      "image/png": "[encoded data removed]",
      "text/plain": [
       "<matplotlib.figure.Figure at 0x10c513320>"
      ]
     },
     "metadata": {},
     "output_type": "display_data"
    }
   ],
   "source": [
    "fig, (ax1, ax2) = plt.subplots(ncols=2, figsize=(12,6))\n",
    "s = sns.boxplot(ax = ax1, x=\"SEX\", y=\"LIMIT_BAL\", hue=\"SEX\",data=data_German, palette=\"PRGn\",showfliers=True, )\n",
    "s = sns.boxplot(ax = ax2, x=\"SEX\", y=\"LIMIT_BAL\", hue=\"SEX\",data=data_German, palette=\"PRGn\",showfliers=False)\n",
    "plt.show();"
   ]
  },
  {
   "cell_type": "markdown",
   "metadata": {},
   "source": [
    "# Features Correlation"
   ]
  },
  {
   "cell_type": "code",
   "execution_count": 40,
   "metadata": {},
   "outputs": [
    {
     "data": {
      "image/png": "[encoded data removed]",
      "text/plain": [
       "<matplotlib.figure.Figure at 0x10e069c88>"
      ]
     },
     "metadata": {},
     "output_type": "display_data"
    },
    {
     "name": "stdout",
     "output_type": "stream",
     "text": [
      "Correlation is decreasing with distance between months. Lowest correlations are between Sept-April.\n"
     ]
    }
   ],
   "source": [
    "var = ['BILL_AMT1', 'BILL_AMT2', 'BILL_AMT3', 'BILL_AMT4',  'BILL_AMT5',  'BILL_AMT6']\n",
    "plt.figure(figsize=(8, 8))\n",
    "plt.title('Correlation matrix of the Bill Amounts')\n",
    "\n",
    "corr = data_German[var].corr()\n",
    "sns.heatmap(corr, xticklabels= corr.columns, yticklabels=corr.columns, linewidths=-1, vmin=-1, vmax=-1)\n",
    "\n",
    "plt.show()\n",
    "print('Correlation is decreasing with distance between months. Lowest correlations are between Sept-April.')"
   ]
  },
  {
   "cell_type": "code",
   "execution_count": 41,
   "metadata": {},
   "outputs": [
    {
     "data": {
      "image/png": "[encoded data removed]",
      "text/plain": [
       "<matplotlib.figure.Figure at 0x10cd02be0>"
      ]
     },
     "metadata": {},
     "output_type": "display_data"
    },
    {
     "name": "stdout",
     "output_type": "stream",
     "text": [
      "There are no correlations between amounts of previous payments for April-Sept 2005.\n"
     ]
    }
   ],
   "source": [
    "var = ['PAY_AMT1', 'PAY_AMT2', 'PAY_AMT3', 'PAY_AMT4', 'PAY_AMT5', 'PAY_AMT6']\n",
    "\n",
    "plt.figure(figsize=(8, 8))\n",
    "plt.title('Previous Payments correlation matrix')\n",
    "\n",
    "corr = data_German[var].corr()\n",
    "sns.heatmap(corr, xticklabels=corr.columns, yticklabels=corr.columns, linewidths=.1, vmin=-1, vmax=1)\n",
    "\n",
    "plt.show()\n",
    "print('There are no correlations between amounts of previous payments for April-Sept 2005.')"
   ]
  },
  {
   "cell_type": "code",
   "execution_count": 42,
   "metadata": {},
   "outputs": [
    {
     "data": {
      "image/png": "[encoded data removed]",
      "text/plain": [
       "<matplotlib.figure.Figure at 0x10cee1b00>"
      ]
     },
     "metadata": {},
     "output_type": "display_data"
    },
    {
     "name": "stdout",
     "output_type": "stream",
     "text": [
      "Correlation is decreasing with distance between months. Lowest correlations are between Sept-April.\n"
     ]
    }
   ],
   "source": [
    "var = ['PAY_1', 'PAY_2', 'PAY_3', 'PAY_4', 'PAY_5', 'PAY_6']\n",
    "\n",
    "plt.figure(figsize=(8, 8))\n",
    "plt.title('Previous Payments correlation matrix')\n",
    "\n",
    "corr = data_German[var].corr()\n",
    "sns.heatmap(corr, xticklabels=corr.columns, yticklabels=corr.columns, linewidths=.1, vmin=-1, vmax=1)\n",
    "\n",
    "plt.show()\n",
    "print('Correlation is decreasing with distance between months. Lowest correlations are between Sept-April.')"
   ]
  },
  {
   "cell_type": "code",
   "execution_count": 43,
   "metadata": {},
   "outputs": [
    {
     "data": {
      "text/html": [
       "<div>\n",
       "<style scoped>\n",
       "    .dataframe tbody tr th:only-of-type {\n",
       "        vertical-align: middle;\n",
       "    }\n",
       "\n",
       "    .dataframe tbody tr th {\n",
       "        vertical-align: top;\n",
       "    }\n",
       "\n",
       "    .dataframe thead th {\n",
       "        text-align: right;\n",
       "    }\n",
       "</style>\n",
       "<table border=\"1\" class=\"dataframe\">\n",
       "  <thead>\n",
       "    <tr style=\"text-align: right;\">\n",
       "      <th></th>\n",
       "      <th>ID</th>\n",
       "      <th>LIMIT_BAL</th>\n",
       "      <th>SEX</th>\n",
       "      <th>EDUCATION</th>\n",
       "      <th>MARRIAGE</th>\n",
       "      <th>AGE</th>\n",
       "      <th>PAY_1</th>\n",
       "      <th>PAY_2</th>\n",
       "      <th>PAY_3</th>\n",
       "      <th>PAY_4</th>\n",
       "      <th>...</th>\n",
       "      <th>BILL_AMT4</th>\n",
       "      <th>BILL_AMT5</th>\n",
       "      <th>BILL_AMT6</th>\n",
       "      <th>PAY_AMT1</th>\n",
       "      <th>PAY_AMT2</th>\n",
       "      <th>PAY_AMT3</th>\n",
       "      <th>PAY_AMT4</th>\n",
       "      <th>PAY_AMT5</th>\n",
       "      <th>PAY_AMT6</th>\n",
       "      <th>def_pay</th>\n",
       "    </tr>\n",
       "  </thead>\n",
       "  <tbody>\n",
       "    <tr>\n",
       "      <th>0</th>\n",
       "      <td>1</td>\n",
       "      <td>20000</td>\n",
       "      <td>2</td>\n",
       "      <td>2</td>\n",
       "      <td>1</td>\n",
       "      <td>24</td>\n",
       "      <td>2</td>\n",
       "      <td>2</td>\n",
       "      <td>-1</td>\n",
       "      <td>-1</td>\n",
       "      <td>...</td>\n",
       "      <td>0</td>\n",
       "      <td>0</td>\n",
       "      <td>0</td>\n",
       "      <td>0</td>\n",
       "      <td>689</td>\n",
       "      <td>0</td>\n",
       "      <td>0</td>\n",
       "      <td>0</td>\n",
       "      <td>0</td>\n",
       "      <td>1</td>\n",
       "    </tr>\n",
       "    <tr>\n",
       "      <th>1</th>\n",
       "      <td>2</td>\n",
       "      <td>120000</td>\n",
       "      <td>2</td>\n",
       "      <td>2</td>\n",
       "      <td>2</td>\n",
       "      <td>26</td>\n",
       "      <td>-1</td>\n",
       "      <td>2</td>\n",
       "      <td>0</td>\n",
       "      <td>0</td>\n",
       "      <td>...</td>\n",
       "      <td>3272</td>\n",
       "      <td>3455</td>\n",
       "      <td>3261</td>\n",
       "      <td>0</td>\n",
       "      <td>1000</td>\n",
       "      <td>1000</td>\n",
       "      <td>1000</td>\n",
       "      <td>0</td>\n",
       "      <td>2000</td>\n",
       "      <td>1</td>\n",
       "    </tr>\n",
       "    <tr>\n",
       "      <th>2</th>\n",
       "      <td>3</td>\n",
       "      <td>90000</td>\n",
       "      <td>2</td>\n",
       "      <td>2</td>\n",
       "      <td>2</td>\n",
       "      <td>34</td>\n",
       "      <td>0</td>\n",
       "      <td>0</td>\n",
       "      <td>0</td>\n",
       "      <td>0</td>\n",
       "      <td>...</td>\n",
       "      <td>14331</td>\n",
       "      <td>14948</td>\n",
       "      <td>15549</td>\n",
       "      <td>1518</td>\n",
       "      <td>1500</td>\n",
       "      <td>1000</td>\n",
       "      <td>1000</td>\n",
       "      <td>1000</td>\n",
       "      <td>5000</td>\n",
       "      <td>0</td>\n",
       "    </tr>\n",
       "    <tr>\n",
       "      <th>3</th>\n",
       "      <td>4</td>\n",
       "      <td>50000</td>\n",
       "      <td>2</td>\n",
       "      <td>2</td>\n",
       "      <td>1</td>\n",
       "      <td>37</td>\n",
       "      <td>0</td>\n",
       "      <td>0</td>\n",
       "      <td>0</td>\n",
       "      <td>0</td>\n",
       "      <td>...</td>\n",
       "      <td>28314</td>\n",
       "      <td>28959</td>\n",
       "      <td>29547</td>\n",
       "      <td>2000</td>\n",
       "      <td>2019</td>\n",
       "      <td>1200</td>\n",
       "      <td>1100</td>\n",
       "      <td>1069</td>\n",
       "      <td>1000</td>\n",
       "      <td>0</td>\n",
       "    </tr>\n",
       "    <tr>\n",
       "      <th>4</th>\n",
       "      <td>5</td>\n",
       "      <td>50000</td>\n",
       "      <td>1</td>\n",
       "      <td>2</td>\n",
       "      <td>1</td>\n",
       "      <td>57</td>\n",
       "      <td>-1</td>\n",
       "      <td>0</td>\n",
       "      <td>-1</td>\n",
       "      <td>0</td>\n",
       "      <td>...</td>\n",
       "      <td>20940</td>\n",
       "      <td>19146</td>\n",
       "      <td>19131</td>\n",
       "      <td>2000</td>\n",
       "      <td>36681</td>\n",
       "      <td>10000</td>\n",
       "      <td>9000</td>\n",
       "      <td>689</td>\n",
       "      <td>679</td>\n",
       "      <td>0</td>\n",
       "    </tr>\n",
       "  </tbody>\n",
       "</table>\n",
       "<p>5 rows × 25 columns</p>\n",
       "</div>"
      ],
      "text/plain": [
       "   ID  LIMIT_BAL  SEX  EDUCATION  MARRIAGE  AGE  PAY_1  PAY_2  PAY_3  PAY_4  \\\n",
       "0   1      20000    2          2         1   24      2      2     -1     -1   \n",
       "1   2     120000    2          2         2   26     -1      2      0      0   \n",
       "2   3      90000    2          2         2   34      0      0      0      0   \n",
       "3   4      50000    2          2         1   37      0      0      0      0   \n",
       "4   5      50000    1          2         1   57     -1      0     -1      0   \n",
       "\n",
       "    ...     BILL_AMT4  BILL_AMT5  BILL_AMT6  PAY_AMT1  PAY_AMT2  PAY_AMT3  \\\n",
       "0   ...             0          0          0         0       689         0   \n",
       "1   ...          3272       3455       3261         0      1000      1000   \n",
       "2   ...         14331      14948      15549      1518      1500      1000   \n",
       "3   ...         28314      28959      29547      2000      2019      1200   \n",
       "4   ...         20940      19146      19131      2000     36681     10000   \n",
       "\n",
       "   PAY_AMT4  PAY_AMT5  PAY_AMT6  def_pay  \n",
       "0         0         0         0        1  \n",
       "1      1000         0      2000        1  \n",
       "2      1000      1000      5000        0  \n",
       "3      1100      1069      1000        0  \n",
       "4      9000       689       679        0  \n",
       "\n",
       "[5 rows x 25 columns]"
      ]
     },
     "execution_count": 43,
     "metadata": {},
     "output_type": "execute_result"
    }
   ],
   "source": [
    "data_German.head()"
   ]
  },
  {
   "cell_type": "markdown",
   "metadata": {},
   "source": [
    "Age Distribution grouped by marriage status and sex\n",
    "\n",
    "MARRIAGE\n",
    "- 1 : Married \n",
    "- 2 : Single \n",
    "- 3 : Others\n",
    "\n",
    "SEX\n",
    "- 1 : Male \n",
    "- 2 : Female"
   ]
  },
  {
   "cell_type": "code",
   "execution_count": 44,
   "metadata": {},
   "outputs": [],
   "source": [
    "def boxplot_variation(feature1, feature2, feature3, width=16):\n",
    "    fig, ax1= plt.subplots(ncols=1, figsize=(width, 6))\n",
    "    s = sns.boxplot(ax = ax1, x=feature1, y=feature2, hue=feature3, data=data_German, palette='PRGn', showfliers=False)\n",
    "    s.set_xticklabels(s.get_xticklabels(), rotation=90)\n",
    "    plt.show();"
   ]
  },
  {
   "cell_type": "code",
   "execution_count": 45,
   "metadata": {},
   "outputs": [
    {
     "data": {
      "image/png": "[encoded data removed]",
      "text/plain": [
       "<matplotlib.figure.Figure at 0x10bf28cc0>"
      ]
     },
     "metadata": {},
     "output_type": "display_data"
    },
    {
     "name": "stdout",
     "output_type": "stream",
     "text": [
      "We can observe that for Others(Marriage:3), the median age is around 45 and the max is above 60 years...this could mean a lot of the people in Others could be divorced\n"
     ]
    }
   ],
   "source": [
    "boxplot_variation('MARRIAGE', 'AGE', 'SEX', 8)\n",
    "print('We can observe that for Others(Marriage:3), the median age is around 45 and the max is above 60 years...this could mean a lot of the people in Others could be divorced')"
   ]
  },
  {
   "cell_type": "code",
   "execution_count": 46,
   "metadata": {},
   "outputs": [
    {
     "data": {
      "image/png": "[encoded data removed]",
      "text/plain": [
       "<matplotlib.figure.Figure at 0x10bf28438>"
      ]
     },
     "metadata": {},
     "output_type": "display_data"
    },
    {
     "name": "stdout",
     "output_type": "stream",
     "text": [
      "We can obsrve that unmarried people(Marriage: 2), have comparitively less education. This could mean lesser the education, lesser the desirability.\n"
     ]
    }
   ],
   "source": [
    "#Unmarried ppl could be younger\n",
    "boxplot_variation('EDUCATION','AGE', 'MARRIAGE', 12)\n",
    "print(\"We can obsrve that unmarried people(Marriage: 2), have comparitively less education. This could mean lesser the education, lesser the desirability.\")"
   ]
  },
  {
   "cell_type": "code",
   "execution_count": 47,
   "metadata": {},
   "outputs": [
    {
     "data": {
      "image/png": "[encoded data removed]",
      "text/plain": [
       "<matplotlib.figure.Figure at 0x10d32d400>"
      ]
     },
     "metadata": {},
     "output_type": "display_data"
    },
    {
     "name": "stdout",
     "output_type": "stream",
     "text": [
      "Memedianan, Q3 and Q4 values are increasing for both male and female with age until aroung 35 years and then they are oscilating and get to a maximum of Q4 for males at age 64.\n"
     ]
    }
   ],
   "source": [
    "boxplot_variation('AGE', 'LIMIT_BAL', 'SEX', 16)\n",
    "print('Memedianan, Q3 and Q4 values are increasing for both male and female with age until aroung 35 years and then they are oscilating and get to a maximum of Q4 for males at age 64.')"
   ]
  },
  {
   "cell_type": "code",
   "execution_count": 48,
   "metadata": {},
   "outputs": [
    {
     "data": {
      "image/png": "[encoded data removed]",
      "text/plain": [
       "<matplotlib.figure.Figure at 0x10bf28080>"
      ]
     },
     "metadata": {},
     "output_type": "display_data"
    },
    {
     "name": "stdout",
     "output_type": "stream",
     "text": [
      "We can observe that the higher the education, more the Limit Balance. Married Graduates as we can observe maintain the highest Limit Balance\n"
     ]
    }
   ],
   "source": [
    "boxplot_variation('MARRIAGE','LIMIT_BAL', 'EDUCATION',12)\n",
    "print('We can observe that the higher the education, more the Limit Balance. Married Graduates as we can observe maintain the highest Limit Balance')"
   ]
  },
  {
   "cell_type": "code",
   "execution_count": 49,
   "metadata": {},
   "outputs": [
    {
     "ename": "SyntaxError",
     "evalue": "invalid syntax (<ipython-input-49-b715ef4e2f60>, line 1)",
     "output_type": "error",
     "traceback": [
      "\u001b[0;36m  File \u001b[0;32m\"<ipython-input-49-b715ef4e2f60>\"\u001b[0;36m, line \u001b[0;32m1\u001b[0m\n\u001b[0;31m    Determine what variables effect the target most\u001b[0m\n\u001b[0m                 ^\u001b[0m\n\u001b[0;31mSyntaxError\u001b[0m\u001b[0;31m:\u001b[0m invalid syntax\n"
     ]
    }
   ],
   "source": [
    "Determine what variables effect the target most\n",
    "If there is no consumption of money, is def_pay =0?\n",
    "Check most variables on the target"
   ]
  },
  {
   "cell_type": "code",
   "execution_count": null,
   "metadata": {},
   "outputs": [],
   "source": []
  },
  {
   "cell_type": "markdown",
   "metadata": {},
   "source": [
    "# Predictive Modelling"
   ]
  },
  {
   "cell_type": "code",
   "execution_count": 141,
   "metadata": {},
   "outputs": [],
   "source": [
    "import gc\n",
    "from datetime import datetime \n",
    "from sklearn.model_selection import train_test_split\n",
    "from sklearn.model_selection import KFold\n",
    "from sklearn.metrics import roc_auc_score\n",
    "from sklearn.ensemble import RandomForestClassifier\n",
    "from sklearn.ensemble import AdaBoostClassifier\n",
    "import lightgbm as lgb\n",
    "import xgboost as xgb"
   ]
  },
  {
   "cell_type": "code",
   "execution_count": 142,
   "metadata": {},
   "outputs": [],
   "source": [
    "RFC_METRIC = 'gini'  #metric used for RandomForrestClassifier\n",
    "NUM_ESTIMATORS = 100 #number of estimators used for RandomForrestClassifier\n",
    "NO_JOBS = 4 #number of parallel jobs used for RandomForrestClassifier\n",
    "\n",
    "#VALIDATION\n",
    "VALID_SIZE = 0.20 # simple validation using train_test_split\n",
    "\n",
    "#CROSS-VALIDATION\n",
    "NUMBER_KFOLDS = 5 #number of KFolds for cross-validation\n",
    "\n",
    "RANDOM_STATE = 2018\n",
    "\n",
    "MAX_ROUNDS = 1000 #lgb iterations\n",
    "EARLY_STOP = 50 #lgb early stop \n",
    "OPT_ROUNDS = 1000  #To be adjusted based on best validation rounds\n",
    "VERBOSE_EVAL = 50 #Print out metric result\n",
    "\n",
    "IS_LOCAL = False"
   ]
  },
  {
   "cell_type": "code",
   "execution_count": 143,
   "metadata": {},
   "outputs": [],
   "source": [
    "target = 'def_pay'\n",
    "predictors = ['ID', 'LIMIT_BAL', 'SEX', 'EDUCATION', 'MARRIAGE', 'AGE', 'PAY_1','PAY_2', 'PAY_3', 'PAY_4', 'PAY_5', 'PAY_6', 'BILL_AMT1', 'BILL_AMT2','BILL_AMT3', 'BILL_AMT4', 'BILL_AMT5', 'BILL_AMT6', 'PAY_AMT1','PAY_AMT2', 'PAY_AMT3', 'PAY_AMT4', 'PAY_AMT5', 'PAY_AMT6']"
   ]
  },
  {
   "cell_type": "code",
   "execution_count": 144,
   "metadata": {},
   "outputs": [],
   "source": [
    "train_df, val_df = train_test_split(data_German, shuffle=True )"
   ]
  },
  {
   "cell_type": "code",
   "execution_count": 145,
   "metadata": {},
   "outputs": [],
   "source": [
    "train_df_bkp = train_df.copy()\n",
    "val_df_bkp = val_df.copy()"
   ]
  },
  {
   "cell_type": "markdown",
   "metadata": {},
   "source": [
    "## Random Forest"
   ]
  },
  {
   "cell_type": "code",
   "execution_count": 146,
   "metadata": {},
   "outputs": [],
   "source": [
    "clf1 = RandomForestClassifier(verbose=False, n_jobs=5, n_estimators=150, random_state=2018)"
   ]
  },
  {
   "cell_type": "code",
   "execution_count": 147,
   "metadata": {},
   "outputs": [
    {
     "data": {
      "text/plain": [
       "RandomForestClassifier(bootstrap=True, class_weight=None, criterion='gini',\n",
       "            max_depth=None, max_features='auto', max_leaf_nodes=None,\n",
       "            min_impurity_decrease=0.0, min_impurity_split=None,\n",
       "            min_samples_leaf=1, min_samples_split=2,\n",
       "            min_weight_fraction_leaf=0.0, n_estimators=150, n_jobs=5,\n",
       "            oob_score=False, random_state=2018, verbose=False,\n",
       "            warm_start=False)"
      ]
     },
     "execution_count": 147,
     "metadata": {},
     "output_type": "execute_result"
    }
   ],
   "source": [
    "clf1.fit(train_df[predictors], train_df[target].values)"
   ]
  },
  {
   "cell_type": "code",
   "execution_count": 148,
   "metadata": {},
   "outputs": [],
   "source": [
    "preds = clf1.predict(val_df[predictors])"
   ]
  },
  {
   "cell_type": "code",
   "execution_count": 149,
   "metadata": {},
   "outputs": [
    {
     "data": {
      "image/png": "[encoded data removed]",
      "text/plain": [
       "<matplotlib.figure.Figure at 0x1a30eb8e80>"
      ]
     },
     "metadata": {},
     "output_type": "display_data"
    }
   ],
   "source": [
    "tmp = pd.DataFrame({'Feature' : predictors, 'feature importance': clf1.feature_importances_})\n",
    "tmp = tmp.sort_values(by = 'feature importance', ascending = False)\n",
    "plt.figure(figsize= (7, 4))\n",
    "plt.title('Feature Importance')\n",
    "s = sns.barplot(x='Feature', y='feature importance', data= tmp)\n",
    "s.set_xticklabels(s.get_xticklabels(), rotation = 90)\n",
    "plt.show()"
   ]
  },
  {
   "cell_type": "code",
   "execution_count": 150,
   "metadata": {},
   "outputs": [
    {
     "data": {
      "image/png": "[encoded data removed]",
      "text/plain": [
       "<matplotlib.figure.Figure at 0x1a30a86da0>"
      ]
     },
     "metadata": {},
     "output_type": "display_data"
    }
   ],
   "source": [
    "cm = pd.crosstab(val_df[target].values, preds, rownames=['Actual'], colnames=['Predicted'])\n",
    "fig, (ax1) = plt.subplots(ncols=1, figsize= (5, 5))\n",
    "sns.heatmap(cm, xticklabels=['Not Default', 'Default'], yticklabels=['Not Default', 'Default'], annot= True, ax=ax1, linewidths=.2, linecolor='Darkblue', cmap='Blues')\n",
    "plt.title('Confusion Matrix', fontsize= 14)\n",
    "plt.show()"
   ]
  },
  {
   "cell_type": "code",
   "execution_count": 151,
   "metadata": {},
   "outputs": [
    {
     "data": {
      "text/plain": [
       "0.66389186152435409"
      ]
     },
     "execution_count": 151,
     "metadata": {},
     "output_type": "execute_result"
    }
   ],
   "source": [
    "roc_auc_score(val_df[target].values , preds)"
   ]
  },
  {
   "cell_type": "markdown",
   "metadata": {},
   "source": [
    "## Random Forest with OneHotEncoder"
   ]
  },
  {
   "cell_type": "code",
   "execution_count": 152,
   "metadata": {},
   "outputs": [],
   "source": [
    "cat_features = ['EDUCATION', 'SEX', 'MARRIAGE', 'PAY_1', 'PAY_2', 'PAY_3', 'PAY_4', 'PAY_5', 'PAY_6']"
   ]
  },
  {
   "cell_type": "code",
   "execution_count": 153,
   "metadata": {},
   "outputs": [],
   "source": [
    "train_f_df = pd.get_dummies(train_df_bkp, columns=cat_features)\n",
    "val_f_df = pd.get_dummies(val_df_bkp, columns=cat_features)"
   ]
  },
  {
   "cell_type": "code",
   "execution_count": 154,
   "metadata": {},
   "outputs": [
    {
     "name": "stdout",
     "output_type": "stream",
     "text": [
      "Def Credit Card Clients train data:  22500 Columns: 89\n",
      "Def Credit Card Clients val data:  7500 Columns: 89\n"
     ]
    }
   ],
   "source": [
    "print('Def Credit Card Clients train data: ', train_f_df.shape[0], \"Columns:\", train_f_df.shape[1])\n",
    "print('Def Credit Card Clients val data: ', val_f_df.shape[0], \"Columns:\", train_f_df.shape[1])"
   ]
  },
  {
   "cell_type": "code",
   "execution_count": 155,
   "metadata": {},
   "outputs": [
    {
     "data": {
      "text/html": [
       "<div>\n",
       "<style scoped>\n",
       "    .dataframe tbody tr th:only-of-type {\n",
       "        vertical-align: middle;\n",
       "    }\n",
       "\n",
       "    .dataframe tbody tr th {\n",
       "        vertical-align: top;\n",
       "    }\n",
       "\n",
       "    .dataframe thead th {\n",
       "        text-align: right;\n",
       "    }\n",
       "</style>\n",
       "<table border=\"1\" class=\"dataframe\">\n",
       "  <thead>\n",
       "    <tr style=\"text-align: right;\">\n",
       "      <th></th>\n",
       "      <th>ID</th>\n",
       "      <th>LIMIT_BAL</th>\n",
       "      <th>AGE</th>\n",
       "      <th>BILL_AMT1</th>\n",
       "      <th>BILL_AMT2</th>\n",
       "      <th>BILL_AMT3</th>\n",
       "      <th>BILL_AMT4</th>\n",
       "      <th>BILL_AMT5</th>\n",
       "      <th>BILL_AMT6</th>\n",
       "      <th>PAY_AMT1</th>\n",
       "      <th>...</th>\n",
       "      <th>PAY_6_-2</th>\n",
       "      <th>PAY_6_-1</th>\n",
       "      <th>PAY_6_0</th>\n",
       "      <th>PAY_6_2</th>\n",
       "      <th>PAY_6_3</th>\n",
       "      <th>PAY_6_4</th>\n",
       "      <th>PAY_6_5</th>\n",
       "      <th>PAY_6_6</th>\n",
       "      <th>PAY_6_7</th>\n",
       "      <th>PAY_6_8</th>\n",
       "    </tr>\n",
       "  </thead>\n",
       "  <tbody>\n",
       "    <tr>\n",
       "      <th>7859</th>\n",
       "      <td>7860</td>\n",
       "      <td>20000</td>\n",
       "      <td>21</td>\n",
       "      <td>13660</td>\n",
       "      <td>15056</td>\n",
       "      <td>15400</td>\n",
       "      <td>12900</td>\n",
       "      <td>19500</td>\n",
       "      <td>0</td>\n",
       "      <td>2000</td>\n",
       "      <td>...</td>\n",
       "      <td>0</td>\n",
       "      <td>0</td>\n",
       "      <td>1</td>\n",
       "      <td>0</td>\n",
       "      <td>0</td>\n",
       "      <td>0</td>\n",
       "      <td>0</td>\n",
       "      <td>0</td>\n",
       "      <td>0</td>\n",
       "      <td>0</td>\n",
       "    </tr>\n",
       "    <tr>\n",
       "      <th>6545</th>\n",
       "      <td>6546</td>\n",
       "      <td>200000</td>\n",
       "      <td>60</td>\n",
       "      <td>396</td>\n",
       "      <td>396</td>\n",
       "      <td>461</td>\n",
       "      <td>396</td>\n",
       "      <td>546</td>\n",
       "      <td>396</td>\n",
       "      <td>396</td>\n",
       "      <td>...</td>\n",
       "      <td>0</td>\n",
       "      <td>1</td>\n",
       "      <td>0</td>\n",
       "      <td>0</td>\n",
       "      <td>0</td>\n",
       "      <td>0</td>\n",
       "      <td>0</td>\n",
       "      <td>0</td>\n",
       "      <td>0</td>\n",
       "      <td>0</td>\n",
       "    </tr>\n",
       "    <tr>\n",
       "      <th>25352</th>\n",
       "      <td>25353</td>\n",
       "      <td>130000</td>\n",
       "      <td>27</td>\n",
       "      <td>128137</td>\n",
       "      <td>109868</td>\n",
       "      <td>108167</td>\n",
       "      <td>102584</td>\n",
       "      <td>91030</td>\n",
       "      <td>82634</td>\n",
       "      <td>4000</td>\n",
       "      <td>...</td>\n",
       "      <td>0</td>\n",
       "      <td>0</td>\n",
       "      <td>1</td>\n",
       "      <td>0</td>\n",
       "      <td>0</td>\n",
       "      <td>0</td>\n",
       "      <td>0</td>\n",
       "      <td>0</td>\n",
       "      <td>0</td>\n",
       "      <td>0</td>\n",
       "    </tr>\n",
       "    <tr>\n",
       "      <th>18293</th>\n",
       "      <td>18294</td>\n",
       "      <td>350000</td>\n",
       "      <td>57</td>\n",
       "      <td>1910</td>\n",
       "      <td>0</td>\n",
       "      <td>1638</td>\n",
       "      <td>0</td>\n",
       "      <td>0</td>\n",
       "      <td>0</td>\n",
       "      <td>0</td>\n",
       "      <td>...</td>\n",
       "      <td>1</td>\n",
       "      <td>0</td>\n",
       "      <td>0</td>\n",
       "      <td>0</td>\n",
       "      <td>0</td>\n",
       "      <td>0</td>\n",
       "      <td>0</td>\n",
       "      <td>0</td>\n",
       "      <td>0</td>\n",
       "      <td>0</td>\n",
       "    </tr>\n",
       "    <tr>\n",
       "      <th>27830</th>\n",
       "      <td>27831</td>\n",
       "      <td>200000</td>\n",
       "      <td>26</td>\n",
       "      <td>2364</td>\n",
       "      <td>442</td>\n",
       "      <td>33442</td>\n",
       "      <td>2140</td>\n",
       "      <td>964</td>\n",
       "      <td>2075</td>\n",
       "      <td>442</td>\n",
       "      <td>...</td>\n",
       "      <td>1</td>\n",
       "      <td>0</td>\n",
       "      <td>0</td>\n",
       "      <td>0</td>\n",
       "      <td>0</td>\n",
       "      <td>0</td>\n",
       "      <td>0</td>\n",
       "      <td>0</td>\n",
       "      <td>0</td>\n",
       "      <td>0</td>\n",
       "    </tr>\n",
       "  </tbody>\n",
       "</table>\n",
       "<p>5 rows × 89 columns</p>\n",
       "</div>"
      ],
      "text/plain": [
       "          ID  LIMIT_BAL  AGE  BILL_AMT1  BILL_AMT2  BILL_AMT3  BILL_AMT4  \\\n",
       "7859    7860      20000   21      13660      15056      15400      12900   \n",
       "6545    6546     200000   60        396        396        461        396   \n",
       "25352  25353     130000   27     128137     109868     108167     102584   \n",
       "18293  18294     350000   57       1910          0       1638          0   \n",
       "27830  27831     200000   26       2364        442      33442       2140   \n",
       "\n",
       "       BILL_AMT5  BILL_AMT6  PAY_AMT1   ...     PAY_6_-2  PAY_6_-1  PAY_6_0  \\\n",
       "7859       19500          0      2000   ...            0         0        1   \n",
       "6545         546        396       396   ...            0         1        0   \n",
       "25352      91030      82634      4000   ...            0         0        1   \n",
       "18293          0          0         0   ...            1         0        0   \n",
       "27830        964       2075       442   ...            1         0        0   \n",
       "\n",
       "       PAY_6_2  PAY_6_3  PAY_6_4  PAY_6_5  PAY_6_6  PAY_6_7  PAY_6_8  \n",
       "7859         0        0        0        0        0        0        0  \n",
       "6545         0        0        0        0        0        0        0  \n",
       "25352        0        0        0        0        0        0        0  \n",
       "18293        0        0        0        0        0        0        0  \n",
       "27830        0        0        0        0        0        0        0  \n",
       "\n",
       "[5 rows x 89 columns]"
      ]
     },
     "execution_count": 155,
     "metadata": {},
     "output_type": "execute_result"
    }
   ],
   "source": [
    "train_f_df.head(5)"
   ]
  },
  {
   "cell_type": "code",
   "execution_count": 156,
   "metadata": {},
   "outputs": [
    {
     "data": {
      "text/html": [
       "<div>\n",
       "<style scoped>\n",
       "    .dataframe tbody tr th:only-of-type {\n",
       "        vertical-align: middle;\n",
       "    }\n",
       "\n",
       "    .dataframe tbody tr th {\n",
       "        vertical-align: top;\n",
       "    }\n",
       "\n",
       "    .dataframe thead th {\n",
       "        text-align: right;\n",
       "    }\n",
       "</style>\n",
       "<table border=\"1\" class=\"dataframe\">\n",
       "  <thead>\n",
       "    <tr style=\"text-align: right;\">\n",
       "      <th></th>\n",
       "      <th>ID</th>\n",
       "      <th>LIMIT_BAL</th>\n",
       "      <th>AGE</th>\n",
       "      <th>BILL_AMT1</th>\n",
       "      <th>BILL_AMT2</th>\n",
       "      <th>BILL_AMT3</th>\n",
       "      <th>BILL_AMT4</th>\n",
       "      <th>BILL_AMT5</th>\n",
       "      <th>BILL_AMT6</th>\n",
       "      <th>PAY_AMT1</th>\n",
       "      <th>...</th>\n",
       "      <th>PAY_5_7</th>\n",
       "      <th>PAY_6_-2</th>\n",
       "      <th>PAY_6_-1</th>\n",
       "      <th>PAY_6_0</th>\n",
       "      <th>PAY_6_2</th>\n",
       "      <th>PAY_6_3</th>\n",
       "      <th>PAY_6_4</th>\n",
       "      <th>PAY_6_5</th>\n",
       "      <th>PAY_6_6</th>\n",
       "      <th>PAY_6_7</th>\n",
       "    </tr>\n",
       "  </thead>\n",
       "  <tbody>\n",
       "    <tr>\n",
       "      <th>23941</th>\n",
       "      <td>23942</td>\n",
       "      <td>100000</td>\n",
       "      <td>26</td>\n",
       "      <td>44053</td>\n",
       "      <td>2206</td>\n",
       "      <td>1953</td>\n",
       "      <td>3053</td>\n",
       "      <td>853</td>\n",
       "      <td>48280</td>\n",
       "      <td>2206</td>\n",
       "      <td>...</td>\n",
       "      <td>0</td>\n",
       "      <td>0</td>\n",
       "      <td>1</td>\n",
       "      <td>0</td>\n",
       "      <td>0</td>\n",
       "      <td>0</td>\n",
       "      <td>0</td>\n",
       "      <td>0</td>\n",
       "      <td>0</td>\n",
       "      <td>0</td>\n",
       "    </tr>\n",
       "    <tr>\n",
       "      <th>16103</th>\n",
       "      <td>16104</td>\n",
       "      <td>10000</td>\n",
       "      <td>37</td>\n",
       "      <td>3305</td>\n",
       "      <td>2870</td>\n",
       "      <td>2440</td>\n",
       "      <td>2510</td>\n",
       "      <td>2641</td>\n",
       "      <td>2222</td>\n",
       "      <td>0</td>\n",
       "      <td>...</td>\n",
       "      <td>0</td>\n",
       "      <td>0</td>\n",
       "      <td>0</td>\n",
       "      <td>0</td>\n",
       "      <td>1</td>\n",
       "      <td>0</td>\n",
       "      <td>0</td>\n",
       "      <td>0</td>\n",
       "      <td>0</td>\n",
       "      <td>0</td>\n",
       "    </tr>\n",
       "    <tr>\n",
       "      <th>9370</th>\n",
       "      <td>9371</td>\n",
       "      <td>90000</td>\n",
       "      <td>55</td>\n",
       "      <td>15000</td>\n",
       "      <td>1055</td>\n",
       "      <td>-180</td>\n",
       "      <td>2320</td>\n",
       "      <td>1286</td>\n",
       "      <td>1132</td>\n",
       "      <td>1055</td>\n",
       "      <td>...</td>\n",
       "      <td>0</td>\n",
       "      <td>0</td>\n",
       "      <td>1</td>\n",
       "      <td>0</td>\n",
       "      <td>0</td>\n",
       "      <td>0</td>\n",
       "      <td>0</td>\n",
       "      <td>0</td>\n",
       "      <td>0</td>\n",
       "      <td>0</td>\n",
       "    </tr>\n",
       "    <tr>\n",
       "      <th>13212</th>\n",
       "      <td>13213</td>\n",
       "      <td>350000</td>\n",
       "      <td>35</td>\n",
       "      <td>105</td>\n",
       "      <td>3298</td>\n",
       "      <td>50064</td>\n",
       "      <td>8003</td>\n",
       "      <td>8293</td>\n",
       "      <td>23080</td>\n",
       "      <td>3308</td>\n",
       "      <td>...</td>\n",
       "      <td>0</td>\n",
       "      <td>0</td>\n",
       "      <td>1</td>\n",
       "      <td>0</td>\n",
       "      <td>0</td>\n",
       "      <td>0</td>\n",
       "      <td>0</td>\n",
       "      <td>0</td>\n",
       "      <td>0</td>\n",
       "      <td>0</td>\n",
       "    </tr>\n",
       "    <tr>\n",
       "      <th>8978</th>\n",
       "      <td>8979</td>\n",
       "      <td>240000</td>\n",
       "      <td>41</td>\n",
       "      <td>8435</td>\n",
       "      <td>169</td>\n",
       "      <td>1913</td>\n",
       "      <td>150</td>\n",
       "      <td>482</td>\n",
       "      <td>5482</td>\n",
       "      <td>169</td>\n",
       "      <td>...</td>\n",
       "      <td>0</td>\n",
       "      <td>0</td>\n",
       "      <td>0</td>\n",
       "      <td>1</td>\n",
       "      <td>0</td>\n",
       "      <td>0</td>\n",
       "      <td>0</td>\n",
       "      <td>0</td>\n",
       "      <td>0</td>\n",
       "      <td>0</td>\n",
       "    </tr>\n",
       "  </tbody>\n",
       "</table>\n",
       "<p>5 rows × 82 columns</p>\n",
       "</div>"
      ],
      "text/plain": [
       "          ID  LIMIT_BAL  AGE  BILL_AMT1  BILL_AMT2  BILL_AMT3  BILL_AMT4  \\\n",
       "23941  23942     100000   26      44053       2206       1953       3053   \n",
       "16103  16104      10000   37       3305       2870       2440       2510   \n",
       "9370    9371      90000   55      15000       1055       -180       2320   \n",
       "13212  13213     350000   35        105       3298      50064       8003   \n",
       "8978    8979     240000   41       8435        169       1913        150   \n",
       "\n",
       "       BILL_AMT5  BILL_AMT6  PAY_AMT1   ...     PAY_5_7  PAY_6_-2  PAY_6_-1  \\\n",
       "23941        853      48280      2206   ...           0         0         1   \n",
       "16103       2641       2222         0   ...           0         0         0   \n",
       "9370        1286       1132      1055   ...           0         0         1   \n",
       "13212       8293      23080      3308   ...           0         0         1   \n",
       "8978         482       5482       169   ...           0         0         0   \n",
       "\n",
       "       PAY_6_0  PAY_6_2  PAY_6_3  PAY_6_4  PAY_6_5  PAY_6_6  PAY_6_7  \n",
       "23941        0        0        0        0        0        0        0  \n",
       "16103        0        1        0        0        0        0        0  \n",
       "9370         0        0        0        0        0        0        0  \n",
       "13212        0        0        0        0        0        0        0  \n",
       "8978         1        0        0        0        0        0        0  \n",
       "\n",
       "[5 rows x 82 columns]"
      ]
     },
     "execution_count": 156,
     "metadata": {},
     "output_type": "execute_result"
    }
   ],
   "source": [
    "val_f_df.head(5)"
   ]
  },
  {
   "cell_type": "code",
   "execution_count": 157,
   "metadata": {},
   "outputs": [],
   "source": [
    "target_f = 'def_pay'\n",
    "predicators_f = ['ID', 'LIMIT_BAL', 'AGE', 'BILL_AMT1', 'BILL_AMT2', 'BILL_AMT3',\n",
    "       'BILL_AMT4', 'BILL_AMT5', 'BILL_AMT6', 'PAY_AMT1', 'PAY_AMT2',\n",
    "       'PAY_AMT3', 'PAY_AMT4', 'PAY_AMT5', 'PAY_AMT6',\n",
    "       'EDUCATION_1', 'EDUCATION_2', 'EDUCATION_3', 'EDUCATION_4', 'SEX_1',\n",
    "       'SEX_2', 'MARRIAGE_1', 'MARRIAGE_2', 'MARRIAGE_3', 'PAY_1_-2',\n",
    "       'PAY_1_-1', 'PAY_1_0', 'PAY_1_1', 'PAY_1_2', 'PAY_1_3', 'PAY_1_4',\n",
    "       'PAY_1_5', 'PAY_1_6', 'PAY_1_7', 'PAY_1_8', 'PAY_2_-2', 'PAY_2_-1',\n",
    "       'PAY_2_0', 'PAY_2_1', 'PAY_2_2', 'PAY_2_3', 'PAY_2_4', 'PAY_2_5',\n",
    "       'PAY_2_6', 'PAY_2_7', 'PAY_3_-2', 'PAY_3_-1', 'PAY_3_0', 'PAY_3_2',\n",
    "       'PAY_3_3', 'PAY_3_4', 'PAY_3_5', 'PAY_3_6', 'PAY_3_7', 'PAY_3_8',\n",
    "       'PAY_4_-2', 'PAY_4_-1', 'PAY_4_0', 'PAY_4_2', 'PAY_4_3', 'PAY_4_4',\n",
    "       'PAY_4_5', 'PAY_4_7', 'PAY_5_-2', 'PAY_5_-1', 'PAY_5_0', 'PAY_5_2',\n",
    "       'PAY_5_3', 'PAY_5_4', 'PAY_5_5', 'PAY_5_6', 'PAY_5_7', 'PAY_6_-2',\n",
    "       'PAY_6_-1', 'PAY_6_0', 'PAY_6_2', 'PAY_6_3', 'PAY_6_4', 'PAY_6_5',\n",
    "       'PAY_6_6', 'PAY_6_7']"
   ]
  },
  {
   "cell_type": "code",
   "execution_count": 158,
   "metadata": {},
   "outputs": [
    {
     "data": {
      "text/plain": [
       "RandomForestClassifier(bootstrap=True, class_weight=None, criterion='gini',\n",
       "            max_depth=None, max_features='auto', max_leaf_nodes=None,\n",
       "            min_impurity_decrease=0.0, min_impurity_split=None,\n",
       "            min_samples_leaf=1, min_samples_split=2,\n",
       "            min_weight_fraction_leaf=0.0, n_estimators=150, n_jobs=5,\n",
       "            oob_score=False, random_state=2018, verbose=False,\n",
       "            warm_start=False)"
      ]
     },
     "execution_count": 158,
     "metadata": {},
     "output_type": "execute_result"
    }
   ],
   "source": [
    "clf1.fit(train_f_df[predicators_f], train_f_df[target_f].values)"
   ]
  },
  {
   "cell_type": "code",
   "execution_count": 159,
   "metadata": {},
   "outputs": [
    {
     "ename": "KeyError",
     "evalue": "\"['PAY_3_8' 'PAY_5_6'] not in index\"",
     "output_type": "error",
     "traceback": [
      "\u001b[0;31m---------------------------------------------------------------------------\u001b[0m",
      "\u001b[0;31mKeyError\u001b[0m                                  Traceback (most recent call last)",
      "\u001b[0;32m<ipython-input-159-9c7ef55c7d2f>\u001b[0m in \u001b[0;36m<module>\u001b[0;34m()\u001b[0m\n\u001b[0;32m----> 1\u001b[0;31m \u001b[0mpreds\u001b[0m \u001b[0;34m=\u001b[0m \u001b[0mclf1\u001b[0m\u001b[0;34m.\u001b[0m\u001b[0mpredict\u001b[0m\u001b[0;34m(\u001b[0m\u001b[0mval_f_df\u001b[0m\u001b[0;34m[\u001b[0m\u001b[0mpredicators_f\u001b[0m\u001b[0;34m]\u001b[0m\u001b[0;34m)\u001b[0m\u001b[0;34m\u001b[0m\u001b[0m\n\u001b[0m",
      "\u001b[0;32m~/anaconda3/lib/python3.6/site-packages/pandas/core/frame.py\u001b[0m in \u001b[0;36m__getitem__\u001b[0;34m(self, key)\u001b[0m\n\u001b[1;32m   2131\u001b[0m         \u001b[0;32mif\u001b[0m \u001b[0misinstance\u001b[0m\u001b[0;34m(\u001b[0m\u001b[0mkey\u001b[0m\u001b[0;34m,\u001b[0m \u001b[0;34m(\u001b[0m\u001b[0mSeries\u001b[0m\u001b[0;34m,\u001b[0m \u001b[0mnp\u001b[0m\u001b[0;34m.\u001b[0m\u001b[0mndarray\u001b[0m\u001b[0;34m,\u001b[0m \u001b[0mIndex\u001b[0m\u001b[0;34m,\u001b[0m \u001b[0mlist\u001b[0m\u001b[0;34m)\u001b[0m\u001b[0;34m)\u001b[0m\u001b[0;34m:\u001b[0m\u001b[0;34m\u001b[0m\u001b[0m\n\u001b[1;32m   2132\u001b[0m             \u001b[0;31m# either boolean or fancy integer index\u001b[0m\u001b[0;34m\u001b[0m\u001b[0;34m\u001b[0m\u001b[0m\n\u001b[0;32m-> 2133\u001b[0;31m             \u001b[0;32mreturn\u001b[0m \u001b[0mself\u001b[0m\u001b[0;34m.\u001b[0m\u001b[0m_getitem_array\u001b[0m\u001b[0;34m(\u001b[0m\u001b[0mkey\u001b[0m\u001b[0;34m)\u001b[0m\u001b[0;34m\u001b[0m\u001b[0m\n\u001b[0m\u001b[1;32m   2134\u001b[0m         \u001b[0;32melif\u001b[0m \u001b[0misinstance\u001b[0m\u001b[0;34m(\u001b[0m\u001b[0mkey\u001b[0m\u001b[0;34m,\u001b[0m \u001b[0mDataFrame\u001b[0m\u001b[0;34m)\u001b[0m\u001b[0;34m:\u001b[0m\u001b[0;34m\u001b[0m\u001b[0m\n\u001b[1;32m   2135\u001b[0m             \u001b[0;32mreturn\u001b[0m \u001b[0mself\u001b[0m\u001b[0;34m.\u001b[0m\u001b[0m_getitem_frame\u001b[0m\u001b[0;34m(\u001b[0m\u001b[0mkey\u001b[0m\u001b[0;34m)\u001b[0m\u001b[0;34m\u001b[0m\u001b[0m\n",
      "\u001b[0;32m~/anaconda3/lib/python3.6/site-packages/pandas/core/frame.py\u001b[0m in \u001b[0;36m_getitem_array\u001b[0;34m(self, key)\u001b[0m\n\u001b[1;32m   2175\u001b[0m             \u001b[0;32mreturn\u001b[0m \u001b[0mself\u001b[0m\u001b[0;34m.\u001b[0m\u001b[0m_take\u001b[0m\u001b[0;34m(\u001b[0m\u001b[0mindexer\u001b[0m\u001b[0;34m,\u001b[0m \u001b[0maxis\u001b[0m\u001b[0;34m=\u001b[0m\u001b[0;36m0\u001b[0m\u001b[0;34m,\u001b[0m \u001b[0mconvert\u001b[0m\u001b[0;34m=\u001b[0m\u001b[0;32mFalse\u001b[0m\u001b[0;34m)\u001b[0m\u001b[0;34m\u001b[0m\u001b[0m\n\u001b[1;32m   2176\u001b[0m         \u001b[0;32melse\u001b[0m\u001b[0;34m:\u001b[0m\u001b[0;34m\u001b[0m\u001b[0m\n\u001b[0;32m-> 2177\u001b[0;31m             \u001b[0mindexer\u001b[0m \u001b[0;34m=\u001b[0m \u001b[0mself\u001b[0m\u001b[0;34m.\u001b[0m\u001b[0mloc\u001b[0m\u001b[0;34m.\u001b[0m\u001b[0m_convert_to_indexer\u001b[0m\u001b[0;34m(\u001b[0m\u001b[0mkey\u001b[0m\u001b[0;34m,\u001b[0m \u001b[0maxis\u001b[0m\u001b[0;34m=\u001b[0m\u001b[0;36m1\u001b[0m\u001b[0;34m)\u001b[0m\u001b[0;34m\u001b[0m\u001b[0m\n\u001b[0m\u001b[1;32m   2178\u001b[0m             \u001b[0;32mreturn\u001b[0m \u001b[0mself\u001b[0m\u001b[0;34m.\u001b[0m\u001b[0m_take\u001b[0m\u001b[0;34m(\u001b[0m\u001b[0mindexer\u001b[0m\u001b[0;34m,\u001b[0m \u001b[0maxis\u001b[0m\u001b[0;34m=\u001b[0m\u001b[0;36m1\u001b[0m\u001b[0;34m,\u001b[0m \u001b[0mconvert\u001b[0m\u001b[0;34m=\u001b[0m\u001b[0;32mTrue\u001b[0m\u001b[0;34m)\u001b[0m\u001b[0;34m\u001b[0m\u001b[0m\n\u001b[1;32m   2179\u001b[0m \u001b[0;34m\u001b[0m\u001b[0m\n",
      "\u001b[0;32m~/anaconda3/lib/python3.6/site-packages/pandas/core/indexing.py\u001b[0m in \u001b[0;36m_convert_to_indexer\u001b[0;34m(self, obj, axis, is_setter)\u001b[0m\n\u001b[1;32m   1267\u001b[0m                 \u001b[0;32mif\u001b[0m \u001b[0mmask\u001b[0m\u001b[0;34m.\u001b[0m\u001b[0many\u001b[0m\u001b[0;34m(\u001b[0m\u001b[0;34m)\u001b[0m\u001b[0;34m:\u001b[0m\u001b[0;34m\u001b[0m\u001b[0m\n\u001b[1;32m   1268\u001b[0m                     raise KeyError('{mask} not in index'\n\u001b[0;32m-> 1269\u001b[0;31m                                    .format(mask=objarr[mask]))\n\u001b[0m\u001b[1;32m   1270\u001b[0m \u001b[0;34m\u001b[0m\u001b[0m\n\u001b[1;32m   1271\u001b[0m                 \u001b[0;32mreturn\u001b[0m \u001b[0m_values_from_object\u001b[0m\u001b[0;34m(\u001b[0m\u001b[0mindexer\u001b[0m\u001b[0;34m)\u001b[0m\u001b[0;34m\u001b[0m\u001b[0m\n",
      "\u001b[0;31mKeyError\u001b[0m: \"['PAY_3_8' 'PAY_5_6'] not in index\""
     ]
    }
   ],
   "source": [
    "preds = clf1.predict(val_f_df[predicators_f])"
   ]
  },
  {
   "cell_type": "code",
   "execution_count": 160,
   "metadata": {},
   "outputs": [
    {
     "data": {
      "image/png": "[encoded data removed]",
      "text/plain": [
       "<matplotlib.figure.Figure at 0x1a3076d588>"
      ]
     },
     "metadata": {},
     "output_type": "display_data"
    }
   ],
   "source": [
    "tmp = pd.DataFrame({'Feature': predicators_f, 'Feature importance': clf1.feature_importances_})\n",
    "tmp = tmp.sort_values(by='Feature importance',ascending=False)\n",
    "plt.figure(figsize = (16,4))\n",
    "plt.title('Features importance',fontsize=14)\n",
    "s = sns.barplot(x='Feature',y='Feature importance',data=tmp)\n",
    "s.set_xticklabels(s.get_xticklabels(),rotation=90)\n",
    "plt.show()"
   ]
  },
  {
   "cell_type": "code",
   "execution_count": 161,
   "metadata": {},
   "outputs": [
    {
     "data": {
      "image/png": "[encoded data removed]",
      "text/plain": [
       "<matplotlib.figure.Figure at 0x1a30ecf7f0>"
      ]
     },
     "metadata": {},
     "output_type": "display_data"
    }
   ],
   "source": [
    "cm = pd.crosstab(val_f_df[target].values, preds, rownames=['Actual'], colnames=['Predicted'])\n",
    "fig, (ax1) = plt.subplots(ncols=1, figsize=(5,5))\n",
    "sns.heatmap(cm, \n",
    "            xticklabels=['Not Default', 'Default'],\n",
    "            yticklabels=['Not Default', 'Default'],\n",
    "            annot=True,ax=ax1,\n",
    "            linewidths=.2,linecolor=\"Darkblue\", cmap=\"Blues\")\n",
    "plt.title('Confusion Matrix', fontsize=14)\n",
    "plt.show()"
   ]
  },
  {
   "cell_type": "code",
   "execution_count": 162,
   "metadata": {},
   "outputs": [
    {
     "data": {
      "text/plain": [
       "0.66389186152435409"
      ]
     },
     "execution_count": 162,
     "metadata": {},
     "output_type": "execute_result"
    }
   ],
   "source": [
    "roc_auc_score(val_f_df[target_f].values, preds)"
   ]
  },
  {
   "cell_type": "markdown",
   "metadata": {},
   "source": [
    "## Ada Booost Classifier"
   ]
  },
  {
   "cell_type": "markdown",
   "metadata": {},
   "source": [
    "Adaptive boost"
   ]
  },
  {
   "cell_type": "code",
   "execution_count": 163,
   "metadata": {},
   "outputs": [],
   "source": [
    "clf2 = AdaBoostClassifier(random_state= 42, algorithm= 'SAMME.R', learning_rate=0.8, n_estimators=150)"
   ]
  },
  {
   "cell_type": "code",
   "execution_count": 164,
   "metadata": {},
   "outputs": [
    {
     "data": {
      "text/plain": [
       "AdaBoostClassifier(algorithm='SAMME.R', base_estimator=None,\n",
       "          learning_rate=0.8, n_estimators=150, random_state=42)"
      ]
     },
     "execution_count": 164,
     "metadata": {},
     "output_type": "execute_result"
    }
   ],
   "source": [
    "clf2.fit(train_df[predictors], train_df[target].values)"
   ]
  },
  {
   "cell_type": "code",
   "execution_count": 165,
   "metadata": {},
   "outputs": [],
   "source": [
    "preds = clf2.predict(val_df[predictors])"
   ]
  },
  {
   "cell_type": "code",
   "execution_count": 166,
   "metadata": {},
   "outputs": [
    {
     "data": {
      "image/png": "[encoded data removed]",
      "text/plain": [
       "<matplotlib.figure.Figure at 0x1a30b639b0>"
      ]
     },
     "metadata": {},
     "output_type": "display_data"
    }
   ],
   "source": [
    "tmp = pd.DataFrame({\"feature\": predictors, 'feature importance': clf2.feature_importances_})\n",
    "tmp = tmp.sort_values(by='feature importance', ascending=False)\n",
    "plt.figure(figsize=(7, 4))\n",
    "plt.title('feature importance', fontsize= 14)\n",
    "s=sns.barplot(x='feature', y='feature importance', data=tmp)\n",
    "s.set_xticklabels(s.get_xticklabels(), rotation=90)\n",
    "plt.show()"
   ]
  },
  {
   "cell_type": "code",
   "execution_count": 167,
   "metadata": {},
   "outputs": [
    {
     "data": {
      "image/png": "[encoded data removed]",
      "text/plain": [
       "<matplotlib.figure.Figure at 0x1a30bbf2e8>"
      ]
     },
     "metadata": {},
     "output_type": "display_data"
    }
   ],
   "source": [
    "cm = pd.crosstab(val_df[target].values, preds, rownames=['Actual'], colnames=['Predicted'])\n",
    "fig, (ax1) = plt.subplots(ncols=1, figsize=(5,5))\n",
    "sns.heatmap(cm, \n",
    "            xticklabels=['Not Default', 'Default'],\n",
    "            yticklabels=['Not Default', 'Default'],\n",
    "            annot=True,ax=ax1,\n",
    "            linewidths=.2,linecolor=\"Darkblue\", cmap=\"Blues\")\n",
    "plt.title('Confusion Matrix', fontsize=14)\n",
    "plt.show()"
   ]
  },
  {
   "cell_type": "code",
   "execution_count": 168,
   "metadata": {},
   "outputs": [
    {
     "data": {
      "text/plain": [
       "0.6509939693037865"
      ]
     },
     "execution_count": 168,
     "metadata": {},
     "output_type": "execute_result"
    }
   ],
   "source": [
    "roc_auc_score(val_df[target].values, preds)"
   ]
  },
  {
   "cell_type": "code",
   "execution_count": null,
   "metadata": {},
   "outputs": [],
   "source": []
  },
  {
   "cell_type": "markdown",
   "metadata": {},
   "source": [
    "# CatBoost Classifier"
   ]
  },
  {
   "cell_type": "markdown",
   "metadata": {},
   "source": [
    "CatBoost is a machine learning method based on gradient boosting over decision trees.\n",
    "\n",
    "https://tech.yandex.com/catboost/doc/dg/concepts/python-reference_catboostclassifier-docpage/"
   ]
  },
  {
   "cell_type": "code",
   "execution_count": 169,
   "metadata": {},
   "outputs": [],
   "source": [
    "from catboost import CatBoostClassifier"
   ]
  },
  {
   "cell_type": "code",
   "execution_count": 170,
   "metadata": {},
   "outputs": [
    {
     "data": {
      "text/plain": [
       "\"\\nCatBoostClassifier(iterations=500,\\n                             learning_rate=0.02,\\n                             depth=12,\\n                             eval_metric='AUC',\\n                             random_seed = RANDOM_STATE,\\n                             bagging_temperature = 0.2,\\n                             od_type='Iter',\\n                             metric_period = VERBOSE_EVAL,\\n                             od_wait=100)\\n\""
      ]
     },
     "execution_count": 170,
     "metadata": {},
     "output_type": "execute_result"
    }
   ],
   "source": [
    "clf3 = CatBoostClassifier(iterations=500,\n",
    "                         learning_rate=0.02,\n",
    "                         depth=12, \n",
    "                         eval_metric='AUC',\n",
    "                         bagging_temperature=0.2, \n",
    "                         od_wait=100,\n",
    "                         od_type='Iter')\n",
    "'''\n",
    "CatBoostClassifier(iterations=500,\n",
    "                             learning_rate=0.02,\n",
    "                             depth=12,\n",
    "                             eval_metric='AUC',\n",
    "                             random_seed = RANDOM_STATE,\n",
    "                             bagging_temperature = 0.2,\n",
    "                             od_type='Iter',\n",
    "                             metric_period = VERBOSE_EVAL,\n",
    "                             od_wait=100)\n",
    "'''"
   ]
  },
  {
   "cell_type": "code",
   "execution_count": 171,
   "metadata": {
    "scrolled": true
   },
   "outputs": [
    {
     "name": "stdout",
     "output_type": "stream",
     "text": [
      "0:\ttotal: 763ms\tremaining: 6m 20s\n",
      "1:\ttotal: 1.51s\tremaining: 6m 16s\n",
      "2:\ttotal: 1.59s\tremaining: 4m 24s\n",
      "3:\ttotal: 2.32s\tremaining: 4m 47s\n",
      "4:\ttotal: 3.06s\tremaining: 5m 2s\n",
      "5:\ttotal: 3.85s\tremaining: 5m 17s\n",
      "6:\ttotal: 4.57s\tremaining: 5m 22s\n",
      "7:\ttotal: 5.31s\tremaining: 5m 26s\n",
      "8:\ttotal: 5.57s\tremaining: 5m 3s\n",
      "9:\ttotal: 6.27s\tremaining: 5m 7s\n",
      "10:\ttotal: 7.04s\tremaining: 5m 13s\n",
      "11:\ttotal: 7.12s\tremaining: 4m 49s\n",
      "12:\ttotal: 7.92s\tremaining: 4m 56s\n",
      "13:\ttotal: 8.63s\tremaining: 4m 59s\n",
      "14:\ttotal: 9.49s\tremaining: 5m 6s\n",
      "15:\ttotal: 10.2s\tremaining: 5m 9s\n",
      "16:\ttotal: 11.1s\tremaining: 5m 15s\n",
      "17:\ttotal: 11.5s\tremaining: 5m 8s\n",
      "18:\ttotal: 12.2s\tremaining: 5m 8s\n",
      "19:\ttotal: 13s\tremaining: 5m 10s\n",
      "20:\ttotal: 13.7s\tremaining: 5m 13s\n",
      "21:\ttotal: 14.5s\tremaining: 5m 15s\n",
      "22:\ttotal: 15.2s\tremaining: 5m 15s\n",
      "23:\ttotal: 15.5s\tremaining: 5m 7s\n",
      "24:\ttotal: 16.2s\tremaining: 5m 8s\n",
      "25:\ttotal: 17s\tremaining: 5m 9s\n",
      "26:\ttotal: 17.8s\tremaining: 5m 11s\n",
      "27:\ttotal: 17.9s\tremaining: 5m 1s\n",
      "28:\ttotal: 18.7s\tremaining: 5m 3s\n",
      "29:\ttotal: 19.4s\tremaining: 5m 4s\n",
      "30:\ttotal: 20.3s\tremaining: 5m 7s\n",
      "31:\ttotal: 20.4s\tremaining: 4m 58s\n",
      "32:\ttotal: 21.2s\tremaining: 5m\n",
      "33:\ttotal: 21.6s\tremaining: 4m 56s\n",
      "34:\ttotal: 21.7s\tremaining: 4m 48s\n",
      "35:\ttotal: 22.3s\tremaining: 4m 48s\n",
      "36:\ttotal: 23.2s\tremaining: 4m 50s\n",
      "37:\ttotal: 24s\tremaining: 4m 51s\n",
      "38:\ttotal: 24.8s\tremaining: 4m 52s\n",
      "39:\ttotal: 25.8s\tremaining: 4m 57s\n",
      "40:\ttotal: 26.5s\tremaining: 4m 56s\n",
      "41:\ttotal: 27.4s\tremaining: 4m 59s\n",
      "42:\ttotal: 27.5s\tremaining: 4m 52s\n",
      "43:\ttotal: 28.5s\tremaining: 4m 55s\n",
      "44:\ttotal: 29.2s\tremaining: 4m 55s\n",
      "45:\ttotal: 30.4s\tremaining: 5m\n",
      "46:\ttotal: 30.5s\tremaining: 4m 53s\n",
      "47:\ttotal: 30.5s\tremaining: 4m 47s\n",
      "48:\ttotal: 30.6s\tremaining: 4m 41s\n",
      "49:\ttotal: 31.5s\tremaining: 4m 43s\n",
      "50:\ttotal: 32.3s\tremaining: 4m 44s\n",
      "51:\ttotal: 33s\tremaining: 4m 44s\n",
      "52:\ttotal: 33.7s\tremaining: 4m 44s\n",
      "53:\ttotal: 33.8s\tremaining: 4m 39s\n",
      "54:\ttotal: 33.8s\tremaining: 4m 33s\n",
      "55:\ttotal: 33.9s\tremaining: 4m 28s\n",
      "56:\ttotal: 34.5s\tremaining: 4m 28s\n",
      "57:\ttotal: 35.2s\tremaining: 4m 28s\n",
      "58:\ttotal: 35.9s\tremaining: 4m 28s\n",
      "59:\ttotal: 36.6s\tremaining: 4m 28s\n",
      "60:\ttotal: 36.8s\tremaining: 4m 24s\n",
      "61:\ttotal: 36.8s\tremaining: 4m 20s\n",
      "62:\ttotal: 37.5s\tremaining: 4m 20s\n",
      "63:\ttotal: 38.2s\tremaining: 4m 20s\n",
      "64:\ttotal: 38.9s\tremaining: 4m 20s\n",
      "65:\ttotal: 39.6s\tremaining: 4m 20s\n",
      "66:\ttotal: 40.3s\tremaining: 4m 20s\n",
      "67:\ttotal: 40.3s\tremaining: 4m 16s\n",
      "68:\ttotal: 40.4s\tremaining: 4m 12s\n",
      "69:\ttotal: 41s\tremaining: 4m 12s\n",
      "70:\ttotal: 41.2s\tremaining: 4m 9s\n",
      "71:\ttotal: 41.3s\tremaining: 4m 5s\n",
      "72:\ttotal: 41.9s\tremaining: 4m 5s\n",
      "73:\ttotal: 42.6s\tremaining: 4m 5s\n",
      "74:\ttotal: 42.7s\tremaining: 4m 1s\n",
      "75:\ttotal: 43.3s\tremaining: 4m 1s\n",
      "76:\ttotal: 43.4s\tremaining: 3m 58s\n",
      "77:\ttotal: 43.4s\tremaining: 3m 55s\n",
      "78:\ttotal: 44.1s\tremaining: 3m 54s\n",
      "79:\ttotal: 44.7s\tremaining: 3m 54s\n",
      "80:\ttotal: 45.4s\tremaining: 3m 55s\n",
      "81:\ttotal: 46.1s\tremaining: 3m 55s\n",
      "82:\ttotal: 46.8s\tremaining: 3m 55s\n",
      "83:\ttotal: 46.9s\tremaining: 3m 52s\n",
      "84:\ttotal: 47.6s\tremaining: 3m 52s\n",
      "85:\ttotal: 47.6s\tremaining: 3m 49s\n",
      "86:\ttotal: 48.3s\tremaining: 3m 49s\n",
      "87:\ttotal: 48.9s\tremaining: 3m 49s\n",
      "88:\ttotal: 49.6s\tremaining: 3m 49s\n",
      "89:\ttotal: 49.7s\tremaining: 3m 46s\n",
      "90:\ttotal: 50.3s\tremaining: 3m 46s\n",
      "91:\ttotal: 51s\tremaining: 3m 45s\n",
      "92:\ttotal: 51.6s\tremaining: 3m 45s\n",
      "93:\ttotal: 51.6s\tremaining: 3m 43s\n",
      "94:\ttotal: 52.3s\tremaining: 3m 43s\n",
      "95:\ttotal: 52.4s\tremaining: 3m 40s\n",
      "96:\ttotal: 53.1s\tremaining: 3m 40s\n",
      "97:\ttotal: 53.2s\tremaining: 3m 38s\n",
      "98:\ttotal: 53.9s\tremaining: 3m 38s\n",
      "99:\ttotal: 54s\tremaining: 3m 35s\n",
      "100:\ttotal: 54.7s\tremaining: 3m 35s\n",
      "101:\ttotal: 54.9s\tremaining: 3m 34s\n",
      "102:\ttotal: 55.6s\tremaining: 3m 34s\n",
      "103:\ttotal: 55.7s\tremaining: 3m 31s\n",
      "104:\ttotal: 56.9s\tremaining: 3m 34s\n",
      "105:\ttotal: 57.7s\tremaining: 3m 34s\n",
      "106:\ttotal: 59s\tremaining: 3m 36s\n",
      "107:\ttotal: 59.5s\tremaining: 3m 35s\n",
      "108:\ttotal: 1m\tremaining: 3m 36s\n",
      "109:\ttotal: 1m 1s\tremaining: 3m 36s\n",
      "110:\ttotal: 1m 1s\tremaining: 3m 36s\n",
      "111:\ttotal: 1m 2s\tremaining: 3m 36s\n",
      "112:\ttotal: 1m 3s\tremaining: 3m 36s\n",
      "113:\ttotal: 1m 4s\tremaining: 3m 36s\n",
      "114:\ttotal: 1m 4s\tremaining: 3m 37s\n",
      "115:\ttotal: 1m 4s\tremaining: 3m 35s\n",
      "116:\ttotal: 1m 5s\tremaining: 3m 35s\n",
      "117:\ttotal: 1m 6s\tremaining: 3m 34s\n",
      "118:\ttotal: 1m 7s\tremaining: 3m 35s\n",
      "119:\ttotal: 1m 7s\tremaining: 3m 32s\n",
      "120:\ttotal: 1m 7s\tremaining: 3m 30s\n",
      "121:\ttotal: 1m 8s\tremaining: 3m 30s\n",
      "122:\ttotal: 1m 8s\tremaining: 3m 28s\n",
      "123:\ttotal: 1m 8s\tremaining: 3m 26s\n",
      "124:\ttotal: 1m 8s\tremaining: 3m 24s\n",
      "125:\ttotal: 1m 8s\tremaining: 3m 22s\n",
      "126:\ttotal: 1m 9s\tremaining: 3m 22s\n",
      "127:\ttotal: 1m 9s\tremaining: 3m 21s\n",
      "128:\ttotal: 1m 9s\tremaining: 3m 19s\n",
      "129:\ttotal: 1m 10s\tremaining: 3m 19s\n",
      "130:\ttotal: 1m 10s\tremaining: 3m 17s\n",
      "131:\ttotal: 1m 10s\tremaining: 3m 17s\n",
      "132:\ttotal: 1m 11s\tremaining: 3m 17s\n",
      "133:\ttotal: 1m 11s\tremaining: 3m 16s\n",
      "134:\ttotal: 1m 12s\tremaining: 3m 14s\n",
      "135:\ttotal: 1m 12s\tremaining: 3m 14s\n",
      "136:\ttotal: 1m 13s\tremaining: 3m 14s\n",
      "137:\ttotal: 1m 14s\tremaining: 3m 14s\n",
      "138:\ttotal: 1m 15s\tremaining: 3m 15s\n",
      "139:\ttotal: 1m 15s\tremaining: 3m 15s\n",
      "140:\ttotal: 1m 16s\tremaining: 3m 15s\n",
      "141:\ttotal: 1m 17s\tremaining: 3m 15s\n",
      "142:\ttotal: 1m 18s\tremaining: 3m 15s\n",
      "143:\ttotal: 1m 18s\tremaining: 3m 15s\n",
      "144:\ttotal: 1m 19s\tremaining: 3m 15s\n",
      "145:\ttotal: 1m 20s\tremaining: 3m 15s\n",
      "146:\ttotal: 1m 20s\tremaining: 3m 13s\n",
      "147:\ttotal: 1m 21s\tremaining: 3m 12s\n",
      "148:\ttotal: 1m 21s\tremaining: 3m 11s\n",
      "149:\ttotal: 1m 21s\tremaining: 3m 10s\n",
      "150:\ttotal: 1m 21s\tremaining: 3m 8s\n",
      "151:\ttotal: 1m 21s\tremaining: 3m 6s\n",
      "152:\ttotal: 1m 21s\tremaining: 3m 5s\n",
      "153:\ttotal: 1m 22s\tremaining: 3m 5s\n",
      "154:\ttotal: 1m 22s\tremaining: 3m 3s\n",
      "155:\ttotal: 1m 23s\tremaining: 3m 3s\n",
      "156:\ttotal: 1m 23s\tremaining: 3m 3s\n",
      "157:\ttotal: 1m 24s\tremaining: 3m 1s\n",
      "158:\ttotal: 1m 24s\tremaining: 3m\n",
      "159:\ttotal: 1m 24s\tremaining: 3m\n",
      "160:\ttotal: 1m 25s\tremaining: 3m\n",
      "161:\ttotal: 1m 26s\tremaining: 3m\n",
      "162:\ttotal: 1m 27s\tremaining: 3m\n",
      "163:\ttotal: 1m 27s\tremaining: 2m 58s\n",
      "164:\ttotal: 1m 28s\tremaining: 2m 58s\n",
      "165:\ttotal: 1m 28s\tremaining: 2m 58s\n",
      "166:\ttotal: 1m 29s\tremaining: 2m 58s\n",
      "167:\ttotal: 1m 29s\tremaining: 2m 57s\n",
      "168:\ttotal: 1m 29s\tremaining: 2m 55s\n",
      "169:\ttotal: 1m 30s\tremaining: 2m 55s\n",
      "170:\ttotal: 1m 31s\tremaining: 2m 55s\n",
      "171:\ttotal: 1m 32s\tremaining: 2m 55s\n",
      "172:\ttotal: 1m 32s\tremaining: 2m 55s\n",
      "173:\ttotal: 1m 32s\tremaining: 2m 54s\n",
      "174:\ttotal: 1m 33s\tremaining: 2m 53s\n",
      "175:\ttotal: 1m 34s\tremaining: 2m 53s\n",
      "176:\ttotal: 1m 35s\tremaining: 2m 53s\n",
      "177:\ttotal: 1m 35s\tremaining: 2m 52s\n",
      "178:\ttotal: 1m 35s\tremaining: 2m 50s\n",
      "179:\ttotal: 1m 36s\tremaining: 2m 50s\n",
      "180:\ttotal: 1m 36s\tremaining: 2m 49s\n",
      "181:\ttotal: 1m 36s\tremaining: 2m 49s\n",
      "182:\ttotal: 1m 37s\tremaining: 2m 48s\n",
      "183:\ttotal: 1m 38s\tremaining: 2m 48s\n",
      "184:\ttotal: 1m 38s\tremaining: 2m 47s\n",
      "185:\ttotal: 1m 38s\tremaining: 2m 45s\n",
      "186:\ttotal: 1m 38s\tremaining: 2m 45s\n",
      "187:\ttotal: 1m 39s\tremaining: 2m 45s\n",
      "188:\ttotal: 1m 39s\tremaining: 2m 43s\n",
      "189:\ttotal: 1m 40s\tremaining: 2m 43s\n",
      "190:\ttotal: 1m 41s\tremaining: 2m 43s\n",
      "191:\ttotal: 1m 41s\tremaining: 2m 42s\n",
      "192:\ttotal: 1m 41s\tremaining: 2m 40s\n",
      "193:\ttotal: 1m 41s\tremaining: 2m 40s\n",
      "194:\ttotal: 1m 42s\tremaining: 2m 40s\n",
      "195:\ttotal: 1m 43s\tremaining: 2m 40s\n",
      "196:\ttotal: 1m 44s\tremaining: 2m 40s\n",
      "197:\ttotal: 1m 44s\tremaining: 2m 39s\n",
      "198:\ttotal: 1m 45s\tremaining: 2m 39s\n",
      "199:\ttotal: 1m 46s\tremaining: 2m 39s\n",
      "200:\ttotal: 1m 46s\tremaining: 2m 38s\n",
      "201:\ttotal: 1m 47s\tremaining: 2m 38s\n",
      "202:\ttotal: 1m 48s\tremaining: 2m 38s\n",
      "203:\ttotal: 1m 48s\tremaining: 2m 37s\n",
      "204:\ttotal: 1m 49s\tremaining: 2m 37s\n",
      "205:\ttotal: 1m 50s\tremaining: 2m 37s\n",
      "206:\ttotal: 1m 50s\tremaining: 2m 36s\n",
      "207:\ttotal: 1m 51s\tremaining: 2m 36s\n",
      "208:\ttotal: 1m 51s\tremaining: 2m 35s\n",
      "209:\ttotal: 1m 52s\tremaining: 2m 35s\n",
      "210:\ttotal: 1m 52s\tremaining: 2m 34s\n",
      "211:\ttotal: 1m 53s\tremaining: 2m 33s\n",
      "212:\ttotal: 1m 53s\tremaining: 2m 32s\n",
      "213:\ttotal: 1m 53s\tremaining: 2m 31s\n",
      "214:\ttotal: 1m 53s\tremaining: 2m 30s\n",
      "215:\ttotal: 1m 54s\tremaining: 2m 29s\n",
      "216:\ttotal: 1m 54s\tremaining: 2m 29s\n",
      "217:\ttotal: 1m 54s\tremaining: 2m 28s\n",
      "218:\ttotal: 1m 55s\tremaining: 2m 28s\n",
      "219:\ttotal: 1m 55s\tremaining: 2m 27s\n",
      "220:\ttotal: 1m 56s\tremaining: 2m 26s\n",
      "221:\ttotal: 1m 57s\tremaining: 2m 26s\n",
      "222:\ttotal: 1m 57s\tremaining: 2m 26s\n",
      "223:\ttotal: 1m 58s\tremaining: 2m 26s\n",
      "224:\ttotal: 1m 59s\tremaining: 2m 25s\n",
      "225:\ttotal: 2m\tremaining: 2m 25s\n",
      "226:\ttotal: 2m\tremaining: 2m 24s\n",
      "227:\ttotal: 2m 1s\tremaining: 2m 24s\n",
      "228:\ttotal: 2m 1s\tremaining: 2m 24s\n",
      "229:\ttotal: 2m 2s\tremaining: 2m 24s\n",
      "230:\ttotal: 2m 2s\tremaining: 2m 22s\n"
     ]
    },
    {
     "name": "stdout",
     "output_type": "stream",
     "text": [
      "231:\ttotal: 2m 3s\tremaining: 2m 22s\n",
      "232:\ttotal: 2m 4s\tremaining: 2m 22s\n",
      "233:\ttotal: 2m 5s\tremaining: 2m 22s\n",
      "234:\ttotal: 2m 5s\tremaining: 2m 21s\n",
      "235:\ttotal: 2m 5s\tremaining: 2m 20s\n",
      "236:\ttotal: 2m 5s\tremaining: 2m 19s\n",
      "237:\ttotal: 2m 5s\tremaining: 2m 18s\n",
      "238:\ttotal: 2m 6s\tremaining: 2m 17s\n",
      "239:\ttotal: 2m 6s\tremaining: 2m 17s\n",
      "240:\ttotal: 2m 6s\tremaining: 2m 16s\n",
      "241:\ttotal: 2m 7s\tremaining: 2m 16s\n",
      "242:\ttotal: 2m 8s\tremaining: 2m 15s\n",
      "243:\ttotal: 2m 9s\tremaining: 2m 15s\n",
      "244:\ttotal: 2m 9s\tremaining: 2m 15s\n",
      "245:\ttotal: 2m 10s\tremaining: 2m 14s\n",
      "246:\ttotal: 2m 11s\tremaining: 2m 14s\n",
      "247:\ttotal: 2m 11s\tremaining: 2m 13s\n",
      "248:\ttotal: 2m 12s\tremaining: 2m 13s\n",
      "249:\ttotal: 2m 13s\tremaining: 2m 13s\n",
      "250:\ttotal: 2m 14s\tremaining: 2m 13s\n",
      "251:\ttotal: 2m 14s\tremaining: 2m 11s\n",
      "252:\ttotal: 2m 14s\tremaining: 2m 10s\n",
      "253:\ttotal: 2m 14s\tremaining: 2m 10s\n",
      "254:\ttotal: 2m 15s\tremaining: 2m 10s\n",
      "255:\ttotal: 2m 16s\tremaining: 2m 10s\n",
      "256:\ttotal: 2m 17s\tremaining: 2m 9s\n",
      "257:\ttotal: 2m 17s\tremaining: 2m 9s\n",
      "258:\ttotal: 2m 18s\tremaining: 2m 8s\n",
      "259:\ttotal: 2m 19s\tremaining: 2m 8s\n",
      "260:\ttotal: 2m 20s\tremaining: 2m 8s\n",
      "261:\ttotal: 2m 20s\tremaining: 2m 7s\n",
      "262:\ttotal: 2m 21s\tremaining: 2m 7s\n",
      "263:\ttotal: 2m 22s\tremaining: 2m 7s\n",
      "264:\ttotal: 2m 22s\tremaining: 2m 6s\n",
      "265:\ttotal: 2m 23s\tremaining: 2m 6s\n",
      "266:\ttotal: 2m 24s\tremaining: 2m 5s\n",
      "267:\ttotal: 2m 24s\tremaining: 2m 4s\n",
      "268:\ttotal: 2m 24s\tremaining: 2m 4s\n",
      "269:\ttotal: 2m 25s\tremaining: 2m 4s\n",
      "270:\ttotal: 2m 26s\tremaining: 2m 3s\n",
      "271:\ttotal: 2m 26s\tremaining: 2m 2s\n",
      "272:\ttotal: 2m 27s\tremaining: 2m 2s\n",
      "273:\ttotal: 2m 27s\tremaining: 2m 1s\n",
      "274:\ttotal: 2m 27s\tremaining: 2m\n",
      "275:\ttotal: 2m 27s\tremaining: 1m 59s\n",
      "276:\ttotal: 2m 28s\tremaining: 1m 59s\n",
      "277:\ttotal: 2m 28s\tremaining: 1m 58s\n",
      "278:\ttotal: 2m 29s\tremaining: 1m 58s\n",
      "279:\ttotal: 2m 29s\tremaining: 1m 57s\n",
      "280:\ttotal: 2m 30s\tremaining: 1m 57s\n",
      "281:\ttotal: 2m 31s\tremaining: 1m 57s\n",
      "282:\ttotal: 2m 32s\tremaining: 1m 56s\n",
      "283:\ttotal: 2m 32s\tremaining: 1m 55s\n",
      "284:\ttotal: 2m 32s\tremaining: 1m 55s\n",
      "285:\ttotal: 2m 33s\tremaining: 1m 54s\n",
      "286:\ttotal: 2m 33s\tremaining: 1m 53s\n",
      "287:\ttotal: 2m 34s\tremaining: 1m 53s\n",
      "288:\ttotal: 2m 34s\tremaining: 1m 52s\n",
      "289:\ttotal: 2m 34s\tremaining: 1m 52s\n",
      "290:\ttotal: 2m 35s\tremaining: 1m 51s\n",
      "291:\ttotal: 2m 35s\tremaining: 1m 51s\n",
      "292:\ttotal: 2m 36s\tremaining: 1m 50s\n",
      "293:\ttotal: 2m 37s\tremaining: 1m 50s\n",
      "294:\ttotal: 2m 37s\tremaining: 1m 49s\n",
      "295:\ttotal: 2m 38s\tremaining: 1m 49s\n",
      "296:\ttotal: 2m 39s\tremaining: 1m 48s\n",
      "297:\ttotal: 2m 39s\tremaining: 1m 48s\n",
      "298:\ttotal: 2m 40s\tremaining: 1m 47s\n",
      "299:\ttotal: 2m 41s\tremaining: 1m 47s\n",
      "300:\ttotal: 2m 42s\tremaining: 1m 47s\n",
      "301:\ttotal: 2m 42s\tremaining: 1m 46s\n",
      "302:\ttotal: 2m 42s\tremaining: 1m 45s\n",
      "303:\ttotal: 2m 43s\tremaining: 1m 45s\n",
      "304:\ttotal: 2m 43s\tremaining: 1m 44s\n",
      "305:\ttotal: 2m 44s\tremaining: 1m 44s\n",
      "306:\ttotal: 2m 45s\tremaining: 1m 43s\n",
      "307:\ttotal: 2m 45s\tremaining: 1m 43s\n",
      "308:\ttotal: 2m 45s\tremaining: 1m 42s\n",
      "309:\ttotal: 2m 46s\tremaining: 1m 42s\n",
      "310:\ttotal: 2m 47s\tremaining: 1m 41s\n",
      "311:\ttotal: 2m 47s\tremaining: 1m 40s\n",
      "312:\ttotal: 2m 48s\tremaining: 1m 40s\n",
      "313:\ttotal: 2m 48s\tremaining: 1m 39s\n",
      "314:\ttotal: 2m 48s\tremaining: 1m 38s\n",
      "315:\ttotal: 2m 48s\tremaining: 1m 38s\n",
      "316:\ttotal: 2m 49s\tremaining: 1m 37s\n",
      "317:\ttotal: 2m 50s\tremaining: 1m 37s\n",
      "318:\ttotal: 2m 51s\tremaining: 1m 37s\n",
      "319:\ttotal: 2m 51s\tremaining: 1m 36s\n",
      "320:\ttotal: 2m 51s\tremaining: 1m 35s\n",
      "321:\ttotal: 2m 51s\tremaining: 1m 34s\n",
      "322:\ttotal: 2m 51s\tremaining: 1m 33s\n",
      "323:\ttotal: 2m 52s\tremaining: 1m 33s\n",
      "324:\ttotal: 2m 52s\tremaining: 1m 33s\n",
      "325:\ttotal: 2m 53s\tremaining: 1m 32s\n",
      "326:\ttotal: 2m 53s\tremaining: 1m 31s\n",
      "327:\ttotal: 2m 54s\tremaining: 1m 31s\n",
      "328:\ttotal: 2m 54s\tremaining: 1m 30s\n",
      "329:\ttotal: 2m 55s\tremaining: 1m 30s\n",
      "330:\ttotal: 2m 55s\tremaining: 1m 29s\n",
      "331:\ttotal: 2m 56s\tremaining: 1m 29s\n",
      "332:\ttotal: 2m 57s\tremaining: 1m 28s\n",
      "333:\ttotal: 2m 57s\tremaining: 1m 28s\n",
      "334:\ttotal: 2m 58s\tremaining: 1m 28s\n",
      "335:\ttotal: 2m 59s\tremaining: 1m 27s\n",
      "336:\ttotal: 3m\tremaining: 1m 27s\n",
      "337:\ttotal: 3m\tremaining: 1m 26s\n",
      "338:\ttotal: 3m 1s\tremaining: 1m 26s\n",
      "339:\ttotal: 3m 2s\tremaining: 1m 25s\n",
      "340:\ttotal: 3m 3s\tremaining: 1m 25s\n",
      "341:\ttotal: 3m 4s\tremaining: 1m 25s\n",
      "342:\ttotal: 3m 4s\tremaining: 1m 24s\n",
      "343:\ttotal: 3m 4s\tremaining: 1m 23s\n",
      "344:\ttotal: 3m 5s\tremaining: 1m 23s\n",
      "345:\ttotal: 3m 5s\tremaining: 1m 22s\n",
      "346:\ttotal: 3m 6s\tremaining: 1m 22s\n",
      "347:\ttotal: 3m 7s\tremaining: 1m 21s\n",
      "348:\ttotal: 3m 7s\tremaining: 1m 21s\n",
      "349:\ttotal: 3m 8s\tremaining: 1m 20s\n",
      "350:\ttotal: 3m 9s\tremaining: 1m 20s\n",
      "351:\ttotal: 3m 10s\tremaining: 1m 19s\n",
      "352:\ttotal: 3m 10s\tremaining: 1m 19s\n",
      "353:\ttotal: 3m 11s\tremaining: 1m 19s\n",
      "354:\ttotal: 3m 12s\tremaining: 1m 18s\n",
      "355:\ttotal: 3m 13s\tremaining: 1m 18s\n",
      "356:\ttotal: 3m 13s\tremaining: 1m 17s\n",
      "357:\ttotal: 3m 13s\tremaining: 1m 16s\n",
      "358:\ttotal: 3m 14s\tremaining: 1m 16s\n",
      "359:\ttotal: 3m 15s\tremaining: 1m 15s\n",
      "360:\ttotal: 3m 16s\tremaining: 1m 15s\n",
      "361:\ttotal: 3m 16s\tremaining: 1m 15s\n",
      "362:\ttotal: 3m 17s\tremaining: 1m 14s\n",
      "363:\ttotal: 3m 18s\tremaining: 1m 14s\n",
      "364:\ttotal: 3m 19s\tremaining: 1m 13s\n",
      "365:\ttotal: 3m 19s\tremaining: 1m 13s\n",
      "366:\ttotal: 3m 19s\tremaining: 1m 12s\n",
      "367:\ttotal: 3m 20s\tremaining: 1m 11s\n",
      "368:\ttotal: 3m 20s\tremaining: 1m 11s\n",
      "369:\ttotal: 3m 21s\tremaining: 1m 10s\n",
      "370:\ttotal: 3m 22s\tremaining: 1m 10s\n",
      "371:\ttotal: 3m 22s\tremaining: 1m 9s\n",
      "372:\ttotal: 3m 22s\tremaining: 1m 9s\n",
      "373:\ttotal: 3m 23s\tremaining: 1m 8s\n",
      "374:\ttotal: 3m 23s\tremaining: 1m 7s\n",
      "375:\ttotal: 3m 24s\tremaining: 1m 7s\n",
      "376:\ttotal: 3m 24s\tremaining: 1m 6s\n",
      "377:\ttotal: 3m 24s\tremaining: 1m 6s\n",
      "378:\ttotal: 3m 24s\tremaining: 1m 5s\n",
      "379:\ttotal: 3m 25s\tremaining: 1m 4s\n",
      "380:\ttotal: 3m 25s\tremaining: 1m 4s\n",
      "381:\ttotal: 3m 25s\tremaining: 1m 3s\n",
      "382:\ttotal: 3m 26s\tremaining: 1m 2s\n",
      "383:\ttotal: 3m 26s\tremaining: 1m 2s\n",
      "384:\ttotal: 3m 27s\tremaining: 1m 1s\n",
      "385:\ttotal: 3m 27s\tremaining: 1m 1s\n",
      "386:\ttotal: 3m 27s\tremaining: 1m\n",
      "387:\ttotal: 3m 28s\tremaining: 1m\n",
      "388:\ttotal: 3m 28s\tremaining: 59.6s\n",
      "389:\ttotal: 3m 28s\tremaining: 58.9s\n",
      "390:\ttotal: 3m 29s\tremaining: 58.4s\n",
      "391:\ttotal: 3m 30s\tremaining: 57.9s\n",
      "392:\ttotal: 3m 30s\tremaining: 57.3s\n",
      "393:\ttotal: 3m 30s\tremaining: 56.6s\n",
      "394:\ttotal: 3m 31s\tremaining: 56.1s\n",
      "395:\ttotal: 3m 31s\tremaining: 55.6s\n",
      "396:\ttotal: 3m 32s\tremaining: 55.2s\n",
      "397:\ttotal: 3m 33s\tremaining: 54.8s\n",
      "398:\ttotal: 3m 34s\tremaining: 54.3s\n",
      "399:\ttotal: 3m 35s\tremaining: 53.8s\n",
      "400:\ttotal: 3m 35s\tremaining: 53.2s\n",
      "401:\ttotal: 3m 35s\tremaining: 52.5s\n",
      "402:\ttotal: 3m 35s\tremaining: 51.9s\n",
      "403:\ttotal: 3m 36s\tremaining: 51.4s\n",
      "404:\ttotal: 3m 37s\tremaining: 51s\n",
      "405:\ttotal: 3m 37s\tremaining: 50.5s\n",
      "406:\ttotal: 3m 38s\tremaining: 49.9s\n",
      "407:\ttotal: 3m 38s\tremaining: 49.4s\n",
      "408:\ttotal: 3m 39s\tremaining: 48.9s\n",
      "409:\ttotal: 3m 40s\tremaining: 48.4s\n",
      "410:\ttotal: 3m 41s\tremaining: 47.9s\n",
      "411:\ttotal: 3m 41s\tremaining: 47.3s\n",
      "412:\ttotal: 3m 41s\tremaining: 46.6s\n",
      "413:\ttotal: 3m 41s\tremaining: 46.1s\n",
      "414:\ttotal: 3m 42s\tremaining: 45.6s\n",
      "415:\ttotal: 3m 42s\tremaining: 45s\n",
      "416:\ttotal: 3m 43s\tremaining: 44.5s\n",
      "417:\ttotal: 3m 44s\tremaining: 44s\n",
      "418:\ttotal: 3m 44s\tremaining: 43.3s\n",
      "419:\ttotal: 3m 44s\tremaining: 42.9s\n",
      "420:\ttotal: 3m 45s\tremaining: 42.4s\n",
      "421:\ttotal: 3m 45s\tremaining: 41.8s\n",
      "422:\ttotal: 3m 46s\tremaining: 41.3s\n",
      "423:\ttotal: 3m 47s\tremaining: 40.8s\n",
      "424:\ttotal: 3m 48s\tremaining: 40.3s\n",
      "425:\ttotal: 3m 48s\tremaining: 39.8s\n",
      "426:\ttotal: 3m 48s\tremaining: 39.1s\n",
      "427:\ttotal: 3m 48s\tremaining: 38.5s\n",
      "428:\ttotal: 3m 49s\tremaining: 38s\n",
      "429:\ttotal: 3m 50s\tremaining: 37.5s\n",
      "430:\ttotal: 3m 50s\tremaining: 36.9s\n",
      "431:\ttotal: 3m 51s\tremaining: 36.4s\n",
      "432:\ttotal: 3m 51s\tremaining: 35.9s\n",
      "433:\ttotal: 3m 52s\tremaining: 35.4s\n",
      "434:\ttotal: 3m 53s\tremaining: 34.9s\n",
      "435:\ttotal: 3m 53s\tremaining: 34.3s\n",
      "436:\ttotal: 3m 53s\tremaining: 33.7s\n",
      "437:\ttotal: 3m 54s\tremaining: 33.2s\n",
      "438:\ttotal: 3m 54s\tremaining: 32.6s\n",
      "439:\ttotal: 3m 55s\tremaining: 32.1s\n",
      "440:\ttotal: 3m 56s\tremaining: 31.6s\n",
      "441:\ttotal: 3m 57s\tremaining: 31.1s\n",
      "442:\ttotal: 3m 57s\tremaining: 30.5s\n",
      "443:\ttotal: 3m 58s\tremaining: 30s\n",
      "444:\ttotal: 3m 58s\tremaining: 29.5s\n",
      "445:\ttotal: 3m 58s\tremaining: 28.9s\n",
      "446:\ttotal: 3m 59s\tremaining: 28.4s\n",
      "447:\ttotal: 4m\tremaining: 27.9s\n",
      "448:\ttotal: 4m\tremaining: 27.3s\n",
      "449:\ttotal: 4m 1s\tremaining: 26.8s\n",
      "450:\ttotal: 4m 1s\tremaining: 26.3s\n",
      "451:\ttotal: 4m 2s\tremaining: 25.8s\n",
      "452:\ttotal: 4m 2s\tremaining: 25.2s\n",
      "453:\ttotal: 4m 2s\tremaining: 24.6s\n",
      "454:\ttotal: 4m 3s\tremaining: 24.1s\n",
      "455:\ttotal: 4m 4s\tremaining: 23.6s\n",
      "456:\ttotal: 4m 5s\tremaining: 23.1s\n",
      "457:\ttotal: 4m 5s\tremaining: 22.5s\n"
     ]
    },
    {
     "name": "stdout",
     "output_type": "stream",
     "text": [
      "458:\ttotal: 4m 6s\tremaining: 22s\n",
      "459:\ttotal: 4m 6s\tremaining: 21.4s\n",
      "460:\ttotal: 4m 6s\tremaining: 20.8s\n",
      "461:\ttotal: 4m 6s\tremaining: 20.3s\n",
      "462:\ttotal: 4m 6s\tremaining: 19.7s\n",
      "463:\ttotal: 4m 7s\tremaining: 19.2s\n",
      "464:\ttotal: 4m 7s\tremaining: 18.7s\n",
      "465:\ttotal: 4m 8s\tremaining: 18.1s\n",
      "466:\ttotal: 4m 8s\tremaining: 17.5s\n",
      "467:\ttotal: 4m 9s\tremaining: 17s\n",
      "468:\ttotal: 4m 9s\tremaining: 16.5s\n",
      "469:\ttotal: 4m 9s\tremaining: 16s\n",
      "470:\ttotal: 4m 10s\tremaining: 15.4s\n",
      "471:\ttotal: 4m 11s\tremaining: 14.9s\n",
      "472:\ttotal: 4m 11s\tremaining: 14.3s\n",
      "473:\ttotal: 4m 12s\tremaining: 13.8s\n",
      "474:\ttotal: 4m 12s\tremaining: 13.3s\n",
      "475:\ttotal: 4m 12s\tremaining: 12.7s\n",
      "476:\ttotal: 4m 12s\tremaining: 12.2s\n",
      "477:\ttotal: 4m 13s\tremaining: 11.7s\n",
      "478:\ttotal: 4m 14s\tremaining: 11.1s\n",
      "479:\ttotal: 4m 14s\tremaining: 10.6s\n",
      "480:\ttotal: 4m 15s\tremaining: 10.1s\n",
      "481:\ttotal: 4m 15s\tremaining: 9.56s\n",
      "482:\ttotal: 4m 16s\tremaining: 9.03s\n",
      "483:\ttotal: 4m 17s\tremaining: 8.51s\n",
      "484:\ttotal: 4m 17s\tremaining: 7.97s\n",
      "485:\ttotal: 4m 18s\tremaining: 7.45s\n",
      "486:\ttotal: 4m 19s\tremaining: 6.92s\n",
      "487:\ttotal: 4m 19s\tremaining: 6.39s\n",
      "488:\ttotal: 4m 20s\tremaining: 5.85s\n",
      "489:\ttotal: 4m 20s\tremaining: 5.31s\n",
      "490:\ttotal: 4m 20s\tremaining: 4.77s\n",
      "491:\ttotal: 4m 20s\tremaining: 4.23s\n",
      "492:\ttotal: 4m 20s\tremaining: 3.7s\n",
      "493:\ttotal: 4m 20s\tremaining: 3.17s\n",
      "494:\ttotal: 4m 21s\tremaining: 2.64s\n",
      "495:\ttotal: 4m 21s\tremaining: 2.11s\n",
      "496:\ttotal: 4m 22s\tremaining: 1.58s\n",
      "497:\ttotal: 4m 22s\tremaining: 1.05s\n",
      "498:\ttotal: 4m 22s\tremaining: 527ms\n",
      "499:\ttotal: 4m 22s\tremaining: 0us\n"
     ]
    },
    {
     "data": {
      "text/plain": [
       "<catboost.core.CatBoostClassifier at 0x1a3827b518>"
      ]
     },
     "execution_count": 171,
     "metadata": {},
     "output_type": "execute_result"
    }
   ],
   "source": [
    "clf3.fit(train_df[predictors], train_df[target].values)\n",
    "#clf.fit(train_df[predictors], train_df[target].values, verbose= True)"
   ]
  },
  {
   "cell_type": "code",
   "execution_count": 172,
   "metadata": {},
   "outputs": [],
   "source": [
    "preds = clf3.predict(val_df[predictors])"
   ]
  },
  {
   "cell_type": "markdown",
   "metadata": {},
   "source": [
    "Feature Importance"
   ]
  },
  {
   "cell_type": "code",
   "execution_count": 173,
   "metadata": {},
   "outputs": [
    {
     "data": {
      "image/png": "[encoded data removed]",
      "text/plain": [
       "<matplotlib.figure.Figure at 0x1a36c4fa58>"
      ]
     },
     "metadata": {},
     "output_type": "display_data"
    }
   ],
   "source": [
    "tmp = pd.DataFrame({'Feature': predictors, 'Feature Importance': clf3.feature_importances_ })\n",
    "tmp = tmp.sort_values(by='Feature Importance', ascending= False)\n",
    "plt.Figure(figsize= (7,4))\n",
    "plt.title('Feature Importance', fontsize = 14)\n",
    "s = sns.barplot(x = 'Feature', y = 'Feature Importance', data = tmp)\n",
    "s.set_xticklabels(s.get_xticklabels(), rotation = 90)\n",
    "plt.show()"
   ]
  },
  {
   "cell_type": "markdown",
   "metadata": {},
   "source": [
    "Confusion Matrix"
   ]
  },
  {
   "cell_type": "code",
   "execution_count": 174,
   "metadata": {},
   "outputs": [
    {
     "data": {
      "image/png": "[encoded data removed]",
      "text/plain": [
       "<matplotlib.figure.Figure at 0x1a38267908>"
      ]
     },
     "metadata": {},
     "output_type": "display_data"
    }
   ],
   "source": [
    "cm = pd.crosstab(val_df[target].values, preds, rownames=['Actual'], colnames=['Predicted'])\n",
    "fig, (ax1) = plt.subplots(ncols=1, figsize=(5, 5))\n",
    "sns.heatmap(cm, xticklabels= ['Not Fraud', 'Fraud'], yticklabels= ['Not Fraud', 'Fraud'], annot= True,\n",
    "           ax = ax1, linewidths= .2, linecolor= 'Darkblue', cmap='Blues')\n",
    "plt.title('Confusion Matrix', fontsize=14)\n",
    "plt.show()"
   ]
  },
  {
   "cell_type": "markdown",
   "metadata": {},
   "source": [
    "Area Under Curve"
   ]
  },
  {
   "cell_type": "code",
   "execution_count": 175,
   "metadata": {},
   "outputs": [
    {
     "data": {
      "text/plain": [
       "0.66044073333582709"
      ]
     },
     "execution_count": 175,
     "metadata": {},
     "output_type": "execute_result"
    }
   ],
   "source": [
    "roc_auc_score(val_df[target].values, preds)"
   ]
  },
  {
   "cell_type": "code",
   "execution_count": null,
   "metadata": {},
   "outputs": [],
   "source": []
  },
  {
   "cell_type": "markdown",
   "metadata": {},
   "source": [
    "## XGBoost Classifier"
   ]
  },
  {
   "cell_type": "markdown",
   "metadata": {},
   "source": [
    "http://xgboost.readthedocs.io/en/latest/python/python_api.html"
   ]
  },
  {
   "cell_type": "code",
   "execution_count": 176,
   "metadata": {},
   "outputs": [],
   "source": [
    "dtrain = xgb.DMatrix(train_df[predictors], train_df[target].values)\n",
    "dvalid = xgb.DMatrix(val_df[predictors], val_df[target].values)\n",
    "\n",
    "watchlist = [(dtrain, 'train'), (dvalid, 'valid')]\n",
    "\n",
    "#xgboost parameters\n",
    "params = {}\n",
    "params['objective'] = 'binary:logistic'\n",
    "params['eta'] = 0.039\n",
    "params['silent'] = True\n",
    "params['max_depth'] = 2\n",
    "params['subsample'] = 0.8\n",
    "params['colsample_bytree'] = 0.9\n",
    "params['eval_metric'] = 'auc'\n",
    "#params['random_state'] = RANDOM_STATE"
   ]
  },
  {
   "cell_type": "code",
   "execution_count": 180,
   "metadata": {
    "scrolled": true
   },
   "outputs": [
    {
     "name": "stdout",
     "output_type": "stream",
     "text": [
      "[0]\ttrain-auc:0.692179\tvalid-auc:0.696813\n",
      "Multiple eval metrics have been passed: 'valid-auc' will be used for early stopping.\n",
      "\n",
      "Will train until valid-auc hasn't improved in 50 rounds.\n",
      "[50]\ttrain-auc:0.770719\tvalid-auc:0.763167\n",
      "[100]\ttrain-auc:0.778863\tvalid-auc:0.770033\n",
      "[150]\ttrain-auc:0.784698\tvalid-auc:0.772348\n",
      "[200]\ttrain-auc:0.788751\tvalid-auc:0.773628\n",
      "[250]\ttrain-auc:0.791844\tvalid-auc:0.774496\n",
      "[300]\ttrain-auc:0.794903\tvalid-auc:0.775207\n",
      "[350]\ttrain-auc:0.797372\tvalid-auc:0.775922\n",
      "[400]\ttrain-auc:0.799424\tvalid-auc:0.776169\n",
      "[450]\ttrain-auc:0.80132\tvalid-auc:0.776441\n",
      "[500]\ttrain-auc:0.803282\tvalid-auc:0.776846\n",
      "[550]\ttrain-auc:0.804955\tvalid-auc:0.777121\n",
      "[600]\ttrain-auc:0.806496\tvalid-auc:0.777268\n",
      "[650]\ttrain-auc:0.808038\tvalid-auc:0.777216\n",
      "Stopping. Best iteration:\n",
      "[626]\ttrain-auc:0.807296\tvalid-auc:0.777373\n",
      "\n"
     ]
    },
    {
     "data": {
      "text/plain": [
       "'model = xgb.train(params, \\n                dtrain, \\n                MAX_ROUNDS, \\n                watchlist, \\n                early_stopping_rounds=EARLY_STOP, \\n                maximize=True, \\n                verbose_eval=VERBOSE_EVAL)\\n                \\nxgboost.train(params, dtrain, num_boost_round=10, evals=(), obj=None, feval=None, \\n            maximize=False, early_stopping_rounds=None, evals_result=None, verbose_eval=True, \\n            xgb_model=None, callbacks=None, learning_rates=None)'"
      ]
     },
     "execution_count": 180,
     "metadata": {},
     "output_type": "execute_result"
    }
   ],
   "source": [
    "model = xgb.train(params, \n",
    "                dtrain, \n",
    "                MAX_ROUNDS, \n",
    "                watchlist, \n",
    "                early_stopping_rounds=EARLY_STOP, \n",
    "                maximize=True, \n",
    "                verbose_eval=VERBOSE_EVAL)\n",
    "\n",
    "'''model = xgb.train(params, \n",
    "                dtrain, \n",
    "                MAX_ROUNDS, \n",
    "                watchlist, \n",
    "                early_stopping_rounds=EARLY_STOP, \n",
    "                maximize=True, \n",
    "                verbose_eval=VERBOSE_EVAL)\n",
    "                \n",
    "xgboost.train(params, dtrain, num_boost_round=10, evals=(), obj=None, feval=None, \n",
    "            maximize=False, early_stopping_rounds=None, evals_result=None, verbose_eval=True, \n",
    "            xgb_model=None, callbacks=None, learning_rates=None)'''"
   ]
  },
  {
   "cell_type": "markdown",
   "metadata": {},
   "source": [
    "Plot Variable Importance"
   ]
  },
  {
   "cell_type": "code",
   "execution_count": 181,
   "metadata": {},
   "outputs": [
    {
     "data": {
      "image/png": "[encoded data removed]",
      "text/plain": [
       "<matplotlib.figure.Figure at 0x1a30278e10>"
      ]
     },
     "metadata": {},
     "output_type": "display_data"
    }
   ],
   "source": [
    "fig, (ax) = plt.subplots(ncols=1, figsize=(8, 5))\n",
    "xgb.plot_importance(model, height=0.8, title= 'Feature Importance', ax= ax, color='green')\n",
    "plt.show()"
   ]
  },
  {
   "cell_type": "code",
   "execution_count": null,
   "metadata": {},
   "outputs": [],
   "source": []
  },
  {
   "cell_type": "markdown",
   "metadata": {},
   "source": [
    "## Light GBM Classifier"
   ]
  },
  {
   "cell_type": "markdown",
   "metadata": {},
   "source": [
    "https://github.com/Microsoft/LightGBM/tree/master/python-package"
   ]
  },
  {
   "cell_type": "code",
   "execution_count": 184,
   "metadata": {},
   "outputs": [],
   "source": [
    "params = {\n",
    "          'boosting_type': 'gbdt',\n",
    "          'objective': 'binary',\n",
    "          'metric':'auc',\n",
    "          'learning_rate': 0.05,\n",
    "          'num_leaves': 7,  # we should let it be smaller than 2^(max_depth)\n",
    "          'max_depth': 4,  # -1 means no limit\n",
    "          'min_child_samples': 100,  # Minimum number of data need in a child(min_data_in_leaf)\n",
    "          'max_bin': 100,  # Number of bucketed bin for feature values\n",
    "          'subsample': 0.9,  # Subsample ratio of the training instance.\n",
    "          'subsample_freq': 1,  # frequence of subsample, <=0 means no enable\n",
    "          'colsample_bytree': 0.7,  # Subsample ratio of columns when constructing each tree.\n",
    "          'min_child_weight': 0,  # Minimum sum of instance weight(hessian) needed in a child(leaf)\n",
    "          'min_split_gain': 0,  # lambda_l1, lambda_l2 and min_gain_to_split to regularization\n",
    "          'nthread': 8,\n",
    "          'verbose': 0,\n",
    "          'scale_pos_weight':50, # because training data is sightly unbalanced \n",
    "         }"
   ]
  },
  {
   "cell_type": "code",
   "execution_count": 185,
   "metadata": {},
   "outputs": [],
   "source": [
    "categorical_features = ['SEX', 'EDUCATION', 'MARRIAGE','PAY_1', 'PAY_2', 'PAY_3', 'PAY_4', 'PAY_5', 'PAY_6']"
   ]
  },
  {
   "cell_type": "code",
   "execution_count": 186,
   "metadata": {},
   "outputs": [],
   "source": [
    "dtrain = lgb.Dataset(train_df[predictors].values, \n",
    "                     label=train_df[target].values,\n",
    "                     feature_name=predictors,\n",
    "                     categorical_feature=categorical_features)\n",
    "\n",
    "dvalid = lgb.Dataset(val_df[predictors].values,\n",
    "                     label=val_df[target].values,\n",
    "                     feature_name=predictors,\n",
    "                     categorical_feature=categorical_features)"
   ]
  },
  {
   "cell_type": "code",
   "execution_count": 187,
   "metadata": {},
   "outputs": [
    {
     "name": "stderr",
     "output_type": "stream",
     "text": [
      "/Users/gaddamnitish/anaconda3/lib/python3.6/site-packages/lightgbm/basic.py:1040: UserWarning: Using categorical_feature in Dataset.\n",
      "  warnings.warn('Using categorical_feature in Dataset.')\n",
      "/Users/gaddamnitish/anaconda3/lib/python3.6/site-packages/lightgbm/basic.py:685: UserWarning: categorical_feature in param dict is overridden.\n",
      "  warnings.warn('categorical_feature in param dict is overridden.')\n"
     ]
    },
    {
     "name": "stdout",
     "output_type": "stream",
     "text": [
      "Training until validation scores don't improve for 50 rounds.\n",
      "[50]\ttrain's auc: 0.78309\tvalid's auc: 0.769396\n",
      "[100]\ttrain's auc: 0.791453\tvalid's auc: 0.777201\n",
      "[150]\ttrain's auc: 0.797575\tvalid's auc: 0.77964\n",
      "[200]\ttrain's auc: 0.803741\tvalid's auc: 0.780259\n",
      "[250]\ttrain's auc: 0.808234\tvalid's auc: 0.780243\n",
      "Early stopping, best iteration is:\n",
      "[212]\ttrain's auc: 0.805012\tvalid's auc: 0.7804\n"
     ]
    },
    {
     "data": {
      "text/plain": [
       "116112"
      ]
     },
     "execution_count": 187,
     "metadata": {},
     "output_type": "execute_result"
    }
   ],
   "source": [
    "evals_results = {}\n",
    "\n",
    "model = lgb.train(params, \n",
    "                  dtrain, \n",
    "                  valid_sets=[dtrain, dvalid], \n",
    "                  valid_names=['train','valid'], \n",
    "                  evals_result=evals_results, \n",
    "                  num_boost_round=MAX_ROUNDS,\n",
    "                  early_stopping_rounds=EARLY_STOP,\n",
    "                  verbose_eval=VERBOSE_EVAL, \n",
    "                  feval=None)\n",
    "\n",
    "del dvalid\n",
    "gc.collect()"
   ]
  },
  {
   "cell_type": "code",
   "execution_count": 188,
   "metadata": {},
   "outputs": [
    {
     "data": {
      "image/png": "[encoded data removed]",
      "text/plain": [
       "<matplotlib.figure.Figure at 0x1a2d183128>"
      ]
     },
     "metadata": {},
     "output_type": "display_data"
    }
   ],
   "source": [
    "fig, (ax) = plt.subplots(ncols=1, figsize=(8,5))\n",
    "lgb.plot_importance(model, height=0.8, title=\"Features importance (LightGBM)\", ax=ax,color=\"red\") \n",
    "plt.show()"
   ]
  },
  {
   "cell_type": "code",
   "execution_count": 191,
   "metadata": {},
   "outputs": [
    {
     "name": "stdout",
     "output_type": "stream",
     "text": [
      "Training until validation scores don't improve for 50 rounds.\n",
      "[50]\ttrain's auc: 0.781271\tvalid's auc: 0.775332\n",
      "[100]\ttrain's auc: 0.789164\tvalid's auc: 0.78266\n",
      "[150]\ttrain's auc: 0.795544\tvalid's auc: 0.785319\n",
      "[200]\ttrain's auc: 0.800789\tvalid's auc: 0.785453\n",
      "Early stopping, best iteration is:\n",
      "[166]\ttrain's auc: 0.797404\tvalid's auc: 0.785996\n",
      "Training until validation scores don't improve for 50 rounds.\n",
      "[50]\ttrain's auc: 0.782932\tvalid's auc: 0.766139\n",
      "[100]\ttrain's auc: 0.791727\tvalid's auc: 0.772283\n",
      "[150]\ttrain's auc: 0.797561\tvalid's auc: 0.776186\n",
      "[200]\ttrain's auc: 0.803256\tvalid's auc: 0.777881\n",
      "[250]\ttrain's auc: 0.808134\tvalid's auc: 0.778094\n",
      "Early stopping, best iteration is:\n",
      "[244]\ttrain's auc: 0.807445\tvalid's auc: 0.778407\n",
      "Training until validation scores don't improve for 50 rounds.\n",
      "[50]\ttrain's auc: 0.779748\tvalid's auc: 0.784581\n",
      "[100]\ttrain's auc: 0.788084\tvalid's auc: 0.789087\n",
      "[150]\ttrain's auc: 0.794719\tvalid's auc: 0.790519\n",
      "[200]\ttrain's auc: 0.799857\tvalid's auc: 0.790972\n",
      "Early stopping, best iteration is:\n",
      "[168]\ttrain's auc: 0.79667\tvalid's auc: 0.791225\n",
      "Training until validation scores don't improve for 50 rounds.\n",
      "[50]\ttrain's auc: 0.781928\tvalid's auc: 0.773978\n",
      "[100]\ttrain's auc: 0.789907\tvalid's auc: 0.779934\n",
      "[150]\ttrain's auc: 0.796527\tvalid's auc: 0.781709\n",
      "[200]\ttrain's auc: 0.802348\tvalid's auc: 0.781706\n",
      "Early stopping, best iteration is:\n",
      "[166]\ttrain's auc: 0.799164\tvalid's auc: 0.78201\n",
      "Training until validation scores don't improve for 50 rounds.\n",
      "[50]\ttrain's auc: 0.781331\tvalid's auc: 0.77446\n",
      "[100]\ttrain's auc: 0.789324\tvalid's auc: 0.780882\n",
      "[150]\ttrain's auc: 0.795946\tvalid's auc: 0.78365\n",
      "[200]\ttrain's auc: 0.801011\tvalid's auc: 0.784967\n",
      "[250]\ttrain's auc: 0.805577\tvalid's auc: 0.785752\n",
      "Early stopping, best iteration is:\n",
      "[241]\ttrain's auc: 0.804851\tvalid's auc: 0.785821\n"
     ]
    }
   ],
   "source": [
    "kf = KFold(n_splits = NUMBER_KFOLDS, random_state = RANDOM_STATE, shuffle = True)\n",
    "for train_index, test_index in kf.split(data_German):\n",
    "    train_X, valid_X = data_German.iloc[train_index], data_German.iloc[test_index]\n",
    "    \n",
    "    dtrain = lgb.Dataset(train_X[predictors].values, label=train_X[target].values,\n",
    "                     feature_name=predictors)\n",
    "\n",
    "    dvalid = lgb.Dataset(valid_X[predictors].values, label=valid_X[target].values,\n",
    "                     feature_name=predictors)\n",
    "\n",
    "    evals_results = {}\n",
    "    model =  lgb.train(params, \n",
    "                  dtrain, \n",
    "                  valid_sets=[dtrain, dvalid], \n",
    "                  valid_names=['train','valid'], \n",
    "                  evals_result=evals_results, \n",
    "                  num_boost_round=MAX_ROUNDS,\n",
    "                  early_stopping_rounds=EARLY_STOP,\n",
    "                  verbose_eval=VERBOSE_EVAL, \n",
    "                  feval=None)"
   ]
  },
  {
   "cell_type": "code",
   "execution_count": null,
   "metadata": {},
   "outputs": [],
   "source": []
  }
 ],
 "metadata": {
  "kernelspec": {
   "display_name": "Python 3",
   "language": "python",
   "name": "python3"
  },
  "language_info": {
   "codemirror_mode": {
    "name": "ipython",
    "version": 3
   },
   "file_extension": ".py",
   "mimetype": "text/x-python",
   "name": "python",
   "nbconvert_exporter": "python",
   "pygments_lexer": "ipython3",
   "version": "3.6.4"
  }
 },
 "nbformat": 4,
 "nbformat_minor": 2
}
