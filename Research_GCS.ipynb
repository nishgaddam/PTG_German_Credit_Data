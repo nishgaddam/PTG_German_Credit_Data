{
 "cells": [
  {
   "cell_type": "markdown",
   "metadata": {},
   "source": [
    "There are 25 variables:\n",
    "\n",
    "Customer Details:\n",
    "\n",
    "- ID: ID of each client\n",
    "\n",
    "- LIMIT_BAL: Amount of given credit in NT dollars (includes individual and family/supplementary credit\n",
    "\n",
    "- SEX: Gender (1=male, 2=female)\n",
    "\n",
    "- EDUCATION: (1=graduate school, 2=university, 3=high school, 4=others, 5=unknown, 6=unknown)\n",
    "\n",
    "- MARRIAGE: Marital status (1=married, 2=single, 3=others)\n",
    "\n",
    "- AGE: Age in years\n",
    "\n",
    "PAY:\n",
    "\n",
    "- PAY_0: Repayment status in September, 2005 (-1=pay duly, 1=payment delay for one month, 2=payment delay for two months, ... 8=payment delay for eight months, 9=payment delay for nine months and above)\n",
    "\n",
    "- PAY_2: Repayment status in August, 2005 (scale same as above)\n",
    " \n",
    "- PAY_3: Repayment status in July, 2005 (scale same as above)\n",
    "\n",
    "- PAY_4: Repayment status in June, 2005 (scale same as above)\n",
    "\n",
    "- PAY_5: Repayment status in May, 2005 (scale same as above)\n",
    "\n",
    "- PAY_6: Repayment status in April, 2005 (scale same as above)\n",
    "\n",
    "Bill Amt:\n",
    "\n",
    "- BILL_AMT1: Amount of bill statement in September, 2005 (NT dollar)\n",
    "\n",
    "- BILL_AMT2: Amount of bill statement in August, 2005 (NT dollar)\n",
    "\n",
    "- BILL_AMT3: Amount of bill statement in July, 2005 (NT dollar)\n",
    "\n",
    "- BILL_AMT4: Amount of bill statement in June, 2005 (NT dollar)\n",
    "\n",
    "- BILL_AMT5: Amount of bill statement in May, 2005 (NT dollar)\n",
    "\n",
    "- BILL_AMT6: Amount of bill statement in April, 2005 (NT dollar)\n",
    "\n",
    "Pay Amt:\n",
    "\n",
    "- PAY_AMT1: Amount of previous payment in September, 2005 (NT dollar)\n",
    "\n",
    "- PAY_AMT2: Amount of previous payment in August, 2005 (NT dollar)\n",
    "\n",
    "- PAY_AMT3: Amount of previous payment in July, 2005 (NT dollar)\n",
    "\n",
    "- PAY_AMT4: Amount of previous payment in June, 2005 (NT dollar)\n",
    "\n",
    "- PAY_AMT5: Amount of previous payment in May, 2005 (NT dollar)\n",
    "\n",
    "- PAY_AMT6: Amount of previous payment in April, 2005 (NT dollar)\n",
    "\n",
    "Y:\n",
    "\n",
    "- default.payment.next.month: Default payment (1=yes, 0=no)"
   ]
  },
  {
   "cell_type": "markdown",
   "metadata": {},
   "source": [
    "University:\n",
    "- UCI ML: https://archive.ics.uci.edu/ml/datasets/default+of+credit+card+clients\n",
    "- PennState: https://onlinecourses.science.psu.edu/stat857/node/216/"
   ]
  },
  {
   "cell_type": "markdown",
   "metadata": {},
   "source": [
    "Medium:\n",
    "- https://medium.com/@guaisang/credit-default-prediction-with-logistic-regression-b5bd89f2799f\n",
    "- "
   ]
  },
  {
   "cell_type": "markdown",
   "metadata": {},
   "source": [
    "Kaggle:\n",
    "- https://www.kaggle.com/uciml/default-of-credit-card-clients-dataset\n",
    "- https://www.kaggle.com/vigneshj6/german-credit-data-analysis-python"
   ]
  },
  {
   "cell_type": "markdown",
   "metadata": {},
   "source": [
    "Classification & Regression Trees (CART):\n",
    "- https://www.datasciencecentral.com/profiles/blogs/introduction-to-classification-regression-trees-cart"
   ]
  },
  {
   "cell_type": "markdown",
   "metadata": {},
   "source": [
    "Others:\n",
    "- http://inseaddataanalytics.github.io/INSEADAnalytics/CourseSessions/ClassificationProcessCreditCardDefault.html"
   ]
  },
  {
   "cell_type": "markdown",
   "metadata": {},
   "source": []
  },
  {
   "cell_type": "markdown",
   "metadata": {},
   "source": []
  },
  {
   "cell_type": "markdown",
   "metadata": {},
   "source": []
  },
  {
   "cell_type": "markdown",
   "metadata": {},
   "source": []
  }
 ],
 "metadata": {
  "kernelspec": {
   "display_name": "Python 3",
   "language": "python",
   "name": "python3"
  },
  "language_info": {
   "codemirror_mode": {
    "name": "ipython",
    "version": 3
   },
   "file_extension": ".py",
   "mimetype": "text/x-python",
   "name": "python",
   "nbconvert_exporter": "python",
   "pygments_lexer": "ipython3",
   "version": "3.6.4"
  }
 },
 "nbformat": 4,
 "nbformat_minor": 2
}
