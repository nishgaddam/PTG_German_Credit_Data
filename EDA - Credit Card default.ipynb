{
 "cells": [
  {
   "cell_type": "markdown",
   "metadata": {},
   "source": [
    "# EDA of Default Credit Data Set"
   ]
  },
  {
   "cell_type": "code",
   "execution_count": 1,
   "metadata": {},
   "outputs": [],
   "source": [
    "import seaborn as sns\n",
    "import numpy as np\n",
    "import pandas as pd\n",
    "import matplotlib.pyplot as plt\n",
    "%matplotlib inline\n",
    "from warnings import simplefilter\n",
    "simplefilter(action = \"ignore\", category = (FutureWarning, DeprecationWarning, UserWarning))"
   ]
  },
  {
   "cell_type": "code",
   "execution_count": 2,
   "metadata": {},
   "outputs": [],
   "source": [
    "# Set up the palette as color blind friendly \n",
    "sns.set_style(\"whitegrid\", {'axes.grid' : True})\n",
    "sns.set_palette(\"Set2\")"
   ]
  },
  {
   "cell_type": "markdown",
   "metadata": {},
   "source": [
    "### Data loading and transformation"
   ]
  },
  {
   "cell_type": "code",
   "execution_count": 3,
   "metadata": {},
   "outputs": [],
   "source": [
    "credit_data = pd.read_excel(\"default_of_credit_card_clients.xls\", skiprows = 1)"
   ]
  },
  {
   "cell_type": "code",
   "execution_count": 4,
   "metadata": {},
   "outputs": [
    {
     "data": {
      "text/html": [
       "<div>\n",
       "<style scoped>\n",
       "    .dataframe tbody tr th:only-of-type {\n",
       "        vertical-align: middle;\n",
       "    }\n",
       "\n",
       "    .dataframe tbody tr th {\n",
       "        vertical-align: top;\n",
       "    }\n",
       "\n",
       "    .dataframe thead th {\n",
       "        text-align: right;\n",
       "    }\n",
       "</style>\n",
       "<table border=\"1\" class=\"dataframe\">\n",
       "  <thead>\n",
       "    <tr style=\"text-align: right;\">\n",
       "      <th></th>\n",
       "      <th>ID</th>\n",
       "      <th>LIMIT_BAL</th>\n",
       "      <th>SEX</th>\n",
       "      <th>EDUCATION</th>\n",
       "      <th>MARRIAGE</th>\n",
       "      <th>AGE</th>\n",
       "      <th>PAY_0</th>\n",
       "      <th>PAY_2</th>\n",
       "      <th>PAY_3</th>\n",
       "      <th>PAY_4</th>\n",
       "      <th>...</th>\n",
       "      <th>BILL_AMT4</th>\n",
       "      <th>BILL_AMT5</th>\n",
       "      <th>BILL_AMT6</th>\n",
       "      <th>PAY_AMT1</th>\n",
       "      <th>PAY_AMT2</th>\n",
       "      <th>PAY_AMT3</th>\n",
       "      <th>PAY_AMT4</th>\n",
       "      <th>PAY_AMT5</th>\n",
       "      <th>PAY_AMT6</th>\n",
       "      <th>default payment next month</th>\n",
       "    </tr>\n",
       "  </thead>\n",
       "  <tbody>\n",
       "    <tr>\n",
       "      <th>0</th>\n",
       "      <td>1</td>\n",
       "      <td>20000</td>\n",
       "      <td>2</td>\n",
       "      <td>2</td>\n",
       "      <td>1</td>\n",
       "      <td>24</td>\n",
       "      <td>2</td>\n",
       "      <td>2</td>\n",
       "      <td>-1</td>\n",
       "      <td>-1</td>\n",
       "      <td>...</td>\n",
       "      <td>0</td>\n",
       "      <td>0</td>\n",
       "      <td>0</td>\n",
       "      <td>0</td>\n",
       "      <td>689</td>\n",
       "      <td>0</td>\n",
       "      <td>0</td>\n",
       "      <td>0</td>\n",
       "      <td>0</td>\n",
       "      <td>1</td>\n",
       "    </tr>\n",
       "    <tr>\n",
       "      <th>1</th>\n",
       "      <td>2</td>\n",
       "      <td>120000</td>\n",
       "      <td>2</td>\n",
       "      <td>2</td>\n",
       "      <td>2</td>\n",
       "      <td>26</td>\n",
       "      <td>-1</td>\n",
       "      <td>2</td>\n",
       "      <td>0</td>\n",
       "      <td>0</td>\n",
       "      <td>...</td>\n",
       "      <td>3272</td>\n",
       "      <td>3455</td>\n",
       "      <td>3261</td>\n",
       "      <td>0</td>\n",
       "      <td>1000</td>\n",
       "      <td>1000</td>\n",
       "      <td>1000</td>\n",
       "      <td>0</td>\n",
       "      <td>2000</td>\n",
       "      <td>1</td>\n",
       "    </tr>\n",
       "    <tr>\n",
       "      <th>2</th>\n",
       "      <td>3</td>\n",
       "      <td>90000</td>\n",
       "      <td>2</td>\n",
       "      <td>2</td>\n",
       "      <td>2</td>\n",
       "      <td>34</td>\n",
       "      <td>0</td>\n",
       "      <td>0</td>\n",
       "      <td>0</td>\n",
       "      <td>0</td>\n",
       "      <td>...</td>\n",
       "      <td>14331</td>\n",
       "      <td>14948</td>\n",
       "      <td>15549</td>\n",
       "      <td>1518</td>\n",
       "      <td>1500</td>\n",
       "      <td>1000</td>\n",
       "      <td>1000</td>\n",
       "      <td>1000</td>\n",
       "      <td>5000</td>\n",
       "      <td>0</td>\n",
       "    </tr>\n",
       "    <tr>\n",
       "      <th>3</th>\n",
       "      <td>4</td>\n",
       "      <td>50000</td>\n",
       "      <td>2</td>\n",
       "      <td>2</td>\n",
       "      <td>1</td>\n",
       "      <td>37</td>\n",
       "      <td>0</td>\n",
       "      <td>0</td>\n",
       "      <td>0</td>\n",
       "      <td>0</td>\n",
       "      <td>...</td>\n",
       "      <td>28314</td>\n",
       "      <td>28959</td>\n",
       "      <td>29547</td>\n",
       "      <td>2000</td>\n",
       "      <td>2019</td>\n",
       "      <td>1200</td>\n",
       "      <td>1100</td>\n",
       "      <td>1069</td>\n",
       "      <td>1000</td>\n",
       "      <td>0</td>\n",
       "    </tr>\n",
       "    <tr>\n",
       "      <th>4</th>\n",
       "      <td>5</td>\n",
       "      <td>50000</td>\n",
       "      <td>1</td>\n",
       "      <td>2</td>\n",
       "      <td>1</td>\n",
       "      <td>57</td>\n",
       "      <td>-1</td>\n",
       "      <td>0</td>\n",
       "      <td>-1</td>\n",
       "      <td>0</td>\n",
       "      <td>...</td>\n",
       "      <td>20940</td>\n",
       "      <td>19146</td>\n",
       "      <td>19131</td>\n",
       "      <td>2000</td>\n",
       "      <td>36681</td>\n",
       "      <td>10000</td>\n",
       "      <td>9000</td>\n",
       "      <td>689</td>\n",
       "      <td>679</td>\n",
       "      <td>0</td>\n",
       "    </tr>\n",
       "  </tbody>\n",
       "</table>\n",
       "<p>5 rows × 25 columns</p>\n",
       "</div>"
      ],
      "text/plain": [
       "   ID  LIMIT_BAL  SEX  EDUCATION  MARRIAGE  AGE  PAY_0  PAY_2  PAY_3  PAY_4  \\\n",
       "0   1      20000    2          2         1   24      2      2     -1     -1   \n",
       "1   2     120000    2          2         2   26     -1      2      0      0   \n",
       "2   3      90000    2          2         2   34      0      0      0      0   \n",
       "3   4      50000    2          2         1   37      0      0      0      0   \n",
       "4   5      50000    1          2         1   57     -1      0     -1      0   \n",
       "\n",
       "              ...              BILL_AMT4  BILL_AMT5  BILL_AMT6  PAY_AMT1  \\\n",
       "0             ...                      0          0          0         0   \n",
       "1             ...                   3272       3455       3261         0   \n",
       "2             ...                  14331      14948      15549      1518   \n",
       "3             ...                  28314      28959      29547      2000   \n",
       "4             ...                  20940      19146      19131      2000   \n",
       "\n",
       "   PAY_AMT2  PAY_AMT3  PAY_AMT4  PAY_AMT5  PAY_AMT6  \\\n",
       "0       689         0         0         0         0   \n",
       "1      1000      1000      1000         0      2000   \n",
       "2      1500      1000      1000      1000      5000   \n",
       "3      2019      1200      1100      1069      1000   \n",
       "4     36681     10000      9000       689       679   \n",
       "\n",
       "   default payment next month  \n",
       "0                           1  \n",
       "1                           1  \n",
       "2                           0  \n",
       "3                           0  \n",
       "4                           0  \n",
       "\n",
       "[5 rows x 25 columns]"
      ]
     },
     "execution_count": 4,
     "metadata": {},
     "output_type": "execute_result"
    }
   ],
   "source": [
    "credit_data.head()"
   ]
  },
  {
   "cell_type": "code",
   "execution_count": 5,
   "metadata": {},
   "outputs": [
    {
     "name": "stdout",
     "output_type": "stream",
     "text": [
      "<class 'pandas.core.frame.DataFrame'>\n",
      "RangeIndex: 30000 entries, 0 to 29999\n",
      "Data columns (total 25 columns):\n",
      "ID                            30000 non-null int64\n",
      "LIMIT_BAL                     30000 non-null int64\n",
      "SEX                           30000 non-null int64\n",
      "EDUCATION                     30000 non-null int64\n",
      "MARRIAGE                      30000 non-null int64\n",
      "AGE                           30000 non-null int64\n",
      "PAY_0                         30000 non-null int64\n",
      "PAY_2                         30000 non-null int64\n",
      "PAY_3                         30000 non-null int64\n",
      "PAY_4                         30000 non-null int64\n",
      "PAY_5                         30000 non-null int64\n",
      "PAY_6                         30000 non-null int64\n",
      "BILL_AMT1                     30000 non-null int64\n",
      "BILL_AMT2                     30000 non-null int64\n",
      "BILL_AMT3                     30000 non-null int64\n",
      "BILL_AMT4                     30000 non-null int64\n",
      "BILL_AMT5                     30000 non-null int64\n",
      "BILL_AMT6                     30000 non-null int64\n",
      "PAY_AMT1                      30000 non-null int64\n",
      "PAY_AMT2                      30000 non-null int64\n",
      "PAY_AMT3                      30000 non-null int64\n",
      "PAY_AMT4                      30000 non-null int64\n",
      "PAY_AMT5                      30000 non-null int64\n",
      "PAY_AMT6                      30000 non-null int64\n",
      "default payment next month    30000 non-null int64\n",
      "dtypes: int64(25)\n",
      "memory usage: 5.7 MB\n"
     ]
    }
   ],
   "source": [
    "credit_data.info()"
   ]
  },
  {
   "cell_type": "code",
   "execution_count": 6,
   "metadata": {},
   "outputs": [
    {
     "data": {
      "text/html": [
       "<div>\n",
       "<style scoped>\n",
       "    .dataframe tbody tr th:only-of-type {\n",
       "        vertical-align: middle;\n",
       "    }\n",
       "\n",
       "    .dataframe tbody tr th {\n",
       "        vertical-align: top;\n",
       "    }\n",
       "\n",
       "    .dataframe thead th {\n",
       "        text-align: right;\n",
       "    }\n",
       "</style>\n",
       "<table border=\"1\" class=\"dataframe\">\n",
       "  <thead>\n",
       "    <tr style=\"text-align: right;\">\n",
       "      <th></th>\n",
       "      <th>ID</th>\n",
       "      <th>LIMIT_BAL</th>\n",
       "      <th>SEX</th>\n",
       "      <th>EDUCATION</th>\n",
       "      <th>MARRIAGE</th>\n",
       "      <th>AGE</th>\n",
       "      <th>PAY_0</th>\n",
       "      <th>PAY_2</th>\n",
       "      <th>PAY_3</th>\n",
       "      <th>PAY_4</th>\n",
       "      <th>...</th>\n",
       "      <th>BILL_AMT4</th>\n",
       "      <th>BILL_AMT5</th>\n",
       "      <th>BILL_AMT6</th>\n",
       "      <th>PAY_AMT1</th>\n",
       "      <th>PAY_AMT2</th>\n",
       "      <th>PAY_AMT3</th>\n",
       "      <th>PAY_AMT4</th>\n",
       "      <th>PAY_AMT5</th>\n",
       "      <th>PAY_AMT6</th>\n",
       "      <th>default payment next month</th>\n",
       "    </tr>\n",
       "  </thead>\n",
       "  <tbody>\n",
       "    <tr>\n",
       "      <th>count</th>\n",
       "      <td>30000.000000</td>\n",
       "      <td>30000.000000</td>\n",
       "      <td>30000.000000</td>\n",
       "      <td>30000.000000</td>\n",
       "      <td>30000.000000</td>\n",
       "      <td>30000.000000</td>\n",
       "      <td>30000.000000</td>\n",
       "      <td>30000.000000</td>\n",
       "      <td>30000.000000</td>\n",
       "      <td>30000.000000</td>\n",
       "      <td>...</td>\n",
       "      <td>30000.000000</td>\n",
       "      <td>30000.000000</td>\n",
       "      <td>30000.000000</td>\n",
       "      <td>30000.000000</td>\n",
       "      <td>3.000000e+04</td>\n",
       "      <td>30000.00000</td>\n",
       "      <td>30000.000000</td>\n",
       "      <td>30000.000000</td>\n",
       "      <td>30000.000000</td>\n",
       "      <td>30000.000000</td>\n",
       "    </tr>\n",
       "    <tr>\n",
       "      <th>mean</th>\n",
       "      <td>15000.500000</td>\n",
       "      <td>167484.322667</td>\n",
       "      <td>1.603733</td>\n",
       "      <td>1.853133</td>\n",
       "      <td>1.551867</td>\n",
       "      <td>35.485500</td>\n",
       "      <td>-0.016700</td>\n",
       "      <td>-0.133767</td>\n",
       "      <td>-0.166200</td>\n",
       "      <td>-0.220667</td>\n",
       "      <td>...</td>\n",
       "      <td>43262.948967</td>\n",
       "      <td>40311.400967</td>\n",
       "      <td>38871.760400</td>\n",
       "      <td>5663.580500</td>\n",
       "      <td>5.921163e+03</td>\n",
       "      <td>5225.68150</td>\n",
       "      <td>4826.076867</td>\n",
       "      <td>4799.387633</td>\n",
       "      <td>5215.502567</td>\n",
       "      <td>0.221200</td>\n",
       "    </tr>\n",
       "    <tr>\n",
       "      <th>std</th>\n",
       "      <td>8660.398374</td>\n",
       "      <td>129747.661567</td>\n",
       "      <td>0.489129</td>\n",
       "      <td>0.790349</td>\n",
       "      <td>0.521970</td>\n",
       "      <td>9.217904</td>\n",
       "      <td>1.123802</td>\n",
       "      <td>1.197186</td>\n",
       "      <td>1.196868</td>\n",
       "      <td>1.169139</td>\n",
       "      <td>...</td>\n",
       "      <td>64332.856134</td>\n",
       "      <td>60797.155770</td>\n",
       "      <td>59554.107537</td>\n",
       "      <td>16563.280354</td>\n",
       "      <td>2.304087e+04</td>\n",
       "      <td>17606.96147</td>\n",
       "      <td>15666.159744</td>\n",
       "      <td>15278.305679</td>\n",
       "      <td>17777.465775</td>\n",
       "      <td>0.415062</td>\n",
       "    </tr>\n",
       "    <tr>\n",
       "      <th>min</th>\n",
       "      <td>1.000000</td>\n",
       "      <td>10000.000000</td>\n",
       "      <td>1.000000</td>\n",
       "      <td>0.000000</td>\n",
       "      <td>0.000000</td>\n",
       "      <td>21.000000</td>\n",
       "      <td>-2.000000</td>\n",
       "      <td>-2.000000</td>\n",
       "      <td>-2.000000</td>\n",
       "      <td>-2.000000</td>\n",
       "      <td>...</td>\n",
       "      <td>-170000.000000</td>\n",
       "      <td>-81334.000000</td>\n",
       "      <td>-339603.000000</td>\n",
       "      <td>0.000000</td>\n",
       "      <td>0.000000e+00</td>\n",
       "      <td>0.00000</td>\n",
       "      <td>0.000000</td>\n",
       "      <td>0.000000</td>\n",
       "      <td>0.000000</td>\n",
       "      <td>0.000000</td>\n",
       "    </tr>\n",
       "    <tr>\n",
       "      <th>25%</th>\n",
       "      <td>7500.750000</td>\n",
       "      <td>50000.000000</td>\n",
       "      <td>1.000000</td>\n",
       "      <td>1.000000</td>\n",
       "      <td>1.000000</td>\n",
       "      <td>28.000000</td>\n",
       "      <td>-1.000000</td>\n",
       "      <td>-1.000000</td>\n",
       "      <td>-1.000000</td>\n",
       "      <td>-1.000000</td>\n",
       "      <td>...</td>\n",
       "      <td>2326.750000</td>\n",
       "      <td>1763.000000</td>\n",
       "      <td>1256.000000</td>\n",
       "      <td>1000.000000</td>\n",
       "      <td>8.330000e+02</td>\n",
       "      <td>390.00000</td>\n",
       "      <td>296.000000</td>\n",
       "      <td>252.500000</td>\n",
       "      <td>117.750000</td>\n",
       "      <td>0.000000</td>\n",
       "    </tr>\n",
       "    <tr>\n",
       "      <th>50%</th>\n",
       "      <td>15000.500000</td>\n",
       "      <td>140000.000000</td>\n",
       "      <td>2.000000</td>\n",
       "      <td>2.000000</td>\n",
       "      <td>2.000000</td>\n",
       "      <td>34.000000</td>\n",
       "      <td>0.000000</td>\n",
       "      <td>0.000000</td>\n",
       "      <td>0.000000</td>\n",
       "      <td>0.000000</td>\n",
       "      <td>...</td>\n",
       "      <td>19052.000000</td>\n",
       "      <td>18104.500000</td>\n",
       "      <td>17071.000000</td>\n",
       "      <td>2100.000000</td>\n",
       "      <td>2.009000e+03</td>\n",
       "      <td>1800.00000</td>\n",
       "      <td>1500.000000</td>\n",
       "      <td>1500.000000</td>\n",
       "      <td>1500.000000</td>\n",
       "      <td>0.000000</td>\n",
       "    </tr>\n",
       "    <tr>\n",
       "      <th>75%</th>\n",
       "      <td>22500.250000</td>\n",
       "      <td>240000.000000</td>\n",
       "      <td>2.000000</td>\n",
       "      <td>2.000000</td>\n",
       "      <td>2.000000</td>\n",
       "      <td>41.000000</td>\n",
       "      <td>0.000000</td>\n",
       "      <td>0.000000</td>\n",
       "      <td>0.000000</td>\n",
       "      <td>0.000000</td>\n",
       "      <td>...</td>\n",
       "      <td>54506.000000</td>\n",
       "      <td>50190.500000</td>\n",
       "      <td>49198.250000</td>\n",
       "      <td>5006.000000</td>\n",
       "      <td>5.000000e+03</td>\n",
       "      <td>4505.00000</td>\n",
       "      <td>4013.250000</td>\n",
       "      <td>4031.500000</td>\n",
       "      <td>4000.000000</td>\n",
       "      <td>0.000000</td>\n",
       "    </tr>\n",
       "    <tr>\n",
       "      <th>max</th>\n",
       "      <td>30000.000000</td>\n",
       "      <td>1000000.000000</td>\n",
       "      <td>2.000000</td>\n",
       "      <td>6.000000</td>\n",
       "      <td>3.000000</td>\n",
       "      <td>79.000000</td>\n",
       "      <td>8.000000</td>\n",
       "      <td>8.000000</td>\n",
       "      <td>8.000000</td>\n",
       "      <td>8.000000</td>\n",
       "      <td>...</td>\n",
       "      <td>891586.000000</td>\n",
       "      <td>927171.000000</td>\n",
       "      <td>961664.000000</td>\n",
       "      <td>873552.000000</td>\n",
       "      <td>1.684259e+06</td>\n",
       "      <td>896040.00000</td>\n",
       "      <td>621000.000000</td>\n",
       "      <td>426529.000000</td>\n",
       "      <td>528666.000000</td>\n",
       "      <td>1.000000</td>\n",
       "    </tr>\n",
       "  </tbody>\n",
       "</table>\n",
       "<p>8 rows × 25 columns</p>\n",
       "</div>"
      ],
      "text/plain": [
       "                 ID       LIMIT_BAL           SEX     EDUCATION      MARRIAGE  \\\n",
       "count  30000.000000    30000.000000  30000.000000  30000.000000  30000.000000   \n",
       "mean   15000.500000   167484.322667      1.603733      1.853133      1.551867   \n",
       "std     8660.398374   129747.661567      0.489129      0.790349      0.521970   \n",
       "min        1.000000    10000.000000      1.000000      0.000000      0.000000   \n",
       "25%     7500.750000    50000.000000      1.000000      1.000000      1.000000   \n",
       "50%    15000.500000   140000.000000      2.000000      2.000000      2.000000   \n",
       "75%    22500.250000   240000.000000      2.000000      2.000000      2.000000   \n",
       "max    30000.000000  1000000.000000      2.000000      6.000000      3.000000   \n",
       "\n",
       "                AGE         PAY_0         PAY_2         PAY_3         PAY_4  \\\n",
       "count  30000.000000  30000.000000  30000.000000  30000.000000  30000.000000   \n",
       "mean      35.485500     -0.016700     -0.133767     -0.166200     -0.220667   \n",
       "std        9.217904      1.123802      1.197186      1.196868      1.169139   \n",
       "min       21.000000     -2.000000     -2.000000     -2.000000     -2.000000   \n",
       "25%       28.000000     -1.000000     -1.000000     -1.000000     -1.000000   \n",
       "50%       34.000000      0.000000      0.000000      0.000000      0.000000   \n",
       "75%       41.000000      0.000000      0.000000      0.000000      0.000000   \n",
       "max       79.000000      8.000000      8.000000      8.000000      8.000000   \n",
       "\n",
       "                  ...                  BILL_AMT4      BILL_AMT5  \\\n",
       "count             ...               30000.000000   30000.000000   \n",
       "mean              ...               43262.948967   40311.400967   \n",
       "std               ...               64332.856134   60797.155770   \n",
       "min               ...             -170000.000000  -81334.000000   \n",
       "25%               ...                2326.750000    1763.000000   \n",
       "50%               ...               19052.000000   18104.500000   \n",
       "75%               ...               54506.000000   50190.500000   \n",
       "max               ...              891586.000000  927171.000000   \n",
       "\n",
       "           BILL_AMT6       PAY_AMT1      PAY_AMT2      PAY_AMT3  \\\n",
       "count   30000.000000   30000.000000  3.000000e+04   30000.00000   \n",
       "mean    38871.760400    5663.580500  5.921163e+03    5225.68150   \n",
       "std     59554.107537   16563.280354  2.304087e+04   17606.96147   \n",
       "min   -339603.000000       0.000000  0.000000e+00       0.00000   \n",
       "25%      1256.000000    1000.000000  8.330000e+02     390.00000   \n",
       "50%     17071.000000    2100.000000  2.009000e+03    1800.00000   \n",
       "75%     49198.250000    5006.000000  5.000000e+03    4505.00000   \n",
       "max    961664.000000  873552.000000  1.684259e+06  896040.00000   \n",
       "\n",
       "            PAY_AMT4       PAY_AMT5       PAY_AMT6  default payment next month  \n",
       "count   30000.000000   30000.000000   30000.000000                30000.000000  \n",
       "mean     4826.076867    4799.387633    5215.502567                    0.221200  \n",
       "std     15666.159744   15278.305679   17777.465775                    0.415062  \n",
       "min         0.000000       0.000000       0.000000                    0.000000  \n",
       "25%       296.000000     252.500000     117.750000                    0.000000  \n",
       "50%      1500.000000    1500.000000    1500.000000                    0.000000  \n",
       "75%      4013.250000    4031.500000    4000.000000                    0.000000  \n",
       "max    621000.000000  426529.000000  528666.000000                    1.000000  \n",
       "\n",
       "[8 rows x 25 columns]"
      ]
     },
     "execution_count": 6,
     "metadata": {},
     "output_type": "execute_result"
    }
   ],
   "source": [
    "credit_data.describe()"
   ]
  },
  {
   "cell_type": "code",
   "execution_count": 7,
   "metadata": {},
   "outputs": [
    {
     "name": "stdout",
     "output_type": "stream",
     "text": [
      "ID                            30000\n",
      "LIMIT_BAL                        81\n",
      "SEX                               2\n",
      "EDUCATION                         7\n",
      "MARRIAGE                          4\n",
      "AGE                              56\n",
      "PAY_0                            11\n",
      "PAY_2                            11\n",
      "PAY_3                            11\n",
      "PAY_4                            11\n",
      "PAY_5                            10\n",
      "PAY_6                            10\n",
      "BILL_AMT1                     22723\n",
      "BILL_AMT2                     22346\n",
      "BILL_AMT3                     22026\n",
      "BILL_AMT4                     21548\n",
      "BILL_AMT5                     21010\n",
      "BILL_AMT6                     20604\n",
      "PAY_AMT1                       7943\n",
      "PAY_AMT2                       7899\n",
      "PAY_AMT3                       7518\n",
      "PAY_AMT4                       6937\n",
      "PAY_AMT5                       6897\n",
      "PAY_AMT6                       6939\n",
      "default payment next month        2\n",
      "dtype: int64\n"
     ]
    }
   ],
   "source": [
    "# Find the number of unique elements in each column\n",
    "print (credit_data.apply(lambda x: x.nunique()))"
   ]
  },
  {
   "cell_type": "code",
   "execution_count": 8,
   "metadata": {},
   "outputs": [],
   "source": [
    "# Rename the columns\n",
    "columns = [\"id\", \"overall_credit\", \"gender\", \"education\", \"marital_status\",\n",
    "           \"age\", \"rps_sept\", \"rps_aug\", \"rps_july\",\"rps_june\",\"rps_may\",\n",
    "           \"rps_april\", \"ba_sept\", \"ba_aug\", \"ba_july\", \"ba_june\", \"ba_april\",\n",
    "           \"ba_may\", \"pp_sept\", \"pp_aug\", \"pp_july\", \"pp_june\", \"pp_may\", \n",
    "           \"pp_april\", \"defaultp_next_month\"]"
   ]
  },
  {
   "cell_type": "code",
   "execution_count": 9,
   "metadata": {},
   "outputs": [],
   "source": [
    "credit_data.columns = columns"
   ]
  },
  {
   "cell_type": "code",
   "execution_count": 10,
   "metadata": {},
   "outputs": [],
   "source": [
    "# Renaming the value for ease of understanding and assigning unknown values 5, 6 to others\n",
    "credit_data['education'] = credit_data['education'].map({0: 'others',\n",
    "                                                         5: 'others',\n",
    "                                                         6: 'others',\n",
    "                                                         4: 'others',\n",
    "                                                         1: 'graduate_school',\n",
    "                                                         2: 'university',\n",
    "                                                         3: 'high_school'})"
   ]
  },
  {
   "cell_type": "code",
   "execution_count": 11,
   "metadata": {},
   "outputs": [],
   "source": [
    "# Dropping the id column\n",
    "credit_data.drop('id', axis=1, inplace=True)"
   ]
  },
  {
   "cell_type": "code",
   "execution_count": 12,
   "metadata": {},
   "outputs": [
    {
     "data": {
      "text/html": [
       "<div>\n",
       "<style scoped>\n",
       "    .dataframe tbody tr th:only-of-type {\n",
       "        vertical-align: middle;\n",
       "    }\n",
       "\n",
       "    .dataframe tbody tr th {\n",
       "        vertical-align: top;\n",
       "    }\n",
       "\n",
       "    .dataframe thead th {\n",
       "        text-align: right;\n",
       "    }\n",
       "</style>\n",
       "<table border=\"1\" class=\"dataframe\">\n",
       "  <thead>\n",
       "    <tr style=\"text-align: right;\">\n",
       "      <th></th>\n",
       "      <th>overall_credit</th>\n",
       "      <th>gender</th>\n",
       "      <th>education</th>\n",
       "      <th>marital_status</th>\n",
       "      <th>age</th>\n",
       "      <th>rps_sept</th>\n",
       "      <th>rps_aug</th>\n",
       "      <th>rps_july</th>\n",
       "      <th>rps_june</th>\n",
       "      <th>rps_may</th>\n",
       "      <th>...</th>\n",
       "      <th>ba_june</th>\n",
       "      <th>ba_april</th>\n",
       "      <th>ba_may</th>\n",
       "      <th>pp_sept</th>\n",
       "      <th>pp_aug</th>\n",
       "      <th>pp_july</th>\n",
       "      <th>pp_june</th>\n",
       "      <th>pp_may</th>\n",
       "      <th>pp_april</th>\n",
       "      <th>defaultp_next_month</th>\n",
       "    </tr>\n",
       "  </thead>\n",
       "  <tbody>\n",
       "    <tr>\n",
       "      <th>0</th>\n",
       "      <td>20000</td>\n",
       "      <td>2</td>\n",
       "      <td>university</td>\n",
       "      <td>1</td>\n",
       "      <td>24</td>\n",
       "      <td>2</td>\n",
       "      <td>2</td>\n",
       "      <td>-1</td>\n",
       "      <td>-1</td>\n",
       "      <td>-2</td>\n",
       "      <td>...</td>\n",
       "      <td>0</td>\n",
       "      <td>0</td>\n",
       "      <td>0</td>\n",
       "      <td>0</td>\n",
       "      <td>689</td>\n",
       "      <td>0</td>\n",
       "      <td>0</td>\n",
       "      <td>0</td>\n",
       "      <td>0</td>\n",
       "      <td>1</td>\n",
       "    </tr>\n",
       "    <tr>\n",
       "      <th>1</th>\n",
       "      <td>120000</td>\n",
       "      <td>2</td>\n",
       "      <td>university</td>\n",
       "      <td>2</td>\n",
       "      <td>26</td>\n",
       "      <td>-1</td>\n",
       "      <td>2</td>\n",
       "      <td>0</td>\n",
       "      <td>0</td>\n",
       "      <td>0</td>\n",
       "      <td>...</td>\n",
       "      <td>3272</td>\n",
       "      <td>3455</td>\n",
       "      <td>3261</td>\n",
       "      <td>0</td>\n",
       "      <td>1000</td>\n",
       "      <td>1000</td>\n",
       "      <td>1000</td>\n",
       "      <td>0</td>\n",
       "      <td>2000</td>\n",
       "      <td>1</td>\n",
       "    </tr>\n",
       "    <tr>\n",
       "      <th>2</th>\n",
       "      <td>90000</td>\n",
       "      <td>2</td>\n",
       "      <td>university</td>\n",
       "      <td>2</td>\n",
       "      <td>34</td>\n",
       "      <td>0</td>\n",
       "      <td>0</td>\n",
       "      <td>0</td>\n",
       "      <td>0</td>\n",
       "      <td>0</td>\n",
       "      <td>...</td>\n",
       "      <td>14331</td>\n",
       "      <td>14948</td>\n",
       "      <td>15549</td>\n",
       "      <td>1518</td>\n",
       "      <td>1500</td>\n",
       "      <td>1000</td>\n",
       "      <td>1000</td>\n",
       "      <td>1000</td>\n",
       "      <td>5000</td>\n",
       "      <td>0</td>\n",
       "    </tr>\n",
       "    <tr>\n",
       "      <th>3</th>\n",
       "      <td>50000</td>\n",
       "      <td>2</td>\n",
       "      <td>university</td>\n",
       "      <td>1</td>\n",
       "      <td>37</td>\n",
       "      <td>0</td>\n",
       "      <td>0</td>\n",
       "      <td>0</td>\n",
       "      <td>0</td>\n",
       "      <td>0</td>\n",
       "      <td>...</td>\n",
       "      <td>28314</td>\n",
       "      <td>28959</td>\n",
       "      <td>29547</td>\n",
       "      <td>2000</td>\n",
       "      <td>2019</td>\n",
       "      <td>1200</td>\n",
       "      <td>1100</td>\n",
       "      <td>1069</td>\n",
       "      <td>1000</td>\n",
       "      <td>0</td>\n",
       "    </tr>\n",
       "    <tr>\n",
       "      <th>4</th>\n",
       "      <td>50000</td>\n",
       "      <td>1</td>\n",
       "      <td>university</td>\n",
       "      <td>1</td>\n",
       "      <td>57</td>\n",
       "      <td>-1</td>\n",
       "      <td>0</td>\n",
       "      <td>-1</td>\n",
       "      <td>0</td>\n",
       "      <td>0</td>\n",
       "      <td>...</td>\n",
       "      <td>20940</td>\n",
       "      <td>19146</td>\n",
       "      <td>19131</td>\n",
       "      <td>2000</td>\n",
       "      <td>36681</td>\n",
       "      <td>10000</td>\n",
       "      <td>9000</td>\n",
       "      <td>689</td>\n",
       "      <td>679</td>\n",
       "      <td>0</td>\n",
       "    </tr>\n",
       "  </tbody>\n",
       "</table>\n",
       "<p>5 rows × 24 columns</p>\n",
       "</div>"
      ],
      "text/plain": [
       "   overall_credit  gender   education  marital_status  age  rps_sept  rps_aug  \\\n",
       "0           20000       2  university               1   24         2        2   \n",
       "1          120000       2  university               2   26        -1        2   \n",
       "2           90000       2  university               2   34         0        0   \n",
       "3           50000       2  university               1   37         0        0   \n",
       "4           50000       1  university               1   57        -1        0   \n",
       "\n",
       "   rps_july  rps_june  rps_may         ...           ba_june  ba_april  \\\n",
       "0        -1        -1       -2         ...                 0         0   \n",
       "1         0         0        0         ...              3272      3455   \n",
       "2         0         0        0         ...             14331     14948   \n",
       "3         0         0        0         ...             28314     28959   \n",
       "4        -1         0        0         ...             20940     19146   \n",
       "\n",
       "   ba_may  pp_sept  pp_aug  pp_july  pp_june  pp_may  pp_april  \\\n",
       "0       0        0     689        0        0       0         0   \n",
       "1    3261        0    1000     1000     1000       0      2000   \n",
       "2   15549     1518    1500     1000     1000    1000      5000   \n",
       "3   29547     2000    2019     1200     1100    1069      1000   \n",
       "4   19131     2000   36681    10000     9000     689       679   \n",
       "\n",
       "   defaultp_next_month  \n",
       "0                    1  \n",
       "1                    1  \n",
       "2                    0  \n",
       "3                    0  \n",
       "4                    0  \n",
       "\n",
       "[5 rows x 24 columns]"
      ]
     },
     "execution_count": 12,
     "metadata": {},
     "output_type": "execute_result"
    }
   ],
   "source": [
    "credit_data.head()"
   ]
  },
  {
   "cell_type": "code",
   "execution_count": 13,
   "metadata": {},
   "outputs": [],
   "source": [
    "eda_credit_data = credit_data"
   ]
  },
  {
   "cell_type": "code",
   "execution_count": 14,
   "metadata": {},
   "outputs": [],
   "source": [
    "# There is no description for 0 so treating it hass other marital status\n",
    "eda_credit_data['marital_status'] = eda_credit_data['marital_status'].map({1: 'married',\n",
    "                                                                           2: 'single',\n",
    "                                                                           3: 'others',\n",
    "                                                                           0: 'others'})"
   ]
  },
  {
   "cell_type": "code",
   "execution_count": 15,
   "metadata": {},
   "outputs": [],
   "source": [
    "# Transforming data to get more sense\n",
    "eda_credit_data['gender'] = eda_credit_data['gender'].map({1: 'male',\n",
    "                                                           2: 'female'})"
   ]
  },
  {
   "cell_type": "markdown",
   "metadata": {},
   "source": [
    "### Data Visualization"
   ]
  },
  {
   "cell_type": "code",
   "execution_count": 16,
   "metadata": {},
   "outputs": [
    {
     "data": {
      "text/plain": [
       "Text(0.5,1,'Correlation Heatmap')"
      ]
     },
     "execution_count": 16,
     "metadata": {},
     "output_type": "execute_result"
    },
    {
     "data": {
      "image/png": "[encoded data removed]",
      "text/plain": [
       "<Figure size 432x288 with 2 Axes>"
      ]
     },
     "metadata": {},
     "output_type": "display_data"
    }
   ],
   "source": [
    "# Heatmap of correlation\n",
    "corr = credit_data.corr()\n",
    "sns.heatmap(corr, xticklabels=corr.columns, yticklabels=corr.columns)\n",
    "plt.title( \"Correlation Heatmap\", fontsize = 10 )"
   ]
  },
  {
   "cell_type": "markdown",
   "metadata": {},
   "source": [
    "##### From this corelation heatmap we can see that none of our feature variable are highly corelated to class variable(default payment in next month). We also observe that Repayment status for different months are highly corelated and bill amount for different months are highly corelated"
   ]
  },
  {
   "cell_type": "code",
   "execution_count": 17,
   "metadata": {},
   "outputs": [
    {
     "data": {
      "image/png": "[encoded data removed]",
      "text/plain": [
       "<Figure size 432x288 with 1 Axes>"
      ]
     },
     "metadata": {},
     "output_type": "display_data"
    }
   ],
   "source": [
    "sns.distplot(a = eda_credit_data[\"age\"][eda_credit_data[\"defaultp_next_month\"] == 1],\n",
    "             kde = False, norm_hist = False, label = \"default\", bins = 80)\n",
    "sns.distplot(a = eda_credit_data[\"age\"][eda_credit_data[\"defaultp_next_month\"] == 0],\n",
    "             kde = False, norm_hist = False, label = \"not default\", bins = 80)\n",
    "plt.title(\"Distribution of people's age who are at default\")\n",
    "plt.xlabel('Age')\n",
    "plt.ylabel('Number of Observations')\n",
    "plt.title(\"Comparision of age with default payment\")\n",
    "plt.legend()\n",
    "plt.show()"
   ]
  },
  {
   "cell_type": "markdown",
   "metadata": {},
   "source": [
    "##### The age distribution of our dataset is right skewed.Most of the people in the dataset are between 25 - 40 year group. The ratio of defaulters and non defaulters for age group looks constant across all the ages "
   ]
  },
  {
   "cell_type": "code",
   "execution_count": 18,
   "metadata": {},
   "outputs": [
    {
     "data": {
      "text/plain": [
       "[Text(0,0.5,'Default payment next month'), Text(0.5,0,'Education')]"
      ]
     },
     "execution_count": 18,
     "metadata": {},
     "output_type": "execute_result"
    },
    {
     "data": {
      "image/png": "[encoded data removed]",
      "text/plain": [
       "<Figure size 432x288 with 1 Axes>"
      ]
     },
     "metadata": {},
     "output_type": "display_data"
    }
   ],
   "source": [
    "ax = sns.countplot(x = \"education\",\n",
    "                   hue = \"defaultp_next_month\",\n",
    "                   data = eda_credit_data)\n",
    "plt.title(\"Default on next month payment vs Education\")\n",
    "ax.set(xlabel='Education', ylabel='Default payment next month')\n"
   ]
  },
  {
   "cell_type": "markdown",
   "metadata": {},
   "source": [
    "##### From this graph we see that education level doesn't help us is determining defaulters. "
   ]
  },
  {
   "cell_type": "code",
   "execution_count": 19,
   "metadata": {},
   "outputs": [
    {
     "data": {
      "text/plain": [
       "[Text(0,0.5,'Default payment next month'), Text(0.5,0,'Gender')]"
      ]
     },
     "execution_count": 19,
     "metadata": {},
     "output_type": "execute_result"
    },
    {
     "data": {
      "image/png": "[encoded data removed]",
      "text/plain": [
       "<Figure size 432x288 with 1 Axes>"
      ]
     },
     "metadata": {},
     "output_type": "display_data"
    }
   ],
   "source": [
    "ax = sns.countplot(x = \"gender\",\n",
    "                   hue = \"defaultp_next_month\", data = eda_credit_data)\n",
    "plt.title(\"Default on next month payment vs Gender\")\n",
    "ax.set(xlabel='Gender', ylabel='Default payment next month')\n"
   ]
  },
  {
   "cell_type": "markdown",
   "metadata": {},
   "source": [
    "##### The number of females in out dataset is higher than male but the ratio of defaulters across gender also looks constant"
   ]
  },
  {
   "cell_type": "code",
   "execution_count": 20,
   "metadata": {},
   "outputs": [
    {
     "data": {
      "text/plain": [
       "[Text(0,0.5,'Default payment next month'), Text(0.5,0,'Education')]"
      ]
     },
     "execution_count": 20,
     "metadata": {},
     "output_type": "execute_result"
    },
    {
     "data": {
      "image/png": "[encoded data removed]",
      "text/plain": [
       "<Figure size 432x288 with 1 Axes>"
      ]
     },
     "metadata": {},
     "output_type": "display_data"
    }
   ],
   "source": [
    "ax = sns.countplot(x = \"marital_status\",\n",
    "                   hue = \"defaultp_next_month\", data = eda_credit_data)\n",
    "plt.title(\"Default on next month payment vs Marital Status\")\n",
    "ax.set(xlabel='Education', ylabel='Default payment next month')\n"
   ]
  },
  {
   "cell_type": "markdown",
   "metadata": {},
   "source": [
    "##### From this graph we can see that married people have defaulted more then single people. "
   ]
  },
  {
   "cell_type": "code",
   "execution_count": 21,
   "metadata": {},
   "outputs": [],
   "source": [
    "# g = sns.FacetGrid(data = eda_credit_data, row = 'defaultp_next_month', sharex = False, sharey = False, aspect = 2.5)\n",
    "# g.map_dataframe(countplot, 'education', hue = 'gender')\n",
    "# g.add_legend()"
   ]
  },
  {
   "cell_type": "code",
   "execution_count": 22,
   "metadata": {
    "scrolled": false
   },
   "outputs": [
    {
     "data": {
      "image/png": "[encoded data removed]",
      "text/plain": [
       "<Figure size 830.625x360 with 2 Axes>"
      ]
     },
     "metadata": {},
     "output_type": "display_data"
    }
   ],
   "source": [
    "ax = sns.catplot(x = \"gender\", hue = \"education\", \n",
    "            col = \"defaultp_next_month\",\n",
    "            data = eda_credit_data, kind = \"count\")"
   ]
  },
  {
   "cell_type": "code",
   "execution_count": 23,
   "metadata": {
    "scrolled": false
   },
   "outputs": [
    {
     "data": {
      "image/png": "[encoded data removed]",
      "text/plain": [
       "<Figure size 822.125x360 with 1 Axes>"
      ]
     },
     "metadata": {},
     "output_type": "display_data"
    },
    {
     "data": {
      "image/png": "[encoded data removed]",
      "text/plain": [
       "<Figure size 822.125x360 with 1 Axes>"
      ]
     },
     "metadata": {},
     "output_type": "display_data"
    },
    {
     "data": {
      "image/png": "[encoded data removed]",
      "text/plain": [
       "<Figure size 822.125x360 with 1 Axes>"
      ]
     },
     "metadata": {},
     "output_type": "display_data"
    },
    {
     "data": {
      "image/png": "[encoded data removed]",
      "text/plain": [
       "<Figure size 822.125x360 with 1 Axes>"
      ]
     },
     "metadata": {},
     "output_type": "display_data"
    },
    {
     "data": {
      "image/png": "[encoded data removed]",
      "text/plain": [
       "<Figure size 822.125x360 with 1 Axes>"
      ]
     },
     "metadata": {},
     "output_type": "display_data"
    },
    {
     "data": {
      "image/png": "[encoded data removed]",
      "text/plain": [
       "<Figure size 822.125x360 with 1 Axes>"
      ]
     },
     "metadata": {},
     "output_type": "display_data"
    }
   ],
   "source": [
    "for column in credit_data.columns[5:11]:\n",
    "    ax = sns.catplot(x = column, hue = \"defaultp_next_month\",\n",
    "                data = eda_credit_data, kind = \"count\",\n",
    "                 aspect = 2, height = 5)\n",
    "    plt.title(\"Repayment statues in \" + column)"
   ]
  },
  {
   "cell_type": "markdown",
   "metadata": {},
   "source": [
    "##### From this repayment status we can observe that people who have delayed their payment for 2 months have in general higher probability of defaulting then no defaulting. We also find that for the month of may and april there are no datapoints where the repayment status is delayed for a month. Also, for month june july and august there are unusually less data points for 1 month delay in repaying the bill"
   ]
  },
  {
   "cell_type": "code",
   "execution_count": 24,
   "metadata": {
    "scrolled": false
   },
   "outputs": [
    {
     "data": {
      "image/png": "[encoded data removed]",
      "text/plain": [
       "<Figure size 432x288 with 1 Axes>"
      ]
     },
     "metadata": {},
     "output_type": "display_data"
    },
    {
     "data": {
      "image/png": "[encoded data removed]",
      "text/plain": [
       "<Figure size 432x288 with 1 Axes>"
      ]
     },
     "metadata": {},
     "output_type": "display_data"
    },
    {
     "data": {
      "image/png": "[encoded data removed]",
      "text/plain": [
       "<Figure size 432x288 with 1 Axes>"
      ]
     },
     "metadata": {},
     "output_type": "display_data"
    },
    {
     "data": {
      "image/png": "[encoded data removed]",
      "text/plain": [
       "<Figure size 432x288 with 1 Axes>"
      ]
     },
     "metadata": {},
     "output_type": "display_data"
    },
    {
     "data": {
      "image/png": "[encoded data removed]",
      "text/plain": [
       "<Figure size 432x288 with 1 Axes>"
      ]
     },
     "metadata": {},
     "output_type": "display_data"
    },
    {
     "data": {
      "image/png": "[encoded data removed]",
      "text/plain": [
       "<Figure size 432x288 with 1 Axes>"
      ]
     },
     "metadata": {},
     "output_type": "display_data"
    }
   ],
   "source": [
    "for column in credit_data.columns[11:17]:\n",
    "    sns.distplot(a = eda_credit_data[column][eda_credit_data[\"defaultp_next_month\"] == 1],\n",
    "                 kde = False, norm_hist = False, label = \"default\")\n",
    "    sns.distplot(a = eda_credit_data[column][eda_credit_data[\"defaultp_next_month\"] == 0],\n",
    "                 kde = False, norm_hist = False, label = \"non default\")\n",
    "    plt.xlabel(column)\n",
    "    plt.ylabel('Number of Observations')\n",
    "    plt.title(\"Comparision of default payment and \" + column)\n",
    "    plt.legend()\n",
    "    plt.show()\n"
   ]
  },
  {
   "cell_type": "markdown",
   "metadata": {},
   "source": [
    "##### Bill amount and defaulters look constant across all the months. Although we find out some anomolies in bill amount. (Bill amount is negative)"
   ]
  },
  {
   "cell_type": "code",
   "execution_count": 25,
   "metadata": {
    "scrolled": false
   },
   "outputs": [
    {
     "data": {
      "image/png": "[encoded data removed]",
      "text/plain": [
       "<Figure size 432x288 with 1 Axes>"
      ]
     },
     "metadata": {},
     "output_type": "display_data"
    },
    {
     "data": {
      "image/png": "[encoded data removed]",
      "text/plain": [
       "<Figure size 432x288 with 1 Axes>"
      ]
     },
     "metadata": {},
     "output_type": "display_data"
    },
    {
     "data": {
      "image/png": "[encoded data removed]",
      "text/plain": [
       "<Figure size 432x288 with 1 Axes>"
      ]
     },
     "metadata": {},
     "output_type": "display_data"
    },
    {
     "data": {
      "image/png": "[encoded data removed]",
      "text/plain": [
       "<Figure size 432x288 with 1 Axes>"
      ]
     },
     "metadata": {},
     "output_type": "display_data"
    },
    {
     "data": {
      "image/png": "[encoded data removed]",
      "text/plain": [
       "<Figure size 432x288 with 1 Axes>"
      ]
     },
     "metadata": {},
     "output_type": "display_data"
    },
    {
     "data": {
      "image/png": "[encoded data removed]",
      "text/plain": [
       "<Figure size 432x288 with 1 Axes>"
      ]
     },
     "metadata": {},
     "output_type": "display_data"
    }
   ],
   "source": [
    "for column in credit_data.columns[17:23]:\n",
    "    sns.distplot(a = eda_credit_data.loc[eda_credit_data['defaultp_next_month'] == 1, column],\n",
    "                 kde = False, norm_hist = False, label = \"Default\")\n",
    "    sns.distplot(a = eda_credit_data.loc[eda_credit_data['defaultp_next_month'] == 0, column],\n",
    "                 kde = False, norm_hist = False, label = \"Non Default\")     \n",
    "    plt.xlabel(column)\n",
    "    plt.ylabel('Number of Observations')\n",
    "    plt.title(\"Comparision of default payment and \" + column)\n",
    "    plt.legend()\n",
    "    plt.show()"
   ]
  },
  {
   "cell_type": "markdown",
   "metadata": {},
   "source": [
    "##### Paid amount and defaulters look constant across all the months. Although the bill amount and paid amount for different months does'nt have a matching trend. There are more number of people who recieved high credit card bill (> 100k) but the number of people who paid amount high amount bill (> 100k) is less."
   ]
  },
  {
   "cell_type": "code",
   "execution_count": 26,
   "metadata": {},
   "outputs": [
    {
     "data": {
      "image/png": "[encoded data removed]",
      "text/plain": [
       "<Figure size 432x288 with 1 Axes>"
      ]
     },
     "metadata": {},
     "output_type": "display_data"
    }
   ],
   "source": [
    "sns.distplot(a = eda_credit_data[\"ba_april\"],\n",
    "            kde = False, norm_hist = False, label = \"Bill Amount in april\")\n",
    "sns.distplot(a = eda_credit_data[\"pp_may\"],\n",
    "             kde = False, norm_hist = False, label = \"Paid amount in may\")\n",
    "plt.legend()\n",
    "plt.show()"
   ]
  },
  {
   "cell_type": "markdown",
   "metadata": {},
   "source": [
    "##### This graph confirms are above observation"
   ]
  },
  {
   "cell_type": "code",
   "execution_count": 27,
   "metadata": {},
   "outputs": [
    {
     "data": {
      "text/plain": [
       "<seaborn.axisgrid.FacetGrid at 0x12b1cffe7b8>"
      ]
     },
     "execution_count": 27,
     "metadata": {},
     "output_type": "execute_result"
    },
    {
     "data": {
      "image/png": "[encoded data removed]",
      "text/plain": [
       "<Figure size 489.6x244.8 with 2 Axes>"
      ]
     },
     "metadata": {},
     "output_type": "display_data"
    }
   ],
   "source": [
    "g = sns.FacetGrid(eda_credit_data, row=\"defaultp_next_month\",\n",
    "                  height=1.7, aspect=4,)\n",
    "g.map(sns.distplot, \"ba_april\", kde = False, norm_hist = False)"
   ]
  },
  {
   "cell_type": "code",
   "execution_count": 28,
   "metadata": {
    "scrolled": false
   },
   "outputs": [
    {
     "data": {
      "text/plain": [
       "<seaborn.axisgrid.FacetGrid at 0x12b1d05d198>"
      ]
     },
     "execution_count": 28,
     "metadata": {},
     "output_type": "execute_result"
    },
    {
     "data": {
      "image/png": "[encoded data removed]",
      "text/plain": [
       "<Figure size 489.6x244.8 with 2 Axes>"
      ]
     },
     "metadata": {},
     "output_type": "display_data"
    }
   ],
   "source": [
    "g = sns.FacetGrid(eda_credit_data, row=\"defaultp_next_month\",\n",
    "                  height=1.7, aspect=4,)\n",
    "g.map(sns.distplot, \"pp_may\", kde = False, norm_hist = False)"
   ]
  },
  {
   "cell_type": "markdown",
   "metadata": {},
   "source": [
    "### Anamoly detection"
   ]
  },
  {
   "cell_type": "code",
   "execution_count": 29,
   "metadata": {},
   "outputs": [],
   "source": [
    "all_rps_delayed = eda_credit_data.loc[(eda_credit_data['rps_sept'] > 0) & (eda_credit_data['rps_aug'] > 0) &\n",
    "                    (eda_credit_data['rps_july'] > 0) & (eda_credit_data['rps_june'] > 0) &\n",
    "                    (eda_credit_data['rps_april'] > 0) & (eda_credit_data['rps_may'] > 0)]"
   ]
  },
  {
   "cell_type": "code",
   "execution_count": 30,
   "metadata": {},
   "outputs": [],
   "source": [
    "any_rps_delayed = eda_credit_data.loc[(eda_credit_data['rps_sept'] > 0) | (eda_credit_data['rps_aug'] > 0) |\n",
    "                    (eda_credit_data['rps_july'] > 0) | (eda_credit_data['rps_june'] > 0) |\n",
    "                    (eda_credit_data['rps_april'] > 0) | (eda_credit_data['rps_may'] > 0)]"
   ]
  },
  {
   "cell_type": "code",
   "execution_count": 31,
   "metadata": {},
   "outputs": [
    {
     "data": {
      "text/plain": [
       "Text(0.5,1,'All delayed repayment status')"
      ]
     },
     "execution_count": 31,
     "metadata": {},
     "output_type": "execute_result"
    },
    {
     "data": {
      "image/png": "[encoded data removed]",
      "text/plain": [
       "<Figure size 432x288 with 1 Axes>"
      ]
     },
     "metadata": {},
     "output_type": "display_data"
    }
   ],
   "source": [
    "ax = sns.countplot(x = \"defaultp_next_month\", data = all_rps_delayed)\n",
    "ax.set(xlabel='Default payment next month', ylabel='Count')\n",
    "plt.title(\"All delayed repayment status\")"
   ]
  },
  {
   "cell_type": "markdown",
   "metadata": {},
   "source": [
    "##### The above graph plots the data where the users have delayed their payment status for every month. All those accounts should be defaulters but some 400 accounts are assigned not default. "
   ]
  },
  {
   "cell_type": "code",
   "execution_count": 32,
   "metadata": {},
   "outputs": [
    {
     "data": {
      "text/plain": [
       "Text(0.5,1,'One delayed payment status for account vs Default')"
      ]
     },
     "execution_count": 32,
     "metadata": {},
     "output_type": "execute_result"
    },
    {
     "data": {
      "image/png": "[encoded data removed]",
      "text/plain": [
       "<Figure size 432x288 with 1 Axes>"
      ]
     },
     "metadata": {},
     "output_type": "display_data"
    }
   ],
   "source": [
    "ax = sns.countplot(x = \"defaultp_next_month\", data = any_rps_delayed)\n",
    "ax.set(xlabel='Default payment next month', ylabel='Count')\n",
    "plt.title(\"One delayed payment status for account vs Default\")"
   ]
  },
  {
   "cell_type": "code",
   "execution_count": 33,
   "metadata": {},
   "outputs": [
    {
     "data": {
      "text/plain": [
       "42.72519614658854"
      ]
     },
     "execution_count": 33,
     "metadata": {},
     "output_type": "execute_result"
    }
   ],
   "source": [
    "any_rps_delayed[\"defaultp_next_month\"].value_counts()[1] / any_rps_delayed[\"defaultp_next_month\"].count() *  100"
   ]
  },
  {
   "cell_type": "markdown",
   "metadata": {},
   "source": [
    "##### The above graph plots the data where the users have delayed their payment status for any month. From this graph we can say that even if an account defaults in a month the probabilty that the bank assigns him defaulter is less (42%)"
   ]
  },
  {
   "cell_type": "code",
   "execution_count": 34,
   "metadata": {},
   "outputs": [
    {
     "data": {
      "text/plain": [
       "0         0\n",
       "1      3455\n",
       "2     13948\n",
       "3     27890\n",
       "4     18457\n",
       "5     18619\n",
       "6    469253\n",
       "7     -1846\n",
       "8     10793\n",
       "9     11885\n",
       "dtype: int64"
      ]
     },
     "execution_count": 34,
     "metadata": {},
     "output_type": "execute_result"
    }
   ],
   "source": [
    "balance_may = eda_credit_data[\"ba_april\"] - eda_credit_data[\"pp_may\"] \n",
    "balance_may.head(10)"
   ]
  },
  {
   "cell_type": "code",
   "execution_count": 35,
   "metadata": {},
   "outputs": [
    {
     "data": {
      "text/plain": [
       "0   -2\n",
       "1    0\n",
       "2    0\n",
       "3    0\n",
       "4    0\n",
       "5    0\n",
       "6    0\n",
       "7    0\n",
       "8    0\n",
       "9   -1\n",
       "Name: rps_may, dtype: int64"
      ]
     },
     "execution_count": 35,
     "metadata": {},
     "output_type": "execute_result"
    }
   ],
   "source": [
    "eda_credit_data[\"rps_may\"].head(10)"
   ]
  },
  {
   "cell_type": "markdown",
   "metadata": {},
   "source": [
    "##### From the above dataframe values we can see some anomolies. For index 7 the person has paid more money then bill amount but his repayment status does not reflect that (it should be -1, paid in full, instead of 0, use of revolving credit)"
   ]
  },
  {
   "cell_type": "code",
   "execution_count": 36,
   "metadata": {
    "scrolled": false
   },
   "outputs": [
    {
     "data": {
      "image/png": "[encoded data removed]",
      "text/plain": [
       "<Figure size 432x288 with 1 Axes>"
      ]
     },
     "metadata": {},
     "output_type": "display_data"
    },
    {
     "data": {
      "image/png": "[encoded data removed]",
      "text/plain": [
       "<Figure size 432x288 with 1 Axes>"
      ]
     },
     "metadata": {},
     "output_type": "display_data"
    },
    {
     "data": {
      "image/png": "[encoded data removed]",
      "text/plain": [
       "<Figure size 432x288 with 1 Axes>"
      ]
     },
     "metadata": {},
     "output_type": "display_data"
    },
    {
     "data": {
      "image/png": "[encoded data removed]",
      "text/plain": [
       "<Figure size 432x288 with 1 Axes>"
      ]
     },
     "metadata": {},
     "output_type": "display_data"
    },
    {
     "data": {
      "image/png": "[encoded data removed]",
      "text/plain": [
       "<Figure size 432x288 with 1 Axes>"
      ]
     },
     "metadata": {},
     "output_type": "display_data"
    },
    {
     "data": {
      "image/png": "[encoded data removed]",
      "text/plain": [
       "<Figure size 432x288 with 1 Axes>"
      ]
     },
     "metadata": {},
     "output_type": "display_data"
    }
   ],
   "source": [
    "overlimit_spending  = pd.DataFrame()\n",
    "for ba in credit_data.columns[11:17]:\n",
    "    val = ''\n",
    "    s_month = credit_data[\"overall_credit\"] - credit_data[ba]\n",
    "    anom_month = s_month < 0\n",
    "    val = ba + \"_anom\"\n",
    "    overlimit_spending[val] = anom_month\n",
    "months = [\"September\", \"August\", \"July\", \"June\", \"May\", \"April\"]\n",
    "for i, column in enumerate(overlimit_spending.columns):\n",
    "    ax = sns.countplot(x = column, data = overlimit_spending)\n",
    "    ax.set(xlabel='Value', ylabel='Count')\n",
    "    plt.title(\"Overlimit Spending in \" + months[i])\n",
    "    plt.show()"
   ]
  },
  {
   "cell_type": "markdown",
   "metadata": {},
   "source": [
    "##### From this graph we see  that there are some accounts who have spend more then their overall credit limit"
   ]
  },
  {
   "cell_type": "markdown",
   "metadata": {},
   "source": [
    "### Data Modelling"
   ]
  },
  {
   "cell_type": "code",
   "execution_count": 95,
   "metadata": {},
   "outputs": [],
   "source": [
    "from sklearn.preprocessing import OneHotEncoder, StandardScaler, MinMaxScaler\n",
    "from sklearn.feature_extraction import DictVectorizer\n",
    "from sklearn.model_selection import train_test_split\n",
    "from sklearn.model_selection import GridSearchCV\n",
    "from sklearn.metrics import classification_report\n",
    "from sklearn.metrics import accuracy_score, log_loss\n",
    "from sklearn.svm import SVC\n",
    "from sklearn import decomposition\n",
    "from sklearn.preprocessing import LabelEncoder\n",
    "from sklearn.cross_validation import StratifiedShuffleSplit\n",
    "from sklearn.metrics import accuracy_score, f1_score, precision_score, recall_score, classification_report, confusion_matrix\n",
    "from sklearn.neural_network import MLPClassifier\n",
    "from sklearn import linear_model\n",
    "from sklearn.ensemble import RandomForestClassifier\n",
    "import xgboost as xb\n",
    "from keras.models import Sequential\n",
    "from keras.layers.core import Dense, Activation, Dropout\n",
    "from keras.callbacks import Callback\n",
    "from sklearn.manifold import TSNE\n",
    "from sklearn import metrics\n",
    "import xgboost as xgb"
   ]
  },
  {
   "cell_type": "markdown",
   "metadata": {},
   "source": [
    "##### Feature Augmentation"
   ]
  },
  {
   "cell_type": "code",
   "execution_count": 38,
   "metadata": {},
   "outputs": [],
   "source": [
    "eda_credit_data[\"any_rps_delayed\"] = ((eda_credit_data['rps_sept'] > 0) |\n",
    "                                      (eda_credit_data['rps_aug'] > 0) |\n",
    "                                      (eda_credit_data['rps_july'] > 0) |\n",
    "                                      (eda_credit_data['rps_june'] > 0) |\n",
    "                                      (eda_credit_data['rps_april'] > 0) |\n",
    "                                      (eda_credit_data['rps_may'] > 0)) == 1\n",
    "eda_credit_data[\"all_rps_delayed\"] = ((eda_credit_data['rps_sept'] > 0) &\n",
    "                                      (eda_credit_data['rps_aug'] > 0) &\n",
    "                                      (eda_credit_data['rps_july'] > 0) &\n",
    "                                      (eda_credit_data['rps_june'] > 0) &\n",
    "                                      (eda_credit_data['rps_april'] > 0) &\n",
    "                                      (eda_credit_data['rps_may'] > 0)) == 1"
   ]
  },
  {
   "cell_type": "code",
   "execution_count": 39,
   "metadata": {},
   "outputs": [],
   "source": [
    "# Data preprocessing\n",
    "columns_to_encode = [\"education\", \"gender\", \"marital_status\", \"rps_sept\",\n",
    "                     \"rps_aug\", \"rps_july\",\"rps_june\",\"rps_may\", \"rps_april\"]\n",
    "columns_to_scale  = [\"overall_credit\", \"age\", \"ba_sept\", \"ba_aug\", \"ba_july\", \"ba_june\", \"ba_april\",\n",
    "                     \"ba_may\", \"pp_sept\", \"pp_aug\", \"pp_july\", \"pp_june\", \"pp_may\", \"pp_april\"]\n",
    "ohe = pd.get_dummies(data = eda_credit_data[columns_to_encode])\n",
    "scaler = MinMaxScaler()\n",
    "scaled_columns  = pd.DataFrame(scaler.fit_transform(eda_credit_data[columns_to_scale]), columns = columns_to_scale)\n",
    "encoded_scaled_data = pd.concat([scaled_columns, ohe, eda_credit_data.iloc[:, 24:26]], axis = 1)"
   ]
  },
  {
   "cell_type": "code",
   "execution_count": 40,
   "metadata": {
    "scrolled": true
   },
   "outputs": [
    {
     "data": {
      "text/html": [
       "<div>\n",
       "<style scoped>\n",
       "    .dataframe tbody tr th:only-of-type {\n",
       "        vertical-align: middle;\n",
       "    }\n",
       "\n",
       "    .dataframe tbody tr th {\n",
       "        vertical-align: top;\n",
       "    }\n",
       "\n",
       "    .dataframe thead th {\n",
       "        text-align: right;\n",
       "    }\n",
       "</style>\n",
       "<table border=\"1\" class=\"dataframe\">\n",
       "  <thead>\n",
       "    <tr style=\"text-align: right;\">\n",
       "      <th></th>\n",
       "      <th>overall_credit</th>\n",
       "      <th>age</th>\n",
       "      <th>ba_sept</th>\n",
       "      <th>ba_aug</th>\n",
       "      <th>ba_july</th>\n",
       "      <th>ba_june</th>\n",
       "      <th>ba_april</th>\n",
       "      <th>ba_may</th>\n",
       "      <th>pp_sept</th>\n",
       "      <th>pp_aug</th>\n",
       "      <th>...</th>\n",
       "      <th>education_high_school</th>\n",
       "      <th>education_others</th>\n",
       "      <th>education_university</th>\n",
       "      <th>gender_female</th>\n",
       "      <th>gender_male</th>\n",
       "      <th>marital_status_married</th>\n",
       "      <th>marital_status_others</th>\n",
       "      <th>marital_status_single</th>\n",
       "      <th>any_rps_delayed</th>\n",
       "      <th>all_rps_delayed</th>\n",
       "    </tr>\n",
       "  </thead>\n",
       "  <tbody>\n",
       "    <tr>\n",
       "      <th>0</th>\n",
       "      <td>0.010101</td>\n",
       "      <td>0.051724</td>\n",
       "      <td>0.149982</td>\n",
       "      <td>0.069164</td>\n",
       "      <td>0.086723</td>\n",
       "      <td>0.160138</td>\n",
       "      <td>0.080648</td>\n",
       "      <td>0.260979</td>\n",
       "      <td>0.000000</td>\n",
       "      <td>0.000409</td>\n",
       "      <td>...</td>\n",
       "      <td>0</td>\n",
       "      <td>0</td>\n",
       "      <td>1</td>\n",
       "      <td>1</td>\n",
       "      <td>0</td>\n",
       "      <td>1</td>\n",
       "      <td>0</td>\n",
       "      <td>0</td>\n",
       "      <td>True</td>\n",
       "      <td>False</td>\n",
       "    </tr>\n",
       "    <tr>\n",
       "      <th>1</th>\n",
       "      <td>0.111111</td>\n",
       "      <td>0.086207</td>\n",
       "      <td>0.148892</td>\n",
       "      <td>0.067858</td>\n",
       "      <td>0.087817</td>\n",
       "      <td>0.163220</td>\n",
       "      <td>0.084074</td>\n",
       "      <td>0.263485</td>\n",
       "      <td>0.000000</td>\n",
       "      <td>0.000594</td>\n",
       "      <td>...</td>\n",
       "      <td>0</td>\n",
       "      <td>0</td>\n",
       "      <td>1</td>\n",
       "      <td>1</td>\n",
       "      <td>0</td>\n",
       "      <td>0</td>\n",
       "      <td>0</td>\n",
       "      <td>1</td>\n",
       "      <td>True</td>\n",
       "      <td>False</td>\n",
       "    </tr>\n",
       "    <tr>\n",
       "      <th>2</th>\n",
       "      <td>0.080808</td>\n",
       "      <td>0.224138</td>\n",
       "      <td>0.172392</td>\n",
       "      <td>0.079532</td>\n",
       "      <td>0.093789</td>\n",
       "      <td>0.173637</td>\n",
       "      <td>0.095470</td>\n",
       "      <td>0.272928</td>\n",
       "      <td>0.001738</td>\n",
       "      <td>0.000891</td>\n",
       "      <td>...</td>\n",
       "      <td>0</td>\n",
       "      <td>0</td>\n",
       "      <td>1</td>\n",
       "      <td>1</td>\n",
       "      <td>0</td>\n",
       "      <td>0</td>\n",
       "      <td>0</td>\n",
       "      <td>1</td>\n",
       "      <td>False</td>\n",
       "      <td>False</td>\n",
       "    </tr>\n",
       "    <tr>\n",
       "      <th>3</th>\n",
       "      <td>0.040404</td>\n",
       "      <td>0.275862</td>\n",
       "      <td>0.188100</td>\n",
       "      <td>0.111995</td>\n",
       "      <td>0.113407</td>\n",
       "      <td>0.186809</td>\n",
       "      <td>0.109363</td>\n",
       "      <td>0.283685</td>\n",
       "      <td>0.002290</td>\n",
       "      <td>0.001199</td>\n",
       "      <td>...</td>\n",
       "      <td>0</td>\n",
       "      <td>0</td>\n",
       "      <td>1</td>\n",
       "      <td>1</td>\n",
       "      <td>0</td>\n",
       "      <td>1</td>\n",
       "      <td>0</td>\n",
       "      <td>0</td>\n",
       "      <td>False</td>\n",
       "      <td>False</td>\n",
       "    </tr>\n",
       "    <tr>\n",
       "      <th>4</th>\n",
       "      <td>0.040404</td>\n",
       "      <td>0.620690</td>\n",
       "      <td>0.154144</td>\n",
       "      <td>0.071601</td>\n",
       "      <td>0.106020</td>\n",
       "      <td>0.179863</td>\n",
       "      <td>0.099633</td>\n",
       "      <td>0.275681</td>\n",
       "      <td>0.002290</td>\n",
       "      <td>0.021779</td>\n",
       "      <td>...</td>\n",
       "      <td>0</td>\n",
       "      <td>0</td>\n",
       "      <td>1</td>\n",
       "      <td>0</td>\n",
       "      <td>1</td>\n",
       "      <td>1</td>\n",
       "      <td>0</td>\n",
       "      <td>0</td>\n",
       "      <td>False</td>\n",
       "      <td>False</td>\n",
       "    </tr>\n",
       "    <tr>\n",
       "      <th>5</th>\n",
       "      <td>0.040404</td>\n",
       "      <td>0.275862</td>\n",
       "      <td>0.203506</td>\n",
       "      <td>0.120381</td>\n",
       "      <td>0.117974</td>\n",
       "      <td>0.178407</td>\n",
       "      <td>0.100102</td>\n",
       "      <td>0.276367</td>\n",
       "      <td>0.002862</td>\n",
       "      <td>0.001078</td>\n",
       "      <td>...</td>\n",
       "      <td>0</td>\n",
       "      <td>0</td>\n",
       "      <td>0</td>\n",
       "      <td>0</td>\n",
       "      <td>1</td>\n",
       "      <td>0</td>\n",
       "      <td>0</td>\n",
       "      <td>1</td>\n",
       "      <td>False</td>\n",
       "      <td>False</td>\n",
       "    </tr>\n",
       "    <tr>\n",
       "      <th>6</th>\n",
       "      <td>0.494949</td>\n",
       "      <td>0.137931</td>\n",
       "      <td>0.472126</td>\n",
       "      <td>0.457242</td>\n",
       "      <td>0.330672</td>\n",
       "      <td>0.671310</td>\n",
       "      <td>0.559578</td>\n",
       "      <td>0.625196</td>\n",
       "      <td>0.062961</td>\n",
       "      <td>0.023749</td>\n",
       "      <td>...</td>\n",
       "      <td>0</td>\n",
       "      <td>0</td>\n",
       "      <td>0</td>\n",
       "      <td>0</td>\n",
       "      <td>1</td>\n",
       "      <td>0</td>\n",
       "      <td>0</td>\n",
       "      <td>1</td>\n",
       "      <td>False</td>\n",
       "      <td>False</td>\n",
       "    </tr>\n",
       "    <tr>\n",
       "      <th>7</th>\n",
       "      <td>0.090909</td>\n",
       "      <td>0.034483</td>\n",
       "      <td>0.157028</td>\n",
       "      <td>0.066581</td>\n",
       "      <td>0.086675</td>\n",
       "      <td>0.160346</td>\n",
       "      <td>0.080490</td>\n",
       "      <td>0.261414</td>\n",
       "      <td>0.000435</td>\n",
       "      <td>0.000357</td>\n",
       "      <td>...</td>\n",
       "      <td>0</td>\n",
       "      <td>0</td>\n",
       "      <td>1</td>\n",
       "      <td>1</td>\n",
       "      <td>0</td>\n",
       "      <td>0</td>\n",
       "      <td>0</td>\n",
       "      <td>1</td>\n",
       "      <td>False</td>\n",
       "      <td>False</td>\n",
       "    </tr>\n",
       "    <tr>\n",
       "      <th>8</th>\n",
       "      <td>0.131313</td>\n",
       "      <td>0.120690</td>\n",
       "      <td>0.156505</td>\n",
       "      <td>0.079598</td>\n",
       "      <td>0.092992</td>\n",
       "      <td>0.171640</td>\n",
       "      <td>0.092342</td>\n",
       "      <td>0.263837</td>\n",
       "      <td>0.003811</td>\n",
       "      <td>0.000000</td>\n",
       "      <td>...</td>\n",
       "      <td>1</td>\n",
       "      <td>0</td>\n",
       "      <td>0</td>\n",
       "      <td>1</td>\n",
       "      <td>0</td>\n",
       "      <td>1</td>\n",
       "      <td>0</td>\n",
       "      <td>0</td>\n",
       "      <td>True</td>\n",
       "      <td>False</td>\n",
       "    </tr>\n",
       "    <tr>\n",
       "      <th>9</th>\n",
       "      <td>0.010101</td>\n",
       "      <td>0.241379</td>\n",
       "      <td>0.146519</td>\n",
       "      <td>0.066220</td>\n",
       "      <td>0.086345</td>\n",
       "      <td>0.160138</td>\n",
       "      <td>0.093545</td>\n",
       "      <td>0.271670</td>\n",
       "      <td>0.000000</td>\n",
       "      <td>0.000000</td>\n",
       "      <td>...</td>\n",
       "      <td>1</td>\n",
       "      <td>0</td>\n",
       "      <td>0</td>\n",
       "      <td>0</td>\n",
       "      <td>1</td>\n",
       "      <td>0</td>\n",
       "      <td>0</td>\n",
       "      <td>1</td>\n",
       "      <td>False</td>\n",
       "      <td>False</td>\n",
       "    </tr>\n",
       "    <tr>\n",
       "      <th>10</th>\n",
       "      <td>0.191919</td>\n",
       "      <td>0.224138</td>\n",
       "      <td>0.156318</td>\n",
       "      <td>0.075509</td>\n",
       "      <td>0.089384</td>\n",
       "      <td>0.162505</td>\n",
       "      <td>0.082461</td>\n",
       "      <td>0.263846</td>\n",
       "      <td>0.002640</td>\n",
       "      <td>0.000007</td>\n",
       "      <td>...</td>\n",
       "      <td>1</td>\n",
       "      <td>0</td>\n",
       "      <td>0</td>\n",
       "      <td>1</td>\n",
       "      <td>0</td>\n",
       "      <td>0</td>\n",
       "      <td>0</td>\n",
       "      <td>1</td>\n",
       "      <td>True</td>\n",
       "      <td>False</td>\n",
       "    </tr>\n",
       "    <tr>\n",
       "      <th>11</th>\n",
       "      <td>0.252525</td>\n",
       "      <td>0.517241</td>\n",
       "      <td>0.157369</td>\n",
       "      <td>0.086786</td>\n",
       "      <td>0.091816</td>\n",
       "      <td>0.168161</td>\n",
       "      <td>0.102747</td>\n",
       "      <td>0.271482</td>\n",
       "      <td>0.024976</td>\n",
       "      <td>0.005917</td>\n",
       "      <td>...</td>\n",
       "      <td>0</td>\n",
       "      <td>0</td>\n",
       "      <td>0</td>\n",
       "      <td>1</td>\n",
       "      <td>0</td>\n",
       "      <td>0</td>\n",
       "      <td>0</td>\n",
       "      <td>1</td>\n",
       "      <td>True</td>\n",
       "      <td>False</td>\n",
       "    </tr>\n",
       "    <tr>\n",
       "      <th>12</th>\n",
       "      <td>0.626263</td>\n",
       "      <td>0.344828</td>\n",
       "      <td>0.157259</td>\n",
       "      <td>0.072389</td>\n",
       "      <td>0.089913</td>\n",
       "      <td>0.166261</td>\n",
       "      <td>0.087093</td>\n",
       "      <td>0.263184</td>\n",
       "      <td>0.001145</td>\n",
       "      <td>0.003859</td>\n",
       "      <td>...</td>\n",
       "      <td>0</td>\n",
       "      <td>0</td>\n",
       "      <td>1</td>\n",
       "      <td>1</td>\n",
       "      <td>0</td>\n",
       "      <td>0</td>\n",
       "      <td>0</td>\n",
       "      <td>1</td>\n",
       "      <td>False</td>\n",
       "      <td>False</td>\n",
       "    </tr>\n",
       "    <tr>\n",
       "      <th>13</th>\n",
       "      <td>0.060606</td>\n",
       "      <td>0.155172</td>\n",
       "      <td>0.204746</td>\n",
       "      <td>0.130156</td>\n",
       "      <td>0.122417</td>\n",
       "      <td>0.223046</td>\n",
       "      <td>0.116480</td>\n",
       "      <td>0.289331</td>\n",
       "      <td>0.003663</td>\n",
       "      <td>0.000000</td>\n",
       "      <td>...</td>\n",
       "      <td>0</td>\n",
       "      <td>0</td>\n",
       "      <td>1</td>\n",
       "      <td>0</td>\n",
       "      <td>1</td>\n",
       "      <td>0</td>\n",
       "      <td>0</td>\n",
       "      <td>1</td>\n",
       "      <td>True</td>\n",
       "      <td>False</td>\n",
       "    </tr>\n",
       "    <tr>\n",
       "      <th>14</th>\n",
       "      <td>0.242424</td>\n",
       "      <td>0.137931</td>\n",
       "      <td>0.209246</td>\n",
       "      <td>0.129862</td>\n",
       "      <td>0.121242</td>\n",
       "      <td>0.216371</td>\n",
       "      <td>0.137043</td>\n",
       "      <td>0.303639</td>\n",
       "      <td>0.003434</td>\n",
       "      <td>0.001781</td>\n",
       "      <td>...</td>\n",
       "      <td>0</td>\n",
       "      <td>0</td>\n",
       "      <td>0</td>\n",
       "      <td>0</td>\n",
       "      <td>1</td>\n",
       "      <td>0</td>\n",
       "      <td>0</td>\n",
       "      <td>1</td>\n",
       "      <td>False</td>\n",
       "      <td>False</td>\n",
       "    </tr>\n",
       "    <tr>\n",
       "      <th>15</th>\n",
       "      <td>0.040404</td>\n",
       "      <td>0.034483</td>\n",
       "      <td>0.191307</td>\n",
       "      <td>0.093906</td>\n",
       "      <td>0.101781</td>\n",
       "      <td>0.187240</td>\n",
       "      <td>0.109930</td>\n",
       "      <td>0.284195</td>\n",
       "      <td>0.000000</td>\n",
       "      <td>0.000891</td>\n",
       "      <td>...</td>\n",
       "      <td>1</td>\n",
       "      <td>0</td>\n",
       "      <td>0</td>\n",
       "      <td>1</td>\n",
       "      <td>0</td>\n",
       "      <td>0</td>\n",
       "      <td>1</td>\n",
       "      <td>0</td>\n",
       "      <td>True</td>\n",
       "      <td>False</td>\n",
       "    </tr>\n",
       "    <tr>\n",
       "      <th>16</th>\n",
       "      <td>0.010101</td>\n",
       "      <td>0.051724</td>\n",
       "      <td>0.160125</td>\n",
       "      <td>0.083312</td>\n",
       "      <td>0.095913</td>\n",
       "      <td>0.177412</td>\n",
       "      <td>0.098402</td>\n",
       "      <td>0.275660</td>\n",
       "      <td>0.003663</td>\n",
       "      <td>0.000000</td>\n",
       "      <td>...</td>\n",
       "      <td>0</td>\n",
       "      <td>0</td>\n",
       "      <td>0</td>\n",
       "      <td>0</td>\n",
       "      <td>1</td>\n",
       "      <td>0</td>\n",
       "      <td>0</td>\n",
       "      <td>1</td>\n",
       "      <td>True</td>\n",
       "      <td>False</td>\n",
       "    </tr>\n",
       "    <tr>\n",
       "      <th>17</th>\n",
       "      <td>0.313131</td>\n",
       "      <td>0.482759</td>\n",
       "      <td>0.370648</td>\n",
       "      <td>0.300190</td>\n",
       "      <td>0.193223</td>\n",
       "      <td>0.226147</td>\n",
       "      <td>0.086455</td>\n",
       "      <td>0.411293</td>\n",
       "      <td>0.011857</td>\n",
       "      <td>0.005937</td>\n",
       "      <td>...</td>\n",
       "      <td>0</td>\n",
       "      <td>0</td>\n",
       "      <td>0</td>\n",
       "      <td>0</td>\n",
       "      <td>1</td>\n",
       "      <td>1</td>\n",
       "      <td>0</td>\n",
       "      <td>0</td>\n",
       "      <td>False</td>\n",
       "      <td>False</td>\n",
       "    </tr>\n",
       "    <tr>\n",
       "      <th>18</th>\n",
       "      <td>0.353535</td>\n",
       "      <td>0.482759</td>\n",
       "      <td>0.146519</td>\n",
       "      <td>0.066220</td>\n",
       "      <td>0.086345</td>\n",
       "      <td>0.160138</td>\n",
       "      <td>0.080648</td>\n",
       "      <td>0.260979</td>\n",
       "      <td>0.000000</td>\n",
       "      <td>0.000000</td>\n",
       "      <td>...</td>\n",
       "      <td>0</td>\n",
       "      <td>0</td>\n",
       "      <td>0</td>\n",
       "      <td>1</td>\n",
       "      <td>0</td>\n",
       "      <td>1</td>\n",
       "      <td>0</td>\n",
       "      <td>0</td>\n",
       "      <td>True</td>\n",
       "      <td>False</td>\n",
       "    </tr>\n",
       "    <tr>\n",
       "      <th>19</th>\n",
       "      <td>0.171717</td>\n",
       "      <td>0.137931</td>\n",
       "      <td>0.146519</td>\n",
       "      <td>0.066220</td>\n",
       "      <td>0.086345</td>\n",
       "      <td>0.160138</td>\n",
       "      <td>0.080648</td>\n",
       "      <td>0.260979</td>\n",
       "      <td>0.000000</td>\n",
       "      <td>0.000000</td>\n",
       "      <td>...</td>\n",
       "      <td>0</td>\n",
       "      <td>0</td>\n",
       "      <td>0</td>\n",
       "      <td>1</td>\n",
       "      <td>0</td>\n",
       "      <td>0</td>\n",
       "      <td>0</td>\n",
       "      <td>1</td>\n",
       "      <td>True</td>\n",
       "      <td>False</td>\n",
       "    </tr>\n",
       "    <tr>\n",
       "      <th>20</th>\n",
       "      <td>0.121212</td>\n",
       "      <td>0.310345</td>\n",
       "      <td>0.180462</td>\n",
       "      <td>0.092497</td>\n",
       "      <td>0.099790</td>\n",
       "      <td>0.179558</td>\n",
       "      <td>0.092351</td>\n",
       "      <td>0.261693</td>\n",
       "      <td>0.003434</td>\n",
       "      <td>0.000913</td>\n",
       "      <td>...</td>\n",
       "      <td>1</td>\n",
       "      <td>0</td>\n",
       "      <td>0</td>\n",
       "      <td>1</td>\n",
       "      <td>0</td>\n",
       "      <td>0</td>\n",
       "      <td>0</td>\n",
       "      <td>1</td>\n",
       "      <td>False</td>\n",
       "      <td>False</td>\n",
       "    </tr>\n",
       "    <tr>\n",
       "      <th>21</th>\n",
       "      <td>0.111111</td>\n",
       "      <td>0.310345</td>\n",
       "      <td>0.146799</td>\n",
       "      <td>0.066520</td>\n",
       "      <td>0.086518</td>\n",
       "      <td>0.160138</td>\n",
       "      <td>0.081275</td>\n",
       "      <td>0.261222</td>\n",
       "      <td>0.000362</td>\n",
       "      <td>0.000188</td>\n",
       "      <td>...</td>\n",
       "      <td>0</td>\n",
       "      <td>0</td>\n",
       "      <td>1</td>\n",
       "      <td>1</td>\n",
       "      <td>0</td>\n",
       "      <td>1</td>\n",
       "      <td>0</td>\n",
       "      <td>0</td>\n",
       "      <td>False</td>\n",
       "      <td>False</td>\n",
       "    </tr>\n",
       "    <tr>\n",
       "      <th>22</th>\n",
       "      <td>0.060606</td>\n",
       "      <td>0.086207</td>\n",
       "      <td>0.182876</td>\n",
       "      <td>0.106502</td>\n",
       "      <td>0.111062</td>\n",
       "      <td>0.201591</td>\n",
       "      <td>0.127158</td>\n",
       "      <td>0.296338</td>\n",
       "      <td>0.002298</td>\n",
       "      <td>0.002127</td>\n",
       "      <td>...</td>\n",
       "      <td>0</td>\n",
       "      <td>0</td>\n",
       "      <td>1</td>\n",
       "      <td>1</td>\n",
       "      <td>0</td>\n",
       "      <td>0</td>\n",
       "      <td>0</td>\n",
       "      <td>1</td>\n",
       "      <td>True</td>\n",
       "      <td>False</td>\n",
       "    </tr>\n",
       "    <tr>\n",
       "      <th>23</th>\n",
       "      <td>0.444444</td>\n",
       "      <td>0.327586</td>\n",
       "      <td>0.151397</td>\n",
       "      <td>0.084651</td>\n",
       "      <td>0.087153</td>\n",
       "      <td>0.160665</td>\n",
       "      <td>0.080648</td>\n",
       "      <td>0.260979</td>\n",
       "      <td>0.022240</td>\n",
       "      <td>0.000875</td>\n",
       "      <td>...</td>\n",
       "      <td>0</td>\n",
       "      <td>0</td>\n",
       "      <td>0</td>\n",
       "      <td>1</td>\n",
       "      <td>0</td>\n",
       "      <td>1</td>\n",
       "      <td>0</td>\n",
       "      <td>0</td>\n",
       "      <td>False</td>\n",
       "      <td>False</td>\n",
       "    </tr>\n",
       "    <tr>\n",
       "      <th>24</th>\n",
       "      <td>0.080808</td>\n",
       "      <td>0.034483</td>\n",
       "      <td>0.150717</td>\n",
       "      <td>0.072930</td>\n",
       "      <td>0.086345</td>\n",
       "      <td>0.165223</td>\n",
       "      <td>0.086954</td>\n",
       "      <td>0.267351</td>\n",
       "      <td>0.006590</td>\n",
       "      <td>0.000000</td>\n",
       "      <td>...</td>\n",
       "      <td>0</td>\n",
       "      <td>0</td>\n",
       "      <td>0</td>\n",
       "      <td>0</td>\n",
       "      <td>1</td>\n",
       "      <td>0</td>\n",
       "      <td>0</td>\n",
       "      <td>1</td>\n",
       "      <td>False</td>\n",
       "      <td>False</td>\n",
       "    </tr>\n",
       "    <tr>\n",
       "      <th>25</th>\n",
       "      <td>0.040404</td>\n",
       "      <td>0.034483</td>\n",
       "      <td>0.188657</td>\n",
       "      <td>0.105899</td>\n",
       "      <td>0.106123</td>\n",
       "      <td>0.187424</td>\n",
       "      <td>0.110226</td>\n",
       "      <td>0.284069</td>\n",
       "      <td>0.002259</td>\n",
       "      <td>0.000847</td>\n",
       "      <td>...</td>\n",
       "      <td>1</td>\n",
       "      <td>0</td>\n",
       "      <td>0</td>\n",
       "      <td>0</td>\n",
       "      <td>1</td>\n",
       "      <td>0</td>\n",
       "      <td>0</td>\n",
       "      <td>1</td>\n",
       "      <td>False</td>\n",
       "      <td>False</td>\n",
       "    </tr>\n",
       "    <tr>\n",
       "      <th>26</th>\n",
       "      <td>0.050505</td>\n",
       "      <td>0.103448</td>\n",
       "      <td>0.146423</td>\n",
       "      <td>0.065817</td>\n",
       "      <td>0.086487</td>\n",
       "      <td>0.160084</td>\n",
       "      <td>0.080774</td>\n",
       "      <td>0.260833</td>\n",
       "      <td>0.000000</td>\n",
       "      <td>0.000594</td>\n",
       "      <td>...</td>\n",
       "      <td>0</td>\n",
       "      <td>0</td>\n",
       "      <td>0</td>\n",
       "      <td>0</td>\n",
       "      <td>1</td>\n",
       "      <td>0</td>\n",
       "      <td>0</td>\n",
       "      <td>1</td>\n",
       "      <td>True</td>\n",
       "      <td>False</td>\n",
       "    </tr>\n",
       "    <tr>\n",
       "      <th>27</th>\n",
       "      <td>0.040404</td>\n",
       "      <td>0.155172</td>\n",
       "      <td>0.166465</td>\n",
       "      <td>0.081536</td>\n",
       "      <td>0.095768</td>\n",
       "      <td>0.176979</td>\n",
       "      <td>0.099419</td>\n",
       "      <td>0.276054</td>\n",
       "      <td>0.001488</td>\n",
       "      <td>0.000772</td>\n",
       "      <td>...</td>\n",
       "      <td>1</td>\n",
       "      <td>0</td>\n",
       "      <td>0</td>\n",
       "      <td>1</td>\n",
       "      <td>0</td>\n",
       "      <td>0</td>\n",
       "      <td>0</td>\n",
       "      <td>1</td>\n",
       "      <td>False</td>\n",
       "      <td>False</td>\n",
       "    </tr>\n",
       "    <tr>\n",
       "      <th>28</th>\n",
       "      <td>0.040404</td>\n",
       "      <td>0.448276</td>\n",
       "      <td>0.147094</td>\n",
       "      <td>0.069461</td>\n",
       "      <td>0.088220</td>\n",
       "      <td>0.162059</td>\n",
       "      <td>0.110821</td>\n",
       "      <td>0.261176</td>\n",
       "      <td>0.003909</td>\n",
       "      <td>0.002031</td>\n",
       "      <td>...</td>\n",
       "      <td>1</td>\n",
       "      <td>0</td>\n",
       "      <td>0</td>\n",
       "      <td>1</td>\n",
       "      <td>0</td>\n",
       "      <td>1</td>\n",
       "      <td>0</td>\n",
       "      <td>0</td>\n",
       "      <td>False</td>\n",
       "      <td>False</td>\n",
       "    </tr>\n",
       "    <tr>\n",
       "      <th>29</th>\n",
       "      <td>0.040404</td>\n",
       "      <td>0.086207</td>\n",
       "      <td>0.160084</td>\n",
       "      <td>0.081951</td>\n",
       "      <td>0.095951</td>\n",
       "      <td>0.177006</td>\n",
       "      <td>0.098868</td>\n",
       "      <td>0.269739</td>\n",
       "      <td>0.001717</td>\n",
       "      <td>0.000891</td>\n",
       "      <td>...</td>\n",
       "      <td>0</td>\n",
       "      <td>0</td>\n",
       "      <td>0</td>\n",
       "      <td>0</td>\n",
       "      <td>1</td>\n",
       "      <td>0</td>\n",
       "      <td>0</td>\n",
       "      <td>1</td>\n",
       "      <td>False</td>\n",
       "      <td>False</td>\n",
       "    </tr>\n",
       "    <tr>\n",
       "      <th>...</th>\n",
       "      <td>...</td>\n",
       "      <td>...</td>\n",
       "      <td>...</td>\n",
       "      <td>...</td>\n",
       "      <td>...</td>\n",
       "      <td>...</td>\n",
       "      <td>...</td>\n",
       "      <td>...</td>\n",
       "      <td>...</td>\n",
       "      <td>...</td>\n",
       "      <td>...</td>\n",
       "      <td>...</td>\n",
       "      <td>...</td>\n",
       "      <td>...</td>\n",
       "      <td>...</td>\n",
       "      <td>...</td>\n",
       "      <td>...</td>\n",
       "      <td>...</td>\n",
       "      <td>...</td>\n",
       "      <td>...</td>\n",
       "      <td>...</td>\n",
       "    </tr>\n",
       "    <tr>\n",
       "      <th>29970</th>\n",
       "      <td>0.353535</td>\n",
       "      <td>0.224138</td>\n",
       "      <td>0.176299</td>\n",
       "      <td>0.116221</td>\n",
       "      <td>0.121521</td>\n",
       "      <td>0.206300</td>\n",
       "      <td>0.089251</td>\n",
       "      <td>0.275954</td>\n",
       "      <td>0.060616</td>\n",
       "      <td>0.038317</td>\n",
       "      <td>...</td>\n",
       "      <td>0</td>\n",
       "      <td>0</td>\n",
       "      <td>0</td>\n",
       "      <td>0</td>\n",
       "      <td>1</td>\n",
       "      <td>1</td>\n",
       "      <td>0</td>\n",
       "      <td>0</td>\n",
       "      <td>False</td>\n",
       "      <td>False</td>\n",
       "    </tr>\n",
       "    <tr>\n",
       "      <th>29971</th>\n",
       "      <td>0.070707</td>\n",
       "      <td>0.258621</td>\n",
       "      <td>0.204527</td>\n",
       "      <td>0.129671</td>\n",
       "      <td>0.123833</td>\n",
       "      <td>0.225770</td>\n",
       "      <td>0.151119</td>\n",
       "      <td>0.317548</td>\n",
       "      <td>0.002742</td>\n",
       "      <td>0.001484</td>\n",
       "      <td>...</td>\n",
       "      <td>1</td>\n",
       "      <td>0</td>\n",
       "      <td>0</td>\n",
       "      <td>0</td>\n",
       "      <td>1</td>\n",
       "      <td>1</td>\n",
       "      <td>0</td>\n",
       "      <td>0</td>\n",
       "      <td>False</td>\n",
       "      <td>False</td>\n",
       "    </tr>\n",
       "    <tr>\n",
       "      <th>29972</th>\n",
       "      <td>0.181818</td>\n",
       "      <td>0.275862</td>\n",
       "      <td>0.165657</td>\n",
       "      <td>0.086049</td>\n",
       "      <td>0.089567</td>\n",
       "      <td>0.187665</td>\n",
       "      <td>0.100099</td>\n",
       "      <td>0.375084</td>\n",
       "      <td>0.002290</td>\n",
       "      <td>0.002297</td>\n",
       "      <td>...</td>\n",
       "      <td>0</td>\n",
       "      <td>0</td>\n",
       "      <td>0</td>\n",
       "      <td>0</td>\n",
       "      <td>1</td>\n",
       "      <td>1</td>\n",
       "      <td>0</td>\n",
       "      <td>0</td>\n",
       "      <td>False</td>\n",
       "      <td>False</td>\n",
       "    </tr>\n",
       "    <tr>\n",
       "      <th>29973</th>\n",
       "      <td>0.222222</td>\n",
       "      <td>0.241379</td>\n",
       "      <td>0.146519</td>\n",
       "      <td>0.066220</td>\n",
       "      <td>0.086345</td>\n",
       "      <td>0.160138</td>\n",
       "      <td>0.080648</td>\n",
       "      <td>0.260979</td>\n",
       "      <td>0.000000</td>\n",
       "      <td>0.000000</td>\n",
       "      <td>...</td>\n",
       "      <td>0</td>\n",
       "      <td>0</td>\n",
       "      <td>1</td>\n",
       "      <td>0</td>\n",
       "      <td>1</td>\n",
       "      <td>1</td>\n",
       "      <td>0</td>\n",
       "      <td>0</td>\n",
       "      <td>True</td>\n",
       "      <td>False</td>\n",
       "    </tr>\n",
       "    <tr>\n",
       "      <th>29974</th>\n",
       "      <td>0.040404</td>\n",
       "      <td>0.275862</td>\n",
       "      <td>0.156168</td>\n",
       "      <td>0.075062</td>\n",
       "      <td>0.088721</td>\n",
       "      <td>0.162819</td>\n",
       "      <td>0.082220</td>\n",
       "      <td>0.261996</td>\n",
       "      <td>0.000000</td>\n",
       "      <td>0.001781</td>\n",
       "      <td>...</td>\n",
       "      <td>0</td>\n",
       "      <td>0</td>\n",
       "      <td>1</td>\n",
       "      <td>0</td>\n",
       "      <td>1</td>\n",
       "      <td>1</td>\n",
       "      <td>0</td>\n",
       "      <td>0</td>\n",
       "      <td>True</td>\n",
       "      <td>False</td>\n",
       "    </tr>\n",
       "    <tr>\n",
       "      <th>29975</th>\n",
       "      <td>0.212121</td>\n",
       "      <td>0.344828</td>\n",
       "      <td>0.186405</td>\n",
       "      <td>0.074610</td>\n",
       "      <td>0.087096</td>\n",
       "      <td>0.165718</td>\n",
       "      <td>0.082392</td>\n",
       "      <td>0.262380</td>\n",
       "      <td>0.010120</td>\n",
       "      <td>0.003944</td>\n",
       "      <td>...</td>\n",
       "      <td>0</td>\n",
       "      <td>0</td>\n",
       "      <td>1</td>\n",
       "      <td>0</td>\n",
       "      <td>1</td>\n",
       "      <td>1</td>\n",
       "      <td>0</td>\n",
       "      <td>0</td>\n",
       "      <td>False</td>\n",
       "      <td>False</td>\n",
       "    </tr>\n",
       "    <tr>\n",
       "      <th>29976</th>\n",
       "      <td>0.030303</td>\n",
       "      <td>0.448276</td>\n",
       "      <td>0.192850</td>\n",
       "      <td>0.118315</td>\n",
       "      <td>0.115672</td>\n",
       "      <td>0.208423</td>\n",
       "      <td>0.127401</td>\n",
       "      <td>0.297047</td>\n",
       "      <td>0.004579</td>\n",
       "      <td>0.000000</td>\n",
       "      <td>...</td>\n",
       "      <td>0</td>\n",
       "      <td>0</td>\n",
       "      <td>1</td>\n",
       "      <td>0</td>\n",
       "      <td>1</td>\n",
       "      <td>0</td>\n",
       "      <td>0</td>\n",
       "      <td>1</td>\n",
       "      <td>True</td>\n",
       "      <td>True</td>\n",
       "    </tr>\n",
       "    <tr>\n",
       "      <th>29977</th>\n",
       "      <td>0.414141</td>\n",
       "      <td>0.224138</td>\n",
       "      <td>0.263270</td>\n",
       "      <td>0.195973</td>\n",
       "      <td>0.163217</td>\n",
       "      <td>0.293613</td>\n",
       "      <td>0.224266</td>\n",
       "      <td>0.374679</td>\n",
       "      <td>0.008013</td>\n",
       "      <td>0.004156</td>\n",
       "      <td>...</td>\n",
       "      <td>0</td>\n",
       "      <td>0</td>\n",
       "      <td>0</td>\n",
       "      <td>0</td>\n",
       "      <td>1</td>\n",
       "      <td>0</td>\n",
       "      <td>0</td>\n",
       "      <td>1</td>\n",
       "      <td>False</td>\n",
       "      <td>False</td>\n",
       "    </tr>\n",
       "    <tr>\n",
       "      <th>29978</th>\n",
       "      <td>0.303030</td>\n",
       "      <td>0.310345</td>\n",
       "      <td>0.357983</td>\n",
       "      <td>0.291326</td>\n",
       "      <td>0.214740</td>\n",
       "      <td>0.366818</td>\n",
       "      <td>0.295362</td>\n",
       "      <td>0.422879</td>\n",
       "      <td>0.011481</td>\n",
       "      <td>0.005473</td>\n",
       "      <td>...</td>\n",
       "      <td>0</td>\n",
       "      <td>0</td>\n",
       "      <td>1</td>\n",
       "      <td>0</td>\n",
       "      <td>1</td>\n",
       "      <td>1</td>\n",
       "      <td>0</td>\n",
       "      <td>0</td>\n",
       "      <td>False</td>\n",
       "      <td>False</td>\n",
       "    </tr>\n",
       "    <tr>\n",
       "      <th>29979</th>\n",
       "      <td>0.171717</td>\n",
       "      <td>0.189655</td>\n",
       "      <td>0.146519</td>\n",
       "      <td>0.066220</td>\n",
       "      <td>0.086345</td>\n",
       "      <td>0.160138</td>\n",
       "      <td>0.080648</td>\n",
       "      <td>0.260979</td>\n",
       "      <td>0.000000</td>\n",
       "      <td>0.000000</td>\n",
       "      <td>...</td>\n",
       "      <td>0</td>\n",
       "      <td>0</td>\n",
       "      <td>0</td>\n",
       "      <td>0</td>\n",
       "      <td>1</td>\n",
       "      <td>1</td>\n",
       "      <td>0</td>\n",
       "      <td>0</td>\n",
       "      <td>False</td>\n",
       "      <td>False</td>\n",
       "    </tr>\n",
       "    <tr>\n",
       "      <th>29980</th>\n",
       "      <td>0.040404</td>\n",
       "      <td>0.362069</td>\n",
       "      <td>0.185452</td>\n",
       "      <td>0.112840</td>\n",
       "      <td>0.113466</td>\n",
       "      <td>0.207576</td>\n",
       "      <td>0.100451</td>\n",
       "      <td>0.276113</td>\n",
       "      <td>0.011448</td>\n",
       "      <td>0.002375</td>\n",
       "      <td>...</td>\n",
       "      <td>1</td>\n",
       "      <td>0</td>\n",
       "      <td>0</td>\n",
       "      <td>0</td>\n",
       "      <td>1</td>\n",
       "      <td>0</td>\n",
       "      <td>0</td>\n",
       "      <td>1</td>\n",
       "      <td>False</td>\n",
       "      <td>False</td>\n",
       "    </tr>\n",
       "    <tr>\n",
       "      <th>29981</th>\n",
       "      <td>0.040404</td>\n",
       "      <td>0.396552</td>\n",
       "      <td>0.180739</td>\n",
       "      <td>0.101118</td>\n",
       "      <td>0.104518</td>\n",
       "      <td>0.186694</td>\n",
       "      <td>0.103133</td>\n",
       "      <td>0.272235</td>\n",
       "      <td>0.002633</td>\n",
       "      <td>0.001009</td>\n",
       "      <td>...</td>\n",
       "      <td>0</td>\n",
       "      <td>0</td>\n",
       "      <td>1</td>\n",
       "      <td>0</td>\n",
       "      <td>1</td>\n",
       "      <td>1</td>\n",
       "      <td>0</td>\n",
       "      <td>0</td>\n",
       "      <td>True</td>\n",
       "      <td>False</td>\n",
       "    </tr>\n",
       "    <tr>\n",
       "      <th>29982</th>\n",
       "      <td>0.080808</td>\n",
       "      <td>0.258621</td>\n",
       "      <td>0.153379</td>\n",
       "      <td>0.074868</td>\n",
       "      <td>0.092003</td>\n",
       "      <td>0.170809</td>\n",
       "      <td>0.092583</td>\n",
       "      <td>0.271990</td>\n",
       "      <td>0.001717</td>\n",
       "      <td>0.000891</td>\n",
       "      <td>...</td>\n",
       "      <td>0</td>\n",
       "      <td>0</td>\n",
       "      <td>1</td>\n",
       "      <td>0</td>\n",
       "      <td>1</td>\n",
       "      <td>1</td>\n",
       "      <td>0</td>\n",
       "      <td>0</td>\n",
       "      <td>False</td>\n",
       "      <td>False</td>\n",
       "    </tr>\n",
       "    <tr>\n",
       "      <th>29983</th>\n",
       "      <td>0.010101</td>\n",
       "      <td>0.396552</td>\n",
       "      <td>0.148131</td>\n",
       "      <td>0.068946</td>\n",
       "      <td>0.087834</td>\n",
       "      <td>0.162853</td>\n",
       "      <td>0.089805</td>\n",
       "      <td>0.262300</td>\n",
       "      <td>0.003308</td>\n",
       "      <td>0.001615</td>\n",
       "      <td>...</td>\n",
       "      <td>0</td>\n",
       "      <td>0</td>\n",
       "      <td>1</td>\n",
       "      <td>0</td>\n",
       "      <td>1</td>\n",
       "      <td>1</td>\n",
       "      <td>0</td>\n",
       "      <td>0</td>\n",
       "      <td>False</td>\n",
       "      <td>False</td>\n",
       "    </tr>\n",
       "    <tr>\n",
       "      <th>29984</th>\n",
       "      <td>0.020202</td>\n",
       "      <td>0.293103</td>\n",
       "      <td>0.146798</td>\n",
       "      <td>0.067096</td>\n",
       "      <td>0.087958</td>\n",
       "      <td>0.162015</td>\n",
       "      <td>0.082539</td>\n",
       "      <td>0.263529</td>\n",
       "      <td>0.001057</td>\n",
       "      <td>0.001768</td>\n",
       "      <td>...</td>\n",
       "      <td>0</td>\n",
       "      <td>0</td>\n",
       "      <td>1</td>\n",
       "      <td>0</td>\n",
       "      <td>1</td>\n",
       "      <td>0</td>\n",
       "      <td>0</td>\n",
       "      <td>1</td>\n",
       "      <td>False</td>\n",
       "      <td>False</td>\n",
       "    </tr>\n",
       "    <tr>\n",
       "      <th>29985</th>\n",
       "      <td>0.232323</td>\n",
       "      <td>0.155172</td>\n",
       "      <td>0.146519</td>\n",
       "      <td>0.066220</td>\n",
       "      <td>0.086345</td>\n",
       "      <td>0.160138</td>\n",
       "      <td>0.080648</td>\n",
       "      <td>0.260979</td>\n",
       "      <td>0.000000</td>\n",
       "      <td>0.000000</td>\n",
       "      <td>...</td>\n",
       "      <td>0</td>\n",
       "      <td>0</td>\n",
       "      <td>0</td>\n",
       "      <td>0</td>\n",
       "      <td>1</td>\n",
       "      <td>0</td>\n",
       "      <td>0</td>\n",
       "      <td>1</td>\n",
       "      <td>False</td>\n",
       "      <td>False</td>\n",
       "    </tr>\n",
       "    <tr>\n",
       "      <th>29986</th>\n",
       "      <td>0.353535</td>\n",
       "      <td>0.241379</td>\n",
       "      <td>0.148484</td>\n",
       "      <td>0.066220</td>\n",
       "      <td>0.086345</td>\n",
       "      <td>0.160138</td>\n",
       "      <td>0.080648</td>\n",
       "      <td>0.260979</td>\n",
       "      <td>0.000000</td>\n",
       "      <td>0.000000</td>\n",
       "      <td>...</td>\n",
       "      <td>0</td>\n",
       "      <td>0</td>\n",
       "      <td>0</td>\n",
       "      <td>0</td>\n",
       "      <td>1</td>\n",
       "      <td>0</td>\n",
       "      <td>0</td>\n",
       "      <td>1</td>\n",
       "      <td>False</td>\n",
       "      <td>False</td>\n",
       "    </tr>\n",
       "    <tr>\n",
       "      <th>29987</th>\n",
       "      <td>0.121212</td>\n",
       "      <td>0.224138</td>\n",
       "      <td>0.167130</td>\n",
       "      <td>0.079580</td>\n",
       "      <td>0.094880</td>\n",
       "      <td>0.261917</td>\n",
       "      <td>0.173566</td>\n",
       "      <td>0.335793</td>\n",
       "      <td>0.003434</td>\n",
       "      <td>0.001187</td>\n",
       "      <td>...</td>\n",
       "      <td>0</td>\n",
       "      <td>0</td>\n",
       "      <td>0</td>\n",
       "      <td>0</td>\n",
       "      <td>1</td>\n",
       "      <td>0</td>\n",
       "      <td>0</td>\n",
       "      <td>1</td>\n",
       "      <td>False</td>\n",
       "      <td>False</td>\n",
       "    </tr>\n",
       "    <tr>\n",
       "      <th>29988</th>\n",
       "      <td>0.242424</td>\n",
       "      <td>0.224138</td>\n",
       "      <td>0.393968</td>\n",
       "      <td>0.306242</td>\n",
       "      <td>0.219803</td>\n",
       "      <td>0.391631</td>\n",
       "      <td>0.254177</td>\n",
       "      <td>0.399065</td>\n",
       "      <td>0.074409</td>\n",
       "      <td>0.005225</td>\n",
       "      <td>...</td>\n",
       "      <td>0</td>\n",
       "      <td>0</td>\n",
       "      <td>0</td>\n",
       "      <td>0</td>\n",
       "      <td>1</td>\n",
       "      <td>1</td>\n",
       "      <td>0</td>\n",
       "      <td>0</td>\n",
       "      <td>False</td>\n",
       "      <td>False</td>\n",
       "    </tr>\n",
       "    <tr>\n",
       "      <th>29989</th>\n",
       "      <td>0.141414</td>\n",
       "      <td>0.241379</td>\n",
       "      <td>0.149550</td>\n",
       "      <td>0.074770</td>\n",
       "      <td>0.086343</td>\n",
       "      <td>0.160873</td>\n",
       "      <td>0.080648</td>\n",
       "      <td>0.260979</td>\n",
       "      <td>0.010365</td>\n",
       "      <td>0.000000</td>\n",
       "      <td>...</td>\n",
       "      <td>0</td>\n",
       "      <td>0</td>\n",
       "      <td>0</td>\n",
       "      <td>0</td>\n",
       "      <td>1</td>\n",
       "      <td>0</td>\n",
       "      <td>0</td>\n",
       "      <td>1</td>\n",
       "      <td>False</td>\n",
       "      <td>False</td>\n",
       "    </tr>\n",
       "    <tr>\n",
       "      <th>29990</th>\n",
       "      <td>0.131313</td>\n",
       "      <td>0.344828</td>\n",
       "      <td>0.268921</td>\n",
       "      <td>0.196372</td>\n",
       "      <td>0.162722</td>\n",
       "      <td>0.290379</td>\n",
       "      <td>0.129904</td>\n",
       "      <td>0.296422</td>\n",
       "      <td>0.006869</td>\n",
       "      <td>0.004156</td>\n",
       "      <td>...</td>\n",
       "      <td>0</td>\n",
       "      <td>0</td>\n",
       "      <td>1</td>\n",
       "      <td>0</td>\n",
       "      <td>1</td>\n",
       "      <td>1</td>\n",
       "      <td>0</td>\n",
       "      <td>0</td>\n",
       "      <td>False</td>\n",
       "      <td>False</td>\n",
       "    </tr>\n",
       "    <tr>\n",
       "      <th>29991</th>\n",
       "      <td>0.202020</td>\n",
       "      <td>0.224138</td>\n",
       "      <td>0.148731</td>\n",
       "      <td>0.068593</td>\n",
       "      <td>0.087717</td>\n",
       "      <td>0.162493</td>\n",
       "      <td>0.083127</td>\n",
       "      <td>0.262900</td>\n",
       "      <td>0.000000</td>\n",
       "      <td>0.000000</td>\n",
       "      <td>...</td>\n",
       "      <td>0</td>\n",
       "      <td>0</td>\n",
       "      <td>1</td>\n",
       "      <td>0</td>\n",
       "      <td>1</td>\n",
       "      <td>1</td>\n",
       "      <td>0</td>\n",
       "      <td>0</td>\n",
       "      <td>True</td>\n",
       "      <td>True</td>\n",
       "    </tr>\n",
       "    <tr>\n",
       "      <th>29992</th>\n",
       "      <td>0.000000</td>\n",
       "      <td>0.379310</td>\n",
       "      <td>0.154308</td>\n",
       "      <td>0.076090</td>\n",
       "      <td>0.086345</td>\n",
       "      <td>0.160138</td>\n",
       "      <td>0.080648</td>\n",
       "      <td>0.260979</td>\n",
       "      <td>0.002290</td>\n",
       "      <td>0.000000</td>\n",
       "      <td>...</td>\n",
       "      <td>1</td>\n",
       "      <td>0</td>\n",
       "      <td>0</td>\n",
       "      <td>0</td>\n",
       "      <td>1</td>\n",
       "      <td>1</td>\n",
       "      <td>0</td>\n",
       "      <td>0</td>\n",
       "      <td>False</td>\n",
       "      <td>False</td>\n",
       "    </tr>\n",
       "    <tr>\n",
       "      <th>29993</th>\n",
       "      <td>0.090909</td>\n",
       "      <td>0.293103</td>\n",
       "      <td>0.149211</td>\n",
       "      <td>0.067575</td>\n",
       "      <td>0.142894</td>\n",
       "      <td>0.226667</td>\n",
       "      <td>0.149535</td>\n",
       "      <td>0.303248</td>\n",
       "      <td>0.002290</td>\n",
       "      <td>0.066370</td>\n",
       "      <td>...</td>\n",
       "      <td>0</td>\n",
       "      <td>0</td>\n",
       "      <td>0</td>\n",
       "      <td>0</td>\n",
       "      <td>1</td>\n",
       "      <td>0</td>\n",
       "      <td>0</td>\n",
       "      <td>1</td>\n",
       "      <td>False</td>\n",
       "      <td>False</td>\n",
       "    </tr>\n",
       "    <tr>\n",
       "      <th>29994</th>\n",
       "      <td>0.070707</td>\n",
       "      <td>0.224138</td>\n",
       "      <td>0.210724</td>\n",
       "      <td>0.139968</td>\n",
       "      <td>0.129930</td>\n",
       "      <td>0.233160</td>\n",
       "      <td>0.162558</td>\n",
       "      <td>0.323347</td>\n",
       "      <td>0.008013</td>\n",
       "      <td>0.002078</td>\n",
       "      <td>...</td>\n",
       "      <td>0</td>\n",
       "      <td>0</td>\n",
       "      <td>1</td>\n",
       "      <td>0</td>\n",
       "      <td>1</td>\n",
       "      <td>0</td>\n",
       "      <td>0</td>\n",
       "      <td>1</td>\n",
       "      <td>True</td>\n",
       "      <td>True</td>\n",
       "    </tr>\n",
       "    <tr>\n",
       "      <th>29995</th>\n",
       "      <td>0.212121</td>\n",
       "      <td>0.310345</td>\n",
       "      <td>0.313716</td>\n",
       "      <td>0.249208</td>\n",
       "      <td>0.200746</td>\n",
       "      <td>0.243036</td>\n",
       "      <td>0.111622</td>\n",
       "      <td>0.273259</td>\n",
       "      <td>0.009730</td>\n",
       "      <td>0.011875</td>\n",
       "      <td>...</td>\n",
       "      <td>1</td>\n",
       "      <td>0</td>\n",
       "      <td>0</td>\n",
       "      <td>0</td>\n",
       "      <td>1</td>\n",
       "      <td>1</td>\n",
       "      <td>0</td>\n",
       "      <td>0</td>\n",
       "      <td>False</td>\n",
       "      <td>False</td>\n",
       "    </tr>\n",
       "    <tr>\n",
       "      <th>29996</th>\n",
       "      <td>0.141414</td>\n",
       "      <td>0.379310</td>\n",
       "      <td>0.148008</td>\n",
       "      <td>0.067955</td>\n",
       "      <td>0.088267</td>\n",
       "      <td>0.168596</td>\n",
       "      <td>0.085794</td>\n",
       "      <td>0.260979</td>\n",
       "      <td>0.002103</td>\n",
       "      <td>0.002094</td>\n",
       "      <td>...</td>\n",
       "      <td>1</td>\n",
       "      <td>0</td>\n",
       "      <td>0</td>\n",
       "      <td>0</td>\n",
       "      <td>1</td>\n",
       "      <td>0</td>\n",
       "      <td>0</td>\n",
       "      <td>1</td>\n",
       "      <td>False</td>\n",
       "      <td>False</td>\n",
       "    </tr>\n",
       "    <tr>\n",
       "      <th>29997</th>\n",
       "      <td>0.020202</td>\n",
       "      <td>0.275862</td>\n",
       "      <td>0.149674</td>\n",
       "      <td>0.069405</td>\n",
       "      <td>0.087859</td>\n",
       "      <td>0.179805</td>\n",
       "      <td>0.101057</td>\n",
       "      <td>0.275854</td>\n",
       "      <td>0.000000</td>\n",
       "      <td>0.000000</td>\n",
       "      <td>...</td>\n",
       "      <td>0</td>\n",
       "      <td>0</td>\n",
       "      <td>1</td>\n",
       "      <td>0</td>\n",
       "      <td>1</td>\n",
       "      <td>0</td>\n",
       "      <td>0</td>\n",
       "      <td>1</td>\n",
       "      <td>True</td>\n",
       "      <td>False</td>\n",
       "    </tr>\n",
       "    <tr>\n",
       "      <th>29998</th>\n",
       "      <td>0.070707</td>\n",
       "      <td>0.344828</td>\n",
       "      <td>0.145064</td>\n",
       "      <td>0.140604</td>\n",
       "      <td>0.128239</td>\n",
       "      <td>0.209850</td>\n",
       "      <td>0.092403</td>\n",
       "      <td>0.298591</td>\n",
       "      <td>0.098334</td>\n",
       "      <td>0.002024</td>\n",
       "      <td>...</td>\n",
       "      <td>1</td>\n",
       "      <td>0</td>\n",
       "      <td>0</td>\n",
       "      <td>0</td>\n",
       "      <td>1</td>\n",
       "      <td>1</td>\n",
       "      <td>0</td>\n",
       "      <td>0</td>\n",
       "      <td>True</td>\n",
       "      <td>False</td>\n",
       "    </tr>\n",
       "    <tr>\n",
       "      <th>29999</th>\n",
       "      <td>0.040404</td>\n",
       "      <td>0.431034</td>\n",
       "      <td>0.188931</td>\n",
       "      <td>0.112633</td>\n",
       "      <td>0.113667</td>\n",
       "      <td>0.194553</td>\n",
       "      <td>0.112803</td>\n",
       "      <td>0.272746</td>\n",
       "      <td>0.002379</td>\n",
       "      <td>0.001069</td>\n",
       "      <td>...</td>\n",
       "      <td>0</td>\n",
       "      <td>0</td>\n",
       "      <td>1</td>\n",
       "      <td>0</td>\n",
       "      <td>1</td>\n",
       "      <td>1</td>\n",
       "      <td>0</td>\n",
       "      <td>0</td>\n",
       "      <td>False</td>\n",
       "      <td>False</td>\n",
       "    </tr>\n",
       "  </tbody>\n",
       "</table>\n",
       "<p>30000 rows × 31 columns</p>\n",
       "</div>"
      ],
      "text/plain": [
       "       overall_credit       age   ba_sept    ba_aug   ba_july   ba_june  \\\n",
       "0            0.010101  0.051724  0.149982  0.069164  0.086723  0.160138   \n",
       "1            0.111111  0.086207  0.148892  0.067858  0.087817  0.163220   \n",
       "2            0.080808  0.224138  0.172392  0.079532  0.093789  0.173637   \n",
       "3            0.040404  0.275862  0.188100  0.111995  0.113407  0.186809   \n",
       "4            0.040404  0.620690  0.154144  0.071601  0.106020  0.179863   \n",
       "5            0.040404  0.275862  0.203506  0.120381  0.117974  0.178407   \n",
       "6            0.494949  0.137931  0.472126  0.457242  0.330672  0.671310   \n",
       "7            0.090909  0.034483  0.157028  0.066581  0.086675  0.160346   \n",
       "8            0.131313  0.120690  0.156505  0.079598  0.092992  0.171640   \n",
       "9            0.010101  0.241379  0.146519  0.066220  0.086345  0.160138   \n",
       "10           0.191919  0.224138  0.156318  0.075509  0.089384  0.162505   \n",
       "11           0.252525  0.517241  0.157369  0.086786  0.091816  0.168161   \n",
       "12           0.626263  0.344828  0.157259  0.072389  0.089913  0.166261   \n",
       "13           0.060606  0.155172  0.204746  0.130156  0.122417  0.223046   \n",
       "14           0.242424  0.137931  0.209246  0.129862  0.121242  0.216371   \n",
       "15           0.040404  0.034483  0.191307  0.093906  0.101781  0.187240   \n",
       "16           0.010101  0.051724  0.160125  0.083312  0.095913  0.177412   \n",
       "17           0.313131  0.482759  0.370648  0.300190  0.193223  0.226147   \n",
       "18           0.353535  0.482759  0.146519  0.066220  0.086345  0.160138   \n",
       "19           0.171717  0.137931  0.146519  0.066220  0.086345  0.160138   \n",
       "20           0.121212  0.310345  0.180462  0.092497  0.099790  0.179558   \n",
       "21           0.111111  0.310345  0.146799  0.066520  0.086518  0.160138   \n",
       "22           0.060606  0.086207  0.182876  0.106502  0.111062  0.201591   \n",
       "23           0.444444  0.327586  0.151397  0.084651  0.087153  0.160665   \n",
       "24           0.080808  0.034483  0.150717  0.072930  0.086345  0.165223   \n",
       "25           0.040404  0.034483  0.188657  0.105899  0.106123  0.187424   \n",
       "26           0.050505  0.103448  0.146423  0.065817  0.086487  0.160084   \n",
       "27           0.040404  0.155172  0.166465  0.081536  0.095768  0.176979   \n",
       "28           0.040404  0.448276  0.147094  0.069461  0.088220  0.162059   \n",
       "29           0.040404  0.086207  0.160084  0.081951  0.095951  0.177006   \n",
       "...               ...       ...       ...       ...       ...       ...   \n",
       "29970        0.353535  0.224138  0.176299  0.116221  0.121521  0.206300   \n",
       "29971        0.070707  0.258621  0.204527  0.129671  0.123833  0.225770   \n",
       "29972        0.181818  0.275862  0.165657  0.086049  0.089567  0.187665   \n",
       "29973        0.222222  0.241379  0.146519  0.066220  0.086345  0.160138   \n",
       "29974        0.040404  0.275862  0.156168  0.075062  0.088721  0.162819   \n",
       "29975        0.212121  0.344828  0.186405  0.074610  0.087096  0.165718   \n",
       "29976        0.030303  0.448276  0.192850  0.118315  0.115672  0.208423   \n",
       "29977        0.414141  0.224138  0.263270  0.195973  0.163217  0.293613   \n",
       "29978        0.303030  0.310345  0.357983  0.291326  0.214740  0.366818   \n",
       "29979        0.171717  0.189655  0.146519  0.066220  0.086345  0.160138   \n",
       "29980        0.040404  0.362069  0.185452  0.112840  0.113466  0.207576   \n",
       "29981        0.040404  0.396552  0.180739  0.101118  0.104518  0.186694   \n",
       "29982        0.080808  0.258621  0.153379  0.074868  0.092003  0.170809   \n",
       "29983        0.010101  0.396552  0.148131  0.068946  0.087834  0.162853   \n",
       "29984        0.020202  0.293103  0.146798  0.067096  0.087958  0.162015   \n",
       "29985        0.232323  0.155172  0.146519  0.066220  0.086345  0.160138   \n",
       "29986        0.353535  0.241379  0.148484  0.066220  0.086345  0.160138   \n",
       "29987        0.121212  0.224138  0.167130  0.079580  0.094880  0.261917   \n",
       "29988        0.242424  0.224138  0.393968  0.306242  0.219803  0.391631   \n",
       "29989        0.141414  0.241379  0.149550  0.074770  0.086343  0.160873   \n",
       "29990        0.131313  0.344828  0.268921  0.196372  0.162722  0.290379   \n",
       "29991        0.202020  0.224138  0.148731  0.068593  0.087717  0.162493   \n",
       "29992        0.000000  0.379310  0.154308  0.076090  0.086345  0.160138   \n",
       "29993        0.090909  0.293103  0.149211  0.067575  0.142894  0.226667   \n",
       "29994        0.070707  0.224138  0.210724  0.139968  0.129930  0.233160   \n",
       "29995        0.212121  0.310345  0.313716  0.249208  0.200746  0.243036   \n",
       "29996        0.141414  0.379310  0.148008  0.067955  0.088267  0.168596   \n",
       "29997        0.020202  0.275862  0.149674  0.069405  0.087859  0.179805   \n",
       "29998        0.070707  0.344828  0.145064  0.140604  0.128239  0.209850   \n",
       "29999        0.040404  0.431034  0.188931  0.112633  0.113667  0.194553   \n",
       "\n",
       "       ba_april    ba_may   pp_sept    pp_aug       ...         \\\n",
       "0      0.080648  0.260979  0.000000  0.000409       ...          \n",
       "1      0.084074  0.263485  0.000000  0.000594       ...          \n",
       "2      0.095470  0.272928  0.001738  0.000891       ...          \n",
       "3      0.109363  0.283685  0.002290  0.001199       ...          \n",
       "4      0.099633  0.275681  0.002290  0.021779       ...          \n",
       "5      0.100102  0.276367  0.002862  0.001078       ...          \n",
       "6      0.559578  0.625196  0.062961  0.023749       ...          \n",
       "7      0.080490  0.261414  0.000435  0.000357       ...          \n",
       "8      0.092342  0.263837  0.003811  0.000000       ...          \n",
       "9      0.093545  0.271670  0.000000  0.000000       ...          \n",
       "10     0.082461  0.263846  0.002640  0.000007       ...          \n",
       "11     0.102747  0.271482  0.024976  0.005917       ...          \n",
       "12     0.087093  0.263184  0.001145  0.003859       ...          \n",
       "13     0.116480  0.289331  0.003663  0.000000       ...          \n",
       "14     0.137043  0.303639  0.003434  0.001781       ...          \n",
       "15     0.109930  0.284195  0.000000  0.000891       ...          \n",
       "16     0.098402  0.275660  0.003663  0.000000       ...          \n",
       "17     0.086455  0.411293  0.011857  0.005937       ...          \n",
       "18     0.080648  0.260979  0.000000  0.000000       ...          \n",
       "19     0.080648  0.260979  0.000000  0.000000       ...          \n",
       "20     0.092351  0.261693  0.003434  0.000913       ...          \n",
       "21     0.081275  0.261222  0.000362  0.000188       ...          \n",
       "22     0.127158  0.296338  0.002298  0.002127       ...          \n",
       "23     0.080648  0.260979  0.022240  0.000875       ...          \n",
       "24     0.086954  0.267351  0.006590  0.000000       ...          \n",
       "25     0.110226  0.284069  0.002259  0.000847       ...          \n",
       "26     0.080774  0.260833  0.000000  0.000594       ...          \n",
       "27     0.099419  0.276054  0.001488  0.000772       ...          \n",
       "28     0.110821  0.261176  0.003909  0.002031       ...          \n",
       "29     0.098868  0.269739  0.001717  0.000891       ...          \n",
       "...         ...       ...       ...       ...       ...          \n",
       "29970  0.089251  0.275954  0.060616  0.038317       ...          \n",
       "29971  0.151119  0.317548  0.002742  0.001484       ...          \n",
       "29972  0.100099  0.375084  0.002290  0.002297       ...          \n",
       "29973  0.080648  0.260979  0.000000  0.000000       ...          \n",
       "29974  0.082220  0.261996  0.000000  0.001781       ...          \n",
       "29975  0.082392  0.262380  0.010120  0.003944       ...          \n",
       "29976  0.127401  0.297047  0.004579  0.000000       ...          \n",
       "29977  0.224266  0.374679  0.008013  0.004156       ...          \n",
       "29978  0.295362  0.422879  0.011481  0.005473       ...          \n",
       "29979  0.080648  0.260979  0.000000  0.000000       ...          \n",
       "29980  0.100451  0.276113  0.011448  0.002375       ...          \n",
       "29981  0.103133  0.272235  0.002633  0.001009       ...          \n",
       "29982  0.092583  0.271990  0.001717  0.000891       ...          \n",
       "29983  0.089805  0.262300  0.003308  0.001615       ...          \n",
       "29984  0.082539  0.263529  0.001057  0.001768       ...          \n",
       "29985  0.080648  0.260979  0.000000  0.000000       ...          \n",
       "29986  0.080648  0.260979  0.000000  0.000000       ...          \n",
       "29987  0.173566  0.335793  0.003434  0.001187       ...          \n",
       "29988  0.254177  0.399065  0.074409  0.005225       ...          \n",
       "29989  0.080648  0.260979  0.010365  0.000000       ...          \n",
       "29990  0.129904  0.296422  0.006869  0.004156       ...          \n",
       "29991  0.083127  0.262900  0.000000  0.000000       ...          \n",
       "29992  0.080648  0.260979  0.002290  0.000000       ...          \n",
       "29993  0.149535  0.303248  0.002290  0.066370       ...          \n",
       "29994  0.162558  0.323347  0.008013  0.002078       ...          \n",
       "29995  0.111622  0.273259  0.009730  0.011875       ...          \n",
       "29996  0.085794  0.260979  0.002103  0.002094       ...          \n",
       "29997  0.101057  0.275854  0.000000  0.000000       ...          \n",
       "29998  0.092403  0.298591  0.098334  0.002024       ...          \n",
       "29999  0.112803  0.272746  0.002379  0.001069       ...          \n",
       "\n",
       "       education_high_school  education_others  education_university  \\\n",
       "0                          0                 0                     1   \n",
       "1                          0                 0                     1   \n",
       "2                          0                 0                     1   \n",
       "3                          0                 0                     1   \n",
       "4                          0                 0                     1   \n",
       "5                          0                 0                     0   \n",
       "6                          0                 0                     0   \n",
       "7                          0                 0                     1   \n",
       "8                          1                 0                     0   \n",
       "9                          1                 0                     0   \n",
       "10                         1                 0                     0   \n",
       "11                         0                 0                     0   \n",
       "12                         0                 0                     1   \n",
       "13                         0                 0                     1   \n",
       "14                         0                 0                     0   \n",
       "15                         1                 0                     0   \n",
       "16                         0                 0                     0   \n",
       "17                         0                 0                     0   \n",
       "18                         0                 0                     0   \n",
       "19                         0                 0                     0   \n",
       "20                         1                 0                     0   \n",
       "21                         0                 0                     1   \n",
       "22                         0                 0                     1   \n",
       "23                         0                 0                     0   \n",
       "24                         0                 0                     0   \n",
       "25                         1                 0                     0   \n",
       "26                         0                 0                     0   \n",
       "27                         1                 0                     0   \n",
       "28                         1                 0                     0   \n",
       "29                         0                 0                     0   \n",
       "...                      ...               ...                   ...   \n",
       "29970                      0                 0                     0   \n",
       "29971                      1                 0                     0   \n",
       "29972                      0                 0                     0   \n",
       "29973                      0                 0                     1   \n",
       "29974                      0                 0                     1   \n",
       "29975                      0                 0                     1   \n",
       "29976                      0                 0                     1   \n",
       "29977                      0                 0                     0   \n",
       "29978                      0                 0                     1   \n",
       "29979                      0                 0                     0   \n",
       "29980                      1                 0                     0   \n",
       "29981                      0                 0                     1   \n",
       "29982                      0                 0                     1   \n",
       "29983                      0                 0                     1   \n",
       "29984                      0                 0                     1   \n",
       "29985                      0                 0                     0   \n",
       "29986                      0                 0                     0   \n",
       "29987                      0                 0                     0   \n",
       "29988                      0                 0                     0   \n",
       "29989                      0                 0                     0   \n",
       "29990                      0                 0                     1   \n",
       "29991                      0                 0                     1   \n",
       "29992                      1                 0                     0   \n",
       "29993                      0                 0                     0   \n",
       "29994                      0                 0                     1   \n",
       "29995                      1                 0                     0   \n",
       "29996                      1                 0                     0   \n",
       "29997                      0                 0                     1   \n",
       "29998                      1                 0                     0   \n",
       "29999                      0                 0                     1   \n",
       "\n",
       "       gender_female  gender_male  marital_status_married  \\\n",
       "0                  1            0                       1   \n",
       "1                  1            0                       0   \n",
       "2                  1            0                       0   \n",
       "3                  1            0                       1   \n",
       "4                  0            1                       1   \n",
       "5                  0            1                       0   \n",
       "6                  0            1                       0   \n",
       "7                  1            0                       0   \n",
       "8                  1            0                       1   \n",
       "9                  0            1                       0   \n",
       "10                 1            0                       0   \n",
       "11                 1            0                       0   \n",
       "12                 1            0                       0   \n",
       "13                 0            1                       0   \n",
       "14                 0            1                       0   \n",
       "15                 1            0                       0   \n",
       "16                 0            1                       0   \n",
       "17                 0            1                       1   \n",
       "18                 1            0                       1   \n",
       "19                 1            0                       0   \n",
       "20                 1            0                       0   \n",
       "21                 1            0                       1   \n",
       "22                 1            0                       0   \n",
       "23                 1            0                       1   \n",
       "24                 0            1                       0   \n",
       "25                 0            1                       0   \n",
       "26                 0            1                       0   \n",
       "27                 1            0                       0   \n",
       "28                 1            0                       1   \n",
       "29                 0            1                       0   \n",
       "...              ...          ...                     ...   \n",
       "29970              0            1                       1   \n",
       "29971              0            1                       1   \n",
       "29972              0            1                       1   \n",
       "29973              0            1                       1   \n",
       "29974              0            1                       1   \n",
       "29975              0            1                       1   \n",
       "29976              0            1                       0   \n",
       "29977              0            1                       0   \n",
       "29978              0            1                       1   \n",
       "29979              0            1                       1   \n",
       "29980              0            1                       0   \n",
       "29981              0            1                       1   \n",
       "29982              0            1                       1   \n",
       "29983              0            1                       1   \n",
       "29984              0            1                       0   \n",
       "29985              0            1                       0   \n",
       "29986              0            1                       0   \n",
       "29987              0            1                       0   \n",
       "29988              0            1                       1   \n",
       "29989              0            1                       0   \n",
       "29990              0            1                       1   \n",
       "29991              0            1                       1   \n",
       "29992              0            1                       1   \n",
       "29993              0            1                       0   \n",
       "29994              0            1                       0   \n",
       "29995              0            1                       1   \n",
       "29996              0            1                       0   \n",
       "29997              0            1                       0   \n",
       "29998              0            1                       1   \n",
       "29999              0            1                       1   \n",
       "\n",
       "       marital_status_others  marital_status_single  any_rps_delayed  \\\n",
       "0                          0                      0             True   \n",
       "1                          0                      1             True   \n",
       "2                          0                      1            False   \n",
       "3                          0                      0            False   \n",
       "4                          0                      0            False   \n",
       "5                          0                      1            False   \n",
       "6                          0                      1            False   \n",
       "7                          0                      1            False   \n",
       "8                          0                      0             True   \n",
       "9                          0                      1            False   \n",
       "10                         0                      1             True   \n",
       "11                         0                      1             True   \n",
       "12                         0                      1            False   \n",
       "13                         0                      1             True   \n",
       "14                         0                      1            False   \n",
       "15                         1                      0             True   \n",
       "16                         0                      1             True   \n",
       "17                         0                      0            False   \n",
       "18                         0                      0             True   \n",
       "19                         0                      1             True   \n",
       "20                         0                      1            False   \n",
       "21                         0                      0            False   \n",
       "22                         0                      1             True   \n",
       "23                         0                      0            False   \n",
       "24                         0                      1            False   \n",
       "25                         0                      1            False   \n",
       "26                         0                      1             True   \n",
       "27                         0                      1            False   \n",
       "28                         0                      0            False   \n",
       "29                         0                      1            False   \n",
       "...                      ...                    ...              ...   \n",
       "29970                      0                      0            False   \n",
       "29971                      0                      0            False   \n",
       "29972                      0                      0            False   \n",
       "29973                      0                      0             True   \n",
       "29974                      0                      0             True   \n",
       "29975                      0                      0            False   \n",
       "29976                      0                      1             True   \n",
       "29977                      0                      1            False   \n",
       "29978                      0                      0            False   \n",
       "29979                      0                      0            False   \n",
       "29980                      0                      1            False   \n",
       "29981                      0                      0             True   \n",
       "29982                      0                      0            False   \n",
       "29983                      0                      0            False   \n",
       "29984                      0                      1            False   \n",
       "29985                      0                      1            False   \n",
       "29986                      0                      1            False   \n",
       "29987                      0                      1            False   \n",
       "29988                      0                      0            False   \n",
       "29989                      0                      1            False   \n",
       "29990                      0                      0            False   \n",
       "29991                      0                      0             True   \n",
       "29992                      0                      0            False   \n",
       "29993                      0                      1            False   \n",
       "29994                      0                      1             True   \n",
       "29995                      0                      0            False   \n",
       "29996                      0                      1            False   \n",
       "29997                      0                      1             True   \n",
       "29998                      0                      0             True   \n",
       "29999                      0                      0            False   \n",
       "\n",
       "       all_rps_delayed  \n",
       "0                False  \n",
       "1                False  \n",
       "2                False  \n",
       "3                False  \n",
       "4                False  \n",
       "5                False  \n",
       "6                False  \n",
       "7                False  \n",
       "8                False  \n",
       "9                False  \n",
       "10               False  \n",
       "11               False  \n",
       "12               False  \n",
       "13               False  \n",
       "14               False  \n",
       "15               False  \n",
       "16               False  \n",
       "17               False  \n",
       "18               False  \n",
       "19               False  \n",
       "20               False  \n",
       "21               False  \n",
       "22               False  \n",
       "23               False  \n",
       "24               False  \n",
       "25               False  \n",
       "26               False  \n",
       "27               False  \n",
       "28               False  \n",
       "29               False  \n",
       "...                ...  \n",
       "29970            False  \n",
       "29971            False  \n",
       "29972            False  \n",
       "29973            False  \n",
       "29974            False  \n",
       "29975            False  \n",
       "29976             True  \n",
       "29977            False  \n",
       "29978            False  \n",
       "29979            False  \n",
       "29980            False  \n",
       "29981            False  \n",
       "29982            False  \n",
       "29983            False  \n",
       "29984            False  \n",
       "29985            False  \n",
       "29986            False  \n",
       "29987            False  \n",
       "29988            False  \n",
       "29989            False  \n",
       "29990            False  \n",
       "29991             True  \n",
       "29992            False  \n",
       "29993            False  \n",
       "29994             True  \n",
       "29995            False  \n",
       "29996            False  \n",
       "29997            False  \n",
       "29998            False  \n",
       "29999            False  \n",
       "\n",
       "[30000 rows x 31 columns]"
      ]
     },
     "execution_count": 40,
     "metadata": {},
     "output_type": "execute_result"
    }
   ],
   "source": [
    "# encoded_scaled_data"
   ]
  },
  {
   "cell_type": "code",
   "execution_count": 41,
   "metadata": {},
   "outputs": [],
   "source": [
    "target_attribute = eda_credit_data[\"defaultp_next_month\"]"
   ]
  },
  {
   "cell_type": "code",
   "execution_count": 42,
   "metadata": {},
   "outputs": [],
   "source": [
    "data = pd.concat([encoded_scaled_data, target_attribute], axis = 1)\n",
    "data = data[data[\"all_rps_delayed\"] != True]\n",
    "data = data[data[\"ba_april\"] >= 0]\n",
    "data = data[data[\"ba_june\"] >= 0]\n",
    "target_attribute = data['defaultp_next_month']\n",
    "data = data.drop('defaultp_next_month', axis = 1)"
   ]
  },
  {
   "cell_type": "code",
   "execution_count": 43,
   "metadata": {},
   "outputs": [
    {
     "data": {
      "image/png": "[encoded data removed]",
      "text/plain": [
       "<Figure size 432x288 with 1 Axes>"
      ]
     },
     "metadata": {},
     "output_type": "display_data"
    }
   ],
   "source": [
    "from sklearn.decomposition import PCA\n",
    "pca = PCA(n_components= 31)\n",
    "pca.fit(data)\n",
    "var1=np.cumsum(np.round(pca.explained_variance_ratio_, decimals=4)*100)\n",
    "plt.plot(var1)\n",
    "plt.show()"
   ]
  },
  {
   "cell_type": "code",
   "execution_count": 44,
   "metadata": {},
   "outputs": [],
   "source": [
    "pca = PCA(n_components = 12)\n",
    "pca.fit(data)\n",
    "pca_data = pca.fit_transform(data)"
   ]
  },
  {
   "cell_type": "code",
   "execution_count": 45,
   "metadata": {},
   "outputs": [
    {
     "data": {
      "text/plain": [
       "(28659, 31)"
      ]
     },
     "execution_count": 45,
     "metadata": {},
     "output_type": "execute_result"
    }
   ],
   "source": [
    "data.shape"
   ]
  },
  {
   "cell_type": "code",
   "execution_count": 46,
   "metadata": {},
   "outputs": [
    {
     "data": {
      "text/plain": [
       "(28659,)"
      ]
     },
     "execution_count": 46,
     "metadata": {},
     "output_type": "execute_result"
    }
   ],
   "source": [
    "target_attribute.shape"
   ]
  },
  {
   "cell_type": "code",
   "execution_count": 47,
   "metadata": {},
   "outputs": [],
   "source": [
    "X_train, X_test, y_train, y_test = train_test_split(pca_data, target_attribute, test_size=0.2)"
   ]
  },
  {
   "cell_type": "code",
   "execution_count": 48,
   "metadata": {},
   "outputs": [
    {
     "data": {
      "text/plain": [
       "(22927, 12)"
      ]
     },
     "execution_count": 48,
     "metadata": {},
     "output_type": "execute_result"
    }
   ],
   "source": [
    "X_train.shape"
   ]
  },
  {
   "cell_type": "code",
   "execution_count": 49,
   "metadata": {},
   "outputs": [
    {
     "data": {
      "text/plain": [
       "(5732, 12)"
      ]
     },
     "execution_count": 49,
     "metadata": {},
     "output_type": "execute_result"
    }
   ],
   "source": [
    "X_test.shape"
   ]
  },
  {
   "cell_type": "code",
   "execution_count": 50,
   "metadata": {},
   "outputs": [],
   "source": [
    "clf = []\n",
    "clf = SVC(kernel='poly')\n",
    "clf.fit(X_train, y_train)\n",
    "predicted_label = clf.predict(X_test)"
   ]
  },
  {
   "cell_type": "code",
   "execution_count": 96,
   "metadata": {},
   "outputs": [
    {
     "name": "stdout",
     "output_type": "stream",
     "text": [
      "Average Accuracy: 81.18 +/- (0.0) %\n",
      "Average Precision: 69.57 +/- (0.0) %\n",
      "Average Recall: 60.13 +/- (0.0) %\n",
      "Average F1-Score: 61.86 +/- (0.0) %\n",
      "[[4366  231]\n",
      " [ 848  287]]\n"
     ]
    }
   ],
   "source": [
    "Accuracy_Score = accuracy_score(y_test, predicted_label)\n",
    "Precision_Score = precision_score(y_test, predicted_label,  average=\"macro\")\n",
    "Recall_Score = recall_score(y_test, predicted_label,  average=\"macro\")\n",
    "F1_Score = f1_score(y_test, predicted_label,  average=\"macro\")\n",
    "\n",
    "print('Average Accuracy: %0.2f +/- (%0.1f) %%' % (Accuracy_Score.mean()*100, Accuracy_Score.std()*100))\n",
    "print('Average Precision: %0.2f +/- (%0.1f) %%' % (Precision_Score.mean()*100, Precision_Score.std()*100))\n",
    "print('Average Recall: %0.2f +/- (%0.1f) %%' % (Recall_Score.mean()*100, Recall_Score.std()*100))\n",
    "print('Average F1-Score: %0.2f +/- (%0.1f) %%' % (F1_Score.mean()*100, F1_Score.std()*100))\n",
    "CM = confusion_matrix(y_test, predicted_label)\n",
    "print(CM)\n"
   ]
  },
  {
   "cell_type": "code",
   "execution_count": 97,
   "metadata": {},
   "outputs": [],
   "source": [
    "clf = []\n",
    "clf = SVC(kernel='rbf')\n",
    "clf.fit(X_train, y_train)\n",
    "predicted_label = clf.predict(X_test)"
   ]
  },
  {
   "cell_type": "code",
   "execution_count": 98,
   "metadata": {},
   "outputs": [
    {
     "name": "stdout",
     "output_type": "stream",
     "text": [
      "Average Accuracy: 82.19 +/- (0.0) %\n",
      "Average Precision: 73.56 +/- (0.0) %\n",
      "Average Recall: 60.16 +/- (0.0) %\n",
      "Average F1-Score: 62.10 +/- (0.0) %\n",
      "[[4442  155]\n",
      " [ 866  269]]\n"
     ]
    }
   ],
   "source": [
    "Accuracy_Score = accuracy_score(y_test, predicted_label)\n",
    "Precision_Score = precision_score(y_test, predicted_label,  average=\"macro\")\n",
    "Recall_Score = recall_score(y_test, predicted_label,  average=\"macro\")\n",
    "F1_Score = f1_score(y_test, predicted_label,  average=\"macro\")\n",
    "\n",
    "print('Average Accuracy: %0.2f +/- (%0.1f) %%' % (Accuracy_Score.mean()*100, Accuracy_Score.std()*100))\n",
    "print('Average Precision: %0.2f +/- (%0.1f) %%' % (Precision_Score.mean()*100, Precision_Score.std()*100))\n",
    "print('Average Recall: %0.2f +/- (%0.1f) %%' % (Recall_Score.mean()*100, Recall_Score.std()*100))\n",
    "print('Average F1-Score: %0.2f +/- (%0.1f) %%' % (F1_Score.mean()*100, F1_Score.std()*100))\n",
    "CM = confusion_matrix(y_test, predicted_label)\n",
    "print(CM)\n",
    "# fpr, tpr = metrics.roc_curve(y_test, predicted_label)\n",
    "# print(metrics.auc(fpr, tpr))"
   ]
  },
  {
   "cell_type": "code",
   "execution_count": 99,
   "metadata": {},
   "outputs": [],
   "source": [
    "def svc_param_selection(X, y, nfolds):\n",
    "    Cs = [0.01, 0.1, 1]\n",
    "    gammas = [0.01, 0.1, 1]\n",
    "    param_grid = {'C': Cs, 'gamma' : gammas}\n",
    "    grid_search = GridSearchCV(SVC(kernel='rbf'), param_grid, cv=nfolds)\n",
    "    grid_search.fit(X, y)\n",
    "    grid_search.best_params_\n",
    "    return grid_search.best_params_"
   ]
  },
  {
   "cell_type": "code",
   "execution_count": 100,
   "metadata": {},
   "outputs": [],
   "source": [
    "# print(svc_param_selection(X_train, y_train, 5))"
   ]
  },
  {
   "cell_type": "code",
   "execution_count": 101,
   "metadata": {},
   "outputs": [],
   "source": [
    "clf = []\n",
    "clf = SVC(kernel='rbf', C = 1, gamma = 0.1)\n",
    "clf.fit(X_train, y_train)\n",
    "predicted_label = clf.predict(X_test)"
   ]
  },
  {
   "cell_type": "code",
   "execution_count": 102,
   "metadata": {},
   "outputs": [
    {
     "name": "stdout",
     "output_type": "stream",
     "text": [
      "Average Accuracy: 82.15 +/- (0.0) %\n",
      "Average Precision: 73.36 +/- (0.0) %\n",
      "Average Recall: 60.21 +/- (0.0) %\n",
      "Average F1-Score: 62.15 +/- (0.0) %\n",
      "[[4438  159]\n",
      " [ 864  271]]\n"
     ]
    }
   ],
   "source": [
    "Accuracy_Score = accuracy_score(y_test, predicted_label)\n",
    "Precision_Score = precision_score(y_test, predicted_label,  average=\"macro\")\n",
    "Recall_Score = recall_score(y_test, predicted_label,  average=\"macro\")\n",
    "F1_Score = f1_score(y_test, predicted_label,  average=\"macro\")\n",
    "\n",
    "print('Average Accuracy: %0.2f +/- (%0.1f) %%' % (Accuracy_Score.mean()*100, Accuracy_Score.std()*100))\n",
    "print('Average Precision: %0.2f +/- (%0.1f) %%' % (Precision_Score.mean()*100, Precision_Score.std()*100))\n",
    "print('Average Recall: %0.2f +/- (%0.1f) %%' % (Recall_Score.mean()*100, Recall_Score.std()*100))\n",
    "print('Average F1-Score: %0.2f +/- (%0.1f) %%' % (F1_Score.mean()*100, F1_Score.std()*100))\n",
    "CM = confusion_matrix(y_test, predicted_label)\n",
    "print(CM)"
   ]
  },
  {
   "cell_type": "code",
   "execution_count": 103,
   "metadata": {},
   "outputs": [],
   "source": [
    "clf = MLPClassifier(solver='lbfgs', alpha=1e-2, hidden_layer_sizes=(10, 10), random_state=1)"
   ]
  },
  {
   "cell_type": "code",
   "execution_count": 104,
   "metadata": {},
   "outputs": [
    {
     "data": {
      "text/plain": [
       "MLPClassifier(activation='relu', alpha=0.01, batch_size='auto', beta_1=0.9,\n",
       "       beta_2=0.999, early_stopping=False, epsilon=1e-08,\n",
       "       hidden_layer_sizes=(10, 10), learning_rate='constant',\n",
       "       learning_rate_init=0.001, max_iter=200, momentum=0.9,\n",
       "       nesterovs_momentum=True, power_t=0.5, random_state=1, shuffle=True,\n",
       "       solver='lbfgs', tol=0.0001, validation_fraction=0.1, verbose=False,\n",
       "       warm_start=False)"
      ]
     },
     "execution_count": 104,
     "metadata": {},
     "output_type": "execute_result"
    }
   ],
   "source": [
    "clf.fit(X_train, y_train) "
   ]
  },
  {
   "cell_type": "code",
   "execution_count": 105,
   "metadata": {},
   "outputs": [
    {
     "name": "stdout",
     "output_type": "stream",
     "text": [
      "Average Accuracy: 82.15 +/- (0.0) %\n",
      "Average Precision: 73.36 +/- (0.0) %\n",
      "Average Recall: 60.21 +/- (0.0) %\n",
      "Average F1-Score: 62.15 +/- (0.0) %\n",
      "[[4438  159]\n",
      " [ 864  271]]\n"
     ]
    }
   ],
   "source": [
    "Accuracy_Score = accuracy_score(y_test, predicted_label)\n",
    "Precision_Score = precision_score(y_test, predicted_label,  average=\"macro\")\n",
    "Recall_Score = recall_score(y_test, predicted_label,  average=\"macro\")\n",
    "F1_Score = f1_score(y_test, predicted_label,  average=\"macro\")\n",
    "\n",
    "print('Average Accuracy: %0.2f +/- (%0.1f) %%' % (Accuracy_Score.mean()*100, Accuracy_Score.std()*100))\n",
    "print('Average Precision: %0.2f +/- (%0.1f) %%' % (Precision_Score.mean()*100, Precision_Score.std()*100))\n",
    "print('Average Recall: %0.2f +/- (%0.1f) %%' % (Recall_Score.mean()*100, Recall_Score.std()*100))\n",
    "print('Average F1-Score: %0.2f +/- (%0.1f) %%' % (F1_Score.mean()*100, F1_Score.std()*100))\n",
    "CM = confusion_matrix(y_test, predicted_label)\n",
    "print(CM)"
   ]
  },
  {
   "cell_type": "code",
   "execution_count": 106,
   "metadata": {},
   "outputs": [
    {
     "name": "stdout",
     "output_type": "stream",
     "text": [
      "Before OverSampling, counts of label '1': 4558\n",
      "Before OverSampling, counts of label '0': 18369 \n",
      "\n",
      "After OverSampling, the shape of train_X: (36738, 12)\n",
      "After OverSampling, the shape of train_y: (36738,) \n",
      "\n",
      "After OverSampling, counts of label '1': 18369\n",
      "After OverSampling, counts of label '0': 18369\n"
     ]
    }
   ],
   "source": [
    "# Smote\n",
    "from imblearn.over_sampling import SMOTE\n",
    "print(\"Before OverSampling, counts of label '1': {}\".format(sum(y_train==1)))\n",
    "print(\"Before OverSampling, counts of label '0': {} \\n\".format(sum(y_train==0)))\n",
    "\n",
    "sm = SMOTE(random_state=2)\n",
    "X_train_res, y_train_res = sm.fit_sample(X_train, y_train.ravel())\n",
    "\n",
    "print('After OverSampling, the shape of train_X: {}'.format(X_train_res.shape))\n",
    "print('After OverSampling, the shape of train_y: {} \\n'.format(y_train_res.shape))\n",
    "\n",
    "print(\"After OverSampling, counts of label '1': {}\".format(sum(y_train_res==1)))\n",
    "print(\"After OverSampling, counts of label '0': {}\".format(sum(y_train_res==0)))"
   ]
  },
  {
   "cell_type": "code",
   "execution_count": 107,
   "metadata": {},
   "outputs": [],
   "source": [
    "clf = []\n",
    "clf = SVC(kernel='rbf')\n",
    "clf.fit(X_train_res, y_train_res)\n",
    "predicted_label = clf.predict(X_test)"
   ]
  },
  {
   "cell_type": "code",
   "execution_count": 108,
   "metadata": {},
   "outputs": [
    {
     "name": "stdout",
     "output_type": "stream",
     "text": [
      "Average Accuracy: 76.48 +/- (0.0) %\n",
      "Average Precision: 64.80 +/- (0.0) %\n",
      "Average Recall: 67.02 +/- (0.0) %\n",
      "Average F1-Score: 65.66 +/- (0.0) %\n",
      "[[3801  796]\n",
      " [ 552  583]]\n"
     ]
    }
   ],
   "source": [
    "Accuracy_Score = accuracy_score(y_test, predicted_label)\n",
    "Precision_Score = precision_score(y_test, predicted_label,  average=\"macro\")\n",
    "Recall_Score = recall_score(y_test, predicted_label,  average=\"macro\")\n",
    "F1_Score = f1_score(y_test, predicted_label,  average=\"macro\")\n",
    "\n",
    "print('Average Accuracy: %0.2f +/- (%0.1f) %%' % (Accuracy_Score.mean()*100, Accuracy_Score.std()*100))\n",
    "print('Average Precision: %0.2f +/- (%0.1f) %%' % (Precision_Score.mean()*100, Precision_Score.std()*100))\n",
    "print('Average Recall: %0.2f +/- (%0.1f) %%' % (Recall_Score.mean()*100, Recall_Score.std()*100))\n",
    "print('Average F1-Score: %0.2f +/- (%0.1f) %%' % (F1_Score.mean()*100, F1_Score.std()*100))\n",
    "CM = confusion_matrix(y_test, predicted_label)\n",
    "print(CM)"
   ]
  },
  {
   "cell_type": "markdown",
   "metadata": {},
   "source": [
    "###### Logistic regression"
   ]
  },
  {
   "cell_type": "code",
   "execution_count": 109,
   "metadata": {},
   "outputs": [],
   "source": [
    "clf = linear_model.LogisticRegression()\n",
    "clf.fit(X_train, y_train)\n",
    "predicted_label = clf.predict(X_test)"
   ]
  },
  {
   "cell_type": "code",
   "execution_count": 110,
   "metadata": {},
   "outputs": [
    {
     "name": "stdout",
     "output_type": "stream",
     "text": [
      "Average Accuracy: 81.07 +/- (0.0) %\n",
      "Average Precision: 71.27 +/- (0.0) %\n",
      "Average Recall: 55.29 +/- (0.0) %\n",
      "Average F1-Score: 55.06 +/- (0.0) %\n",
      "[[4504   93]\n",
      " [ 992  143]]\n"
     ]
    }
   ],
   "source": [
    "Accuracy_Score = accuracy_score(y_test, predicted_label)\n",
    "Precision_Score = precision_score(y_test, predicted_label,  average=\"macro\")\n",
    "Recall_Score = recall_score(y_test, predicted_label,  average=\"macro\")\n",
    "F1_Score = f1_score(y_test, predicted_label,  average=\"macro\")\n",
    "\n",
    "print('Average Accuracy: %0.2f +/- (%0.1f) %%' % (Accuracy_Score.mean()*100, Accuracy_Score.std()*100))\n",
    "print('Average Precision: %0.2f +/- (%0.1f) %%' % (Precision_Score.mean()*100, Precision_Score.std()*100))\n",
    "print('Average Recall: %0.2f +/- (%0.1f) %%' % (Recall_Score.mean()*100, Recall_Score.std()*100))\n",
    "print('Average F1-Score: %0.2f +/- (%0.1f) %%' % (F1_Score.mean()*100, F1_Score.std()*100))\n",
    "CM = confusion_matrix(y_test, predicted_label)\n",
    "print(CM)"
   ]
  },
  {
   "cell_type": "code",
   "execution_count": 111,
   "metadata": {},
   "outputs": [],
   "source": [
    "clf = RandomForestClassifier(n_estimators=500, min_samples_leaf=5)\n",
    "clf.fit(X_train,y_train)\n",
    "predicted_label = clf.predict(X_test)"
   ]
  },
  {
   "cell_type": "code",
   "execution_count": 112,
   "metadata": {},
   "outputs": [
    {
     "name": "stdout",
     "output_type": "stream",
     "text": [
      "Average Accuracy: 81.28 +/- (0.0) %\n",
      "Average Precision: 69.89 +/- (0.0) %\n",
      "Average Recall: 60.26 +/- (0.0) %\n",
      "Average F1-Score: 62.04 +/- (0.0) %\n",
      "[[4370  227]\n",
      " [ 846  289]]\n"
     ]
    }
   ],
   "source": [
    "Accuracy_Score = accuracy_score(y_test, predicted_label)\n",
    "Precision_Score = precision_score(y_test, predicted_label,  average=\"macro\")\n",
    "Recall_Score = recall_score(y_test, predicted_label,  average=\"macro\")\n",
    "F1_Score = f1_score(y_test, predicted_label,  average=\"macro\")\n",
    "\n",
    "print('Average Accuracy: %0.2f +/- (%0.1f) %%' % (Accuracy_Score.mean()*100, Accuracy_Score.std()*100))\n",
    "print('Average Precision: %0.2f +/- (%0.1f) %%' % (Precision_Score.mean()*100, Precision_Score.std()*100))\n",
    "print('Average Recall: %0.2f +/- (%0.1f) %%' % (Recall_Score.mean()*100, Recall_Score.std()*100))\n",
    "print('Average F1-Score: %0.2f +/- (%0.1f) %%' % (F1_Score.mean()*100, F1_Score.std()*100))\n",
    "CM = confusion_matrix(y_test, predicted_label)\n",
    "print(CM)"
   ]
  },
  {
   "cell_type": "markdown",
   "metadata": {},
   "source": [
    "##### Xgboost"
   ]
  },
  {
   "cell_type": "code",
   "execution_count": 113,
   "metadata": {
    "scrolled": true
   },
   "outputs": [
    {
     "name": "stdout",
     "output_type": "stream",
     "text": [
      "[0]\teval-error:0.181438\teval-logloss:0.576564\ttrain-error:0.168099\ttrain-logloss:0.570179\n",
      "[1]\teval-error:0.181786\teval-logloss:0.515169\ttrain-error:0.16426\ttrain-logloss:0.503955\n",
      "[2]\teval-error:0.181263\teval-logloss:0.480927\ttrain-error:0.16426\ttrain-logloss:0.465636\n",
      "[3]\teval-error:0.180565\teval-logloss:0.460824\ttrain-error:0.163083\ttrain-logloss:0.441781\n",
      "[4]\teval-error:0.182484\teval-logloss:0.449558\ttrain-error:0.162385\ttrain-logloss:0.426252\n",
      "[5]\teval-error:0.181263\teval-logloss:0.443812\ttrain-error:0.161382\ttrain-logloss:0.416835\n"
     ]
    }
   ],
   "source": [
    "dtrain = xgb.DMatrix(X_train, label=y_train)\n",
    "dtest = xgb.DMatrix(X_test, label=y_test)\n",
    "num_round = 6\n",
    "evallist  = [(dtest,'eval'), (dtrain,'train')]\n",
    "param = {'objective':'binary:logistic', 'silent':1, 'eval_metric': ['error', 'logloss']}\n",
    "clf = xgb.train( param, dtrain, num_round, evallist )"
   ]
  },
  {
   "cell_type": "code",
   "execution_count": 114,
   "metadata": {},
   "outputs": [],
   "source": [
    "predicted_label = clf.predict(dtest)\n",
    "predicted_label = [round(value) for value in predicted_label]"
   ]
  },
  {
   "cell_type": "code",
   "execution_count": 115,
   "metadata": {
    "collapsed": true
   },
   "outputs": [
    {
     "name": "stdout",
     "output_type": "stream",
     "text": [
      "Average Accuracy: 81.87 +/- (0.0) %\n",
      "Average Precision: 72.01 +/- (0.0) %\n",
      "Average Recall: 60.43 +/- (0.0) %\n",
      "Average F1-Score: 62.36 +/- (0.0) %\n",
      "[[4410  187]\n",
      " [ 852  283]]\n"
     ]
    }
   ],
   "source": [
    "Accuracy_Score = accuracy_score(y_test, predicted_label)\n",
    "Precision_Score = precision_score(y_test, predicted_label,  average=\"macro\")\n",
    "Recall_Score = recall_score(y_test, predicted_label,  average=\"macro\")\n",
    "F1_Score = f1_score(y_test, predicted_label,  average=\"macro\")\n",
    "\n",
    "print('Average Accuracy: %0.2f +/- (%0.1f) %%' % (Accuracy_Score.mean()*100, Accuracy_Score.std()*100))\n",
    "print('Average Precision: %0.2f +/- (%0.1f) %%' % (Precision_Score.mean()*100, Precision_Score.std()*100))\n",
    "print('Average Recall: %0.2f +/- (%0.1f) %%' % (Recall_Score.mean()*100, Recall_Score.std()*100))\n",
    "print('Average F1-Score: %0.2f +/- (%0.1f) %%' % (F1_Score.mean()*100, F1_Score.std()*100))\n",
    "CM = confusion_matrix(y_test, predicted_label)\n",
    "print(CM)"
   ]
  },
  {
   "cell_type": "code",
   "execution_count": 116,
   "metadata": {},
   "outputs": [],
   "source": [
    "from keras.models import Sequential\n",
    "from keras.layers.core import Dense, Activation, Dropout"
   ]
  },
  {
   "cell_type": "code",
   "execution_count": 128,
   "metadata": {},
   "outputs": [],
   "source": [
    "input_dim = X_train.shape[1]\n",
    "\n",
    "model = Sequential()\n",
    "model.add(Dense(256, input_shape=(input_dim,), activation='relu'))\n",
    "model.add(Dense(256, activation='relu'))\n",
    "model.add(Dense(64, activation='relu'))\n",
    "model.add(Dense(64, activation='relu'))\n",
    "model.add(Dense(64, activation='relu'))\n",
    "model.add(Dense(64, activation='relu'))\n",
    "model.add(Dense(1,  activation='sigmoid'))"
   ]
  },
  {
   "cell_type": "code",
   "execution_count": 129,
   "metadata": {},
   "outputs": [],
   "source": [
    "model.compile(optimizer='adam', loss='binary_crossentropy', metrics=['accuracy'])"
   ]
  },
  {
   "cell_type": "code",
   "execution_count": 130,
   "metadata": {},
   "outputs": [],
   "source": [
    "from keras.callbacks import Callback\n",
    "\n",
    "class BatchLogger(Callback):\n",
    "    def on_train_begin(self, epoch, logs={}):\n",
    "        self.log_values = {}\n",
    "        for k in self.params['metrics']:\n",
    "            self.log_values[k] = []\n",
    "\n",
    "    def on_epoch_end(self, batch, logs={}):\n",
    "        for k in self.params['metrics']:\n",
    "            if k in logs:\n",
    "                self.log_values[k].append(logs[k])\n",
    "    \n",
    "    def get_values(self, metric_name, window):\n",
    "        d =  pd.Series(self.log_values[metric_name])\n",
    "        return d.rolling(window,center=False).mean()\n",
    "\n",
    "bl = BatchLogger()"
   ]
  },
  {
   "cell_type": "code",
   "execution_count": 131,
   "metadata": {},
   "outputs": [
    {
     "name": "stdout",
     "output_type": "stream",
     "text": [
      "Train on 22927 samples, validate on 5732 samples\n",
      "Epoch 1/5\n",
      "22927/22927 [==============================] - 4s 181us/step - loss: 0.4437 - acc: 0.8204 - val_loss: 0.4465 - val_acc: 0.8145\n",
      "Epoch 2/5\n",
      "22927/22927 [==============================] - 4s 161us/step - loss: 0.4335 - acc: 0.8252 - val_loss: 0.4415 - val_acc: 0.8179\n",
      "Epoch 3/5\n",
      "22927/22927 [==============================] - 3s 131us/step - loss: 0.4314 - acc: 0.8269 - val_loss: 0.4380 - val_acc: 0.8205\n",
      "Epoch 4/5\n",
      "22927/22927 [==============================] - 3s 125us/step - loss: 0.4290 - acc: 0.8271 - val_loss: 0.4392 - val_acc: 0.8240\n",
      "Epoch 5/5\n",
      "22927/22927 [==============================] - 3s 122us/step - loss: 0.4284 - acc: 0.8271 - val_loss: 0.4407 - val_acc: 0.8226\n"
     ]
    }
   ],
   "source": [
    "history = model.fit(\n",
    "              np.array(X_train), np.array(y_train),\n",
    "              batch_size=25, epochs=5, verbose=1, callbacks=[bl],\n",
    "              validation_data=(np.array(X_test), np.array(y_test)))"
   ]
  },
  {
   "cell_type": "code",
   "execution_count": 132,
   "metadata": {},
   "outputs": [
    {
     "name": "stdout",
     "output_type": "stream",
     "text": [
      "Test log loss: 0.4407078024813618\n",
      "Test accuracy: 0.8225750174459177\n"
     ]
    }
   ],
   "source": [
    "score = model.evaluate(np.array(X_test), np.array(y_test), verbose=0)\n",
    "print('Test log loss:', score[0])\n",
    "print('Test accuracy:', score[1])"
   ]
  },
  {
   "cell_type": "markdown",
   "metadata": {},
   "source": [
    "### Appendix"
   ]
  },
  {
   "cell_type": "code",
   "execution_count": 122,
   "metadata": {},
   "outputs": [
    {
     "data": {
      "text/plain": [
       "Text(0.5,1,'Class Counts')"
      ]
     },
     "execution_count": 122,
     "metadata": {},
     "output_type": "execute_result"
    },
    {
     "data": {
      "image/png": "[encoded data removed]",
      "text/plain": [
       "<Figure size 432x288 with 1 Axes>"
      ]
     },
     "metadata": {},
     "output_type": "display_data"
    }
   ],
   "source": [
    "ax = sns.countplot(x = \"defaultp_next_month\", data = credit_data)\n",
    "ax.set(xlabel='Count', ylabel='Default payment next month')\n",
    "plt.title(\"Class Counts\")"
   ]
  },
  {
   "cell_type": "code",
   "execution_count": 123,
   "metadata": {},
   "outputs": [
    {
     "data": {
      "text/plain": [
       "22.12"
      ]
     },
     "execution_count": 123,
     "metadata": {},
     "output_type": "execute_result"
    }
   ],
   "source": [
    "eda_credit_data[\"defaultp_next_month\"].value_counts()[1] / eda_credit_data[\"defaultp_next_month\"].count() *  100"
   ]
  },
  {
   "cell_type": "code",
   "execution_count": 124,
   "metadata": {
    "scrolled": true
   },
   "outputs": [
    {
     "data": {
      "text/plain": [
       "6636"
      ]
     },
     "execution_count": 124,
     "metadata": {},
     "output_type": "execute_result"
    }
   ],
   "source": [
    "eda_credit_data[\"defaultp_next_month\"].value_counts()[1]"
   ]
  },
  {
   "cell_type": "markdown",
   "metadata": {},
   "source": [
    "##### The data set is imbalanced. There are only around 22% of defaulters instant"
   ]
  },
  {
   "cell_type": "code",
   "execution_count": 125,
   "metadata": {},
   "outputs": [
    {
     "data": {
      "text/plain": [
       "Text(0.5,1,'Gender Counts')"
      ]
     },
     "execution_count": 125,
     "metadata": {},
     "output_type": "execute_result"
    },
    {
     "data": {
      "image/png": "[encoded data removed]",
      "text/plain": [
       "<Figure size 432x288 with 1 Axes>"
      ]
     },
     "metadata": {},
     "output_type": "display_data"
    }
   ],
   "source": [
    "ax = sns.countplot(x = \"gender\", data = credit_data)\n",
    "ax.set(xlabel='Count', ylabel='Default payment next month')\n",
    "plt.title(\"Gender Counts\")"
   ]
  },
  {
   "cell_type": "markdown",
   "metadata": {},
   "source": [
    "##### There are more number of females then males in our dataset"
   ]
  },
  {
   "cell_type": "code",
   "execution_count": 126,
   "metadata": {},
   "outputs": [
    {
     "data": {
      "text/plain": [
       "Text(0.5,0,'Overall Credit')"
      ]
     },
     "execution_count": 126,
     "metadata": {},
     "output_type": "execute_result"
    },
    {
     "data": {
      "image/png": "[encoded data removed]",
      "text/plain": [
       "<Figure size 432x288 with 1 Axes>"
      ]
     },
     "metadata": {},
     "output_type": "display_data"
    }
   ],
   "source": [
    "sns.boxplot( credit_data.overall_credit)\n",
    "plt.title( \"Boxplot of Overall credit\")\n",
    "plt.xlabel( \"Overall Credit\")"
   ]
  },
  {
   "cell_type": "code",
   "execution_count": 127,
   "metadata": {},
   "outputs": [
    {
     "data": {
      "text/plain": [
       "Text(0.5,0,'Amount of Paid Payment in September')"
      ]
     },
     "execution_count": 127,
     "metadata": {},
     "output_type": "execute_result"
    },
    {
     "data": {
      "image/png": "[encoded data removed]",
      "text/plain": [
       "<Figure size 432x288 with 1 Axes>"
      ]
     },
     "metadata": {},
     "output_type": "display_data"
    }
   ],
   "source": [
    "sns.boxplot( eda_credit_data.pp_sept)\n",
    "plt.title( \"Boxplot of Paid Payment in September\")\n",
    "plt.xlabel(\"Amount of Paid Payment in September\")"
   ]
  }
 ],
 "metadata": {
  "anaconda-cloud": {},
  "kernelspec": {
   "display_name": "Python 3",
   "language": "python",
   "name": "python3"
  },
  "language_info": {
   "codemirror_mode": {
    "name": "ipython",
    "version": 3
   },
   "file_extension": ".py",
   "mimetype": "text/x-python",
   "name": "python",
   "nbconvert_exporter": "python",
   "pygments_lexer": "ipython3",
   "version": "3.6.5"
  }
 },
 "nbformat": 4,
 "nbformat_minor": 1
}
